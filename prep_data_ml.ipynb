{
 "cells": [
  {
   "cell_type": "code",
   "execution_count": 1,
   "metadata": {},
   "outputs": [],
   "source": [
    "import pandas as pd\n",
    "import os"
   ]
  },
  {
   "cell_type": "code",
   "execution_count": 2,
   "metadata": {},
   "outputs": [],
   "source": [
    "ORIGINAL_DATA_DIR = \"data/original/\"\n",
    "\n",
    "ORIGINAL_GG = \"data/original/golden_globes.csv\"\n",
    "ORIGINAL_OSCAR = \"data/original/oscar.csv\"\n",
    "ORIGINAL_SAG = \"data/original/sag.csv\"\n",
    "ORIGINAL_BAFTA = \"data/original/bafta.csv\"\n",
    "ORIGINAL_CRITICS = \"data/original/critics.csv\"\n",
    "\n",
    "TRANS_DATA_DIR = \"data/transformed/\""
   ]
  },
  {
   "cell_type": "code",
   "execution_count": 3,
   "metadata": {},
   "outputs": [],
   "source": [
    "df_gg = pd.read_csv(ORIGINAL_GG)\n",
    "df_oscars = pd.read_csv(ORIGINAL_OSCAR)\n",
    "df_sag = pd.read_csv(ORIGINAL_SAG)\n",
    "df_bafta = pd.read_csv(ORIGINAL_BAFTA)\n",
    "df_critics = pd.read_csv(ORIGINAL_CRITICS)"
   ]
  },
  {
   "cell_type": "code",
   "execution_count": 4,
   "metadata": {},
   "outputs": [],
   "source": [
    "df_gg_2014_2024 = df_gg[(df_gg['ano'] >= 2014) & (df_gg['ano'] <= 2024)]\n",
    "\n",
    "df_oscars_2014_2024 = df_oscars[(df_oscars['ano'] >= 2014) & (df_oscars['ano'] <= 2024)]\n",
    "\n",
    "df_sag_2014_2024 = df_sag[(df_sag['ano'] >= 2014) & (df_sag['ano'] <= 2024)]\n",
    "\n",
    "df_bafta_2014_2024 = df_bafta[(df_bafta['ano'] >= 2014) & (df_bafta['ano'] <= 2024)]\n",
    "\n",
    "df_critics_2014_2024 = df_critics[(df_critics['ano'] >= 2014) & (df_critics['ano'] <= 2024)]"
   ]
  },
  {
   "cell_type": "code",
   "execution_count": null,
   "metadata": {},
   "outputs": [],
   "source": [
    "#copias explicitas para evitar o SettingWithCopyWarning\n",
    "df_gg_2014_2024 = df_gg_2014_2024.copy()\n",
    "df_oscars_2014_2024 = df_oscars_2014_2024.copy()\n",
    "df_sag_2014_2024 = df_sag_2014_2024.copy()\n",
    "df_bafta_2014_2024 = df_bafta_2014_2024.copy()\n",
    "df_critics_2014_2024 = df_critics_2014_2024.copy()\n",
    "\n",
    "#criando colunas de indicacao e rennomeando ganhou\n",
    "df_gg_2014_2024['indicada_gg'] = True\n",
    "df_gg_2014_2024.rename(columns={'ganhou': 'ganhou_gg'}, inplace=True)\n",
    "\n",
    "\n",
    "df_oscars_2014_2024['indicada_os'] = True\n",
    "df_oscars_2014_2024.rename(columns={'ganhou': 'ganhou_os'}, inplace=True)\n",
    "\n",
    "df_sag_2014_2024['indicada_sag'] = True\n",
    "df_sag_2014_2024.rename(columns={'ganhou': 'ganhou_sag'}, inplace=True)\n",
    "\n",
    "df_bafta_2014_2024['indicada_bafta'] = True\n",
    "df_bafta_2014_2024.rename(columns={'ganhou': 'ganhou_bafta'}, inplace=True)\n",
    "\n",
    "df_critics_2014_2024['indicada_critics'] = True\n",
    "df_critics_2014_2024.rename(columns={'ganhou': 'ganhou_critics'}, inplace=True)"
   ]
  },
  {
   "cell_type": "code",
   "execution_count": null,
   "metadata": {},
   "outputs": [
    {
     "data": {
      "text/html": [
       "<div>\n",
       "<style scoped>\n",
       "    .dataframe tbody tr th:only-of-type {\n",
       "        vertical-align: middle;\n",
       "    }\n",
       "\n",
       "    .dataframe tbody tr th {\n",
       "        vertical-align: top;\n",
       "    }\n",
       "\n",
       "    .dataframe thead th {\n",
       "        text-align: right;\n",
       "    }\n",
       "</style>\n",
       "<table border=\"1\" class=\"dataframe\">\n",
       "  <thead>\n",
       "    <tr style=\"text-align: right;\">\n",
       "      <th></th>\n",
       "      <th>ano</th>\n",
       "      <th>nome</th>\n",
       "      <th>personagem</th>\n",
       "      <th>filme</th>\n",
       "      <th>ganhou_gg</th>\n",
       "      <th>indicada_gg</th>\n",
       "    </tr>\n",
       "  </thead>\n",
       "  <tbody>\n",
       "    <tr>\n",
       "      <th>320</th>\n",
       "      <td>2014</td>\n",
       "      <td>Julianne Moore</td>\n",
       "      <td>Dr. Alice Howland</td>\n",
       "      <td>Still Alice</td>\n",
       "      <td>True</td>\n",
       "      <td>True</td>\n",
       "    </tr>\n",
       "    <tr>\n",
       "      <th>321</th>\n",
       "      <td>2014</td>\n",
       "      <td>Jennifer Aniston</td>\n",
       "      <td>Claire Bennett</td>\n",
       "      <td>Cake</td>\n",
       "      <td>False</td>\n",
       "      <td>True</td>\n",
       "    </tr>\n",
       "    <tr>\n",
       "      <th>322</th>\n",
       "      <td>2014</td>\n",
       "      <td>Felicity Jones</td>\n",
       "      <td>Jane Hawking</td>\n",
       "      <td>The Theory of Everything</td>\n",
       "      <td>False</td>\n",
       "      <td>True</td>\n",
       "    </tr>\n",
       "    <tr>\n",
       "      <th>323</th>\n",
       "      <td>2014</td>\n",
       "      <td>Rosamund Pike</td>\n",
       "      <td>Amy Elliott-Dunne</td>\n",
       "      <td>Gone Girl</td>\n",
       "      <td>False</td>\n",
       "      <td>True</td>\n",
       "    </tr>\n",
       "    <tr>\n",
       "      <th>324</th>\n",
       "      <td>2014</td>\n",
       "      <td>Reese Witherspoon</td>\n",
       "      <td>Cheryl Strayed</td>\n",
       "      <td>Wild</td>\n",
       "      <td>False</td>\n",
       "      <td>True</td>\n",
       "    </tr>\n",
       "  </tbody>\n",
       "</table>\n",
       "</div>"
      ],
      "text/plain": [
       "      ano               nome         personagem                     filme  \\\n",
       "320  2014     Julianne Moore  Dr. Alice Howland               Still Alice   \n",
       "321  2014   Jennifer Aniston     Claire Bennett                      Cake   \n",
       "322  2014     Felicity Jones       Jane Hawking  The Theory of Everything   \n",
       "323  2014      Rosamund Pike  Amy Elliott-Dunne                 Gone Girl   \n",
       "324  2014  Reese Witherspoon     Cheryl Strayed                      Wild   \n",
       "\n",
       "     ganhou_gg  indicada_gg  \n",
       "320       True         True  \n",
       "321      False         True  \n",
       "322      False         True  \n",
       "323      False         True  \n",
       "324      False         True  "
      ]
     },
     "execution_count": 186,
     "metadata": {},
     "output_type": "execute_result"
    }
   ],
   "source": [
    "df_bafta_2014_2024.head()"
   ]
  },
  {
   "cell_type": "code",
   "execution_count": null,
   "metadata": {},
   "outputs": [
    {
     "name": "stdout",
     "output_type": "stream",
     "text": [
      "      ano               nome                personagem               filme  \\\n",
      "101  2014     Julianne Moore               Still Alice   Dr. Alice Howland   \n",
      "102  2014   Jennifer Aniston                      Cake      Claire Bennett   \n",
      "103  2014     Felicity Jones  The Theory of Everything  Jane Wilde Hawking   \n",
      "104  2014      Rosamund Pike                 Gone Girl   Amy Elliott-Dunne   \n",
      "105  2014  Reese Witherspoon                      Wild      Cheryl Strayed   \n",
      "\n",
      "     ganhou_sag  indicada_sag  \n",
      "101        True          True  \n",
      "102       False          True  \n",
      "103       False          True  \n",
      "104       False          True  \n",
      "105       False          True  \n"
     ]
    }
   ],
   "source": [
    "print(df_critics_2014_2024.head())"
   ]
  },
  {
   "cell_type": "code",
   "execution_count": null,
   "metadata": {},
   "outputs": [
    {
     "name": "stdout",
     "output_type": "stream",
     "text": [
      "Quantidade de 'ganhou_gg' True: 11\n",
      "Quantidade de 'ganhou_os' True: 10\n",
      "Quantidade de 'ganhou_sag' True: 11\n"
     ]
    }
   ],
   "source": [
    "ganhou_gg_count = df_gg_2014_2024['ganhou_gg'].sum()\n",
    "ganhou_oscar_count = df_oscars_2014_2024['ganhou_os'].sum()\n",
    "ganhou_sag_count = df_sag_2014_2024['ganhou_sag'].sum()\n",
    "ganhou_bafta_count = df_bafta_2014_2024['ganhou_bafta'].sum()\n",
    "ganhou_critics_count = df_critics_2014_2024['ganhou_critics'].sum()\n",
    "\n",
    "print(f\"Quantidade de 'ganhou_gg' True: {ganhou_gg_count}\")\n",
    "print(f\"Quantidade de 'ganhou_os' True: {ganhou_oscar_count}\")\n",
    "print(f\"Quantidade de 'ganhou_sag' True: {ganhou_sag_count}\")\n",
    "print(f\"Quantidade de 'ganhou_bafta' True: {ganhou_bafta_count}\")\n",
    "print(f\"Quantidade de 'ganhou_critics' True: {ganhou_critics_count}\")"
   ]
  },
  {
   "cell_type": "code",
   "execution_count": null,
   "metadata": {},
   "outputs": [
    {
     "data": {
      "text/plain": [
       "(55, 6)"
      ]
     },
     "execution_count": 189,
     "metadata": {},
     "output_type": "execute_result"
    }
   ],
   "source": [
    "df_oscars_2014_2024.shape"
   ]
  },
  {
   "cell_type": "markdown",
   "metadata": {},
   "source": [
    "Pivotar a tabela"
   ]
  },
  {
   "cell_type": "code",
   "execution_count": null,
   "metadata": {},
   "outputs": [],
   "source": [
    "def processar_df(df, indicada_col, ganhou_col):\n",
    "    df_pivot = pd.pivot_table(\n",
    "        df,\n",
    "        index='nome',\n",
    "        columns='ano',\n",
    "        values=indicada_col,  \n",
    "        aggfunc='any',  \n",
    "        fill_value=False\n",
    "    )\n",
    "\n",
    "    df_pivot.columns = [f'participou_{ano}' for ano in df_pivot.columns]\n",
    "\n",
    "    indicacoes = df.groupby('nome')[indicada_col].max()\n",
    "    vitorias = df.groupby('nome')[ganhou_col].max()\n",
    "\n",
    "    df_final = pd.concat([df_pivot, indicacoes, vitorias], axis=1)\n",
    "    return df_final\n",
    "\n",
    "\n",
    "dfs = [\n",
    "    (df_gg_2014_2024, 'indicada_gg', 'ganhou_gg'),\n",
    "    (df_oscars_2014_2024, 'indicada_os', 'ganhou_os'),\n",
    "    (df_sag_2014_2024, 'indicada_sag', 'ganhou_sag'),\n",
    "    (df_bafta_2014_2024, 'indicada_bafta', 'ganhou_bafta'),\n",
    "    (df_critics_2014_2024, 'indicada_critics', 'ganhou_critics')\n",
    "] \n",
    "dfs_final = [processar_df(df, indicada_col, ganhou_col) for df, indicada_col, ganhou_col in dfs]"
   ]
  },
  {
   "cell_type": "code",
   "execution_count": null,
   "metadata": {},
   "outputs": [],
   "source": [
    "erro"
   ]
  },
  {
   "cell_type": "code",
   "execution_count": null,
   "metadata": {},
   "outputs": [
    {
     "data": {
      "text/plain": [
       "(46, 13)"
      ]
     },
     "execution_count": 191,
     "metadata": {},
     "output_type": "execute_result"
    }
   ],
   "source": [
    "dfs_final[1].shape"
   ]
  },
  {
   "cell_type": "code",
   "execution_count": null,
   "metadata": {},
   "outputs": [
    {
     "data": {
      "text/html": [
       "<div>\n",
       "<style scoped>\n",
       "    .dataframe tbody tr th:only-of-type {\n",
       "        vertical-align: middle;\n",
       "    }\n",
       "\n",
       "    .dataframe tbody tr th {\n",
       "        vertical-align: top;\n",
       "    }\n",
       "\n",
       "    .dataframe thead th {\n",
       "        text-align: right;\n",
       "    }\n",
       "</style>\n",
       "<table border=\"1\" class=\"dataframe\">\n",
       "  <thead>\n",
       "    <tr style=\"text-align: right;\">\n",
       "      <th></th>\n",
       "      <th>ano</th>\n",
       "      <th>nome</th>\n",
       "      <th>personagem</th>\n",
       "      <th>filme</th>\n",
       "      <th>ganhou_os_x</th>\n",
       "      <th>indicada_os_x</th>\n",
       "      <th>participou_2014</th>\n",
       "      <th>participou_2015</th>\n",
       "      <th>participou_2016</th>\n",
       "      <th>participou_2017</th>\n",
       "      <th>participou_2018</th>\n",
       "      <th>participou_2019</th>\n",
       "      <th>participou_2020</th>\n",
       "      <th>participou_2021</th>\n",
       "      <th>participou_2022</th>\n",
       "      <th>participou_2023</th>\n",
       "      <th>participou_2024</th>\n",
       "      <th>indicada_os_y</th>\n",
       "      <th>ganhou_os_y</th>\n",
       "      <th>_merge</th>\n",
       "    </tr>\n",
       "  </thead>\n",
       "  <tbody>\n",
       "  </tbody>\n",
       "</table>\n",
       "</div>"
      ],
      "text/plain": [
       "Empty DataFrame\n",
       "Columns: [ano, nome, personagem, filme, ganhou_os_x, indicada_os_x, participou_2014, participou_2015, participou_2016, participou_2017, participou_2018, participou_2019, participou_2020, participou_2021, participou_2022, participou_2023, participou_2024, indicada_os_y, ganhou_os_y, _merge]\n",
       "Index: []"
      ]
     },
     "execution_count": 192,
     "metadata": {},
     "output_type": "execute_result"
    }
   ],
   "source": [
    "#procurando as coitadas que o processo comeu\n",
    "merged_df = df_oscars_2014_2024.merge(dfs_final[1], on='nome', how='outer', indicator=True)\n",
    "diff_df = merged_df[merged_df['_merge'] != 'both']\n",
    "\n",
    "diff_df"
   ]
  },
  {
   "cell_type": "code",
   "execution_count": null,
   "metadata": {},
   "outputs": [
    {
     "name": "stdout",
     "output_type": "stream",
     "text": [
      "Quantidade de 'ganhou_gg' 1: 11\n",
      "Quantidade de 'ganhou_os' 1: 8\n",
      "Quantidade de 'ganhou_sag' 1: 11\n"
     ]
    }
   ],
   "source": [
    "ganhou_gg_count = dfs_final[0]['ganhou_gg'].sum()\n",
    "ganhou_oscar_count = dfs_final[1]['ganhou_os'].sum()\n",
    "ganhou_sag_count = dfs_final[2]['ganhou_sag'].sum()\n",
    "\n",
    "print(f\"Quantidade de 'ganhou_gg' 1: {ganhou_gg_count}\")\n",
    "print(f\"Quantidade de 'ganhou_os' 1: {ganhou_oscar_count}\")\n",
    "print(f\"Quantidade de 'ganhou_sag' 1: {ganhou_sag_count}\")"
   ]
  },
  {
   "cell_type": "code",
   "execution_count": null,
   "metadata": {},
   "outputs": [
    {
     "name": "stdout",
     "output_type": "stream",
     "text": [
      "GG: ganhou_gg\n",
      "Oscar: ganhou_os\n",
      "SAG: ganhou_sag\n"
     ]
    }
   ],
   "source": [
    "dfs_final[0].to_csv('data/transformed/gg_piv.csv')\n",
    "print('GG:', dfs_final[0].columns[-1])\n",
    "\n",
    "dfs_final[1].to_csv('data/transformed/oscar_piv.csv')\n",
    "print('Oscar:', dfs_final[1].columns[-1])\n",
    "\n",
    "dfs_final[2].to_csv('data/transformed/sag_piv.csv')\n",
    "print('SAG:', dfs_final[2].columns[-1])"
   ]
  }
 ],
 "metadata": {
  "kernelspec": {
   "display_name": "Python 3",
   "language": "python",
   "name": "python3"
  },
  "language_info": {
   "codemirror_mode": {
    "name": "ipython",
    "version": 3
   },
   "file_extension": ".py",
   "mimetype": "text/x-python",
   "name": "python",
   "nbconvert_exporter": "python",
   "pygments_lexer": "ipython3",
   "version": "3.11.9"
  }
 },
 "nbformat": 4,
 "nbformat_minor": 2
}
