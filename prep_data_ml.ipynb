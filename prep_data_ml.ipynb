{
 "cells": [
  {
   "cell_type": "code",
   "execution_count": 100,
   "metadata": {},
   "outputs": [],
   "source": [
    "import pandas as pd\n",
    "import os"
   ]
  },
  {
   "cell_type": "code",
   "execution_count": 101,
   "metadata": {},
   "outputs": [],
   "source": [
    "ORIGINAL_DATA_DIR = \"data/original/\"\n",
    "\n",
    "ORIGINAL_GG = \"data/original/gg_concatenado.csv\"\n",
    "ORIGINAL_OSCAR = \"data/original/oscar.csv\"\n",
    "ORIGINAL_SAG = \"data/original/sag.csv\"\n",
    "ORIGINAL_BAFTA = \"data/original/bafta.csv\"\n",
    "ORIGINAL_CRITICS = \"data/original/critics.csv\"\n",
    "\n",
    "TRANS_DATA_DIR = \"data/transformed/\""
   ]
  },
  {
   "cell_type": "code",
   "execution_count": 102,
   "metadata": {},
   "outputs": [],
   "source": [
    "df_gg = pd.read_csv(ORIGINAL_GG)\n",
    "df_oscars = pd.read_csv(ORIGINAL_OSCAR)\n",
    "df_sag = pd.read_csv(ORIGINAL_SAG)\n",
    "df_bafta = pd.read_csv(ORIGINAL_BAFTA)\n",
    "df_critics = pd.read_csv(ORIGINAL_CRITICS)"
   ]
  },
  {
   "cell_type": "code",
   "execution_count": 103,
   "metadata": {},
   "outputs": [],
   "source": [
    "df_gg_2014_2024 = df_gg[(df_gg['ano'] >= 2014) & (df_gg['ano'] <= 2024)]\n",
    "\n",
    "df_oscars_2014_2024 = df_oscars[(df_oscars['ano'] >= 2014) & (df_oscars['ano'] <= 2024)]\n",
    "\n",
    "df_sag_2014_2024 = df_sag[(df_sag['ano'] >= 2014) & (df_sag['ano'] <= 2024)]\n",
    "\n",
    "df_bafta_2014_2024 = df_bafta[(df_bafta['ano'] >= 2014) & (df_bafta['ano'] <= 2024)]\n",
    "\n",
    "df_critics_2014_2024 = df_critics[(df_critics['ano'] >= 2014) & (df_critics['ano'] <= 2024)]"
   ]
  },
  {
   "cell_type": "code",
   "execution_count": 104,
   "metadata": {},
   "outputs": [],
   "source": [
    "#copias explicitas para evitar o SettingWithCopyWarning\n",
    "df_gg_2014_2024 = df_gg_2014_2024.copy()\n",
    "df_oscars_2014_2024 = df_oscars_2014_2024.copy()\n",
    "df_sag_2014_2024 = df_sag_2014_2024.copy()\n",
    "df_bafta_2014_2024 = df_bafta_2014_2024.copy()\n",
    "df_critics_2014_2024 = df_critics_2014_2024.copy()\n",
    "\n",
    "#criando colunas de indicacao e rennomeando ganhou\n",
    "df_gg_2014_2024['indicada_gg'] = True\n",
    "df_gg_2014_2024.rename(columns={'ganhou': 'ganhou_gg'}, inplace=True)\n",
    "\n",
    "\n",
    "df_oscars_2014_2024['indicada_os'] = True\n",
    "df_oscars_2014_2024.rename(columns={'ganhou': 'ganhou_os'}, inplace=True)\n",
    "\n",
    "df_sag_2014_2024['indicada_sag'] = True\n",
    "df_sag_2014_2024.rename(columns={'ganhou': 'ganhou_sag'}, inplace=True)\n",
    "\n",
    "df_bafta_2014_2024['indicada_bafta'] = True\n",
    "df_bafta_2014_2024.rename(columns={'ganhou': 'ganhou_bafta'}, inplace=True)\n",
    "\n",
    "df_critics_2014_2024['indicada_critics'] = True\n",
    "df_critics_2014_2024.rename(columns={'ganhou': 'ganhou_critics'}, inplace=True)"
   ]
  },
  {
   "cell_type": "code",
   "execution_count": 105,
   "metadata": {},
   "outputs": [
    {
     "data": {
      "text/html": [
       "<div>\n",
       "<style scoped>\n",
       "    .dataframe tbody tr th:only-of-type {\n",
       "        vertical-align: middle;\n",
       "    }\n",
       "\n",
       "    .dataframe tbody tr th {\n",
       "        vertical-align: top;\n",
       "    }\n",
       "\n",
       "    .dataframe thead th {\n",
       "        text-align: right;\n",
       "    }\n",
       "</style>\n",
       "<table border=\"1\" class=\"dataframe\">\n",
       "  <thead>\n",
       "    <tr style=\"text-align: right;\">\n",
       "      <th></th>\n",
       "      <th>ano</th>\n",
       "      <th>nome</th>\n",
       "      <th>personagem</th>\n",
       "      <th>filme</th>\n",
       "      <th>ganhou_bafta</th>\n",
       "      <th>indicada_bafta</th>\n",
       "    </tr>\n",
       "  </thead>\n",
       "  <tbody>\n",
       "    <tr>\n",
       "      <th>19</th>\n",
       "      <td>2014</td>\n",
       "      <td>Julianne Moore</td>\n",
       "      <td>Dr. Alice Howland</td>\n",
       "      <td>Still Alice</td>\n",
       "      <td>True</td>\n",
       "      <td>True</td>\n",
       "    </tr>\n",
       "    <tr>\n",
       "      <th>20</th>\n",
       "      <td>2014</td>\n",
       "      <td>Amy Adams</td>\n",
       "      <td>Margaret Keane</td>\n",
       "      <td>Big Eyes</td>\n",
       "      <td>False</td>\n",
       "      <td>True</td>\n",
       "    </tr>\n",
       "    <tr>\n",
       "      <th>21</th>\n",
       "      <td>2014</td>\n",
       "      <td>Felicity Jones</td>\n",
       "      <td>Jane Wilde Hawking</td>\n",
       "      <td>The Theory of Everything</td>\n",
       "      <td>False</td>\n",
       "      <td>True</td>\n",
       "    </tr>\n",
       "    <tr>\n",
       "      <th>22</th>\n",
       "      <td>2014</td>\n",
       "      <td>Rosamund Pike</td>\n",
       "      <td>Amy Elliott-Dunne</td>\n",
       "      <td>Gone Girl</td>\n",
       "      <td>False</td>\n",
       "      <td>True</td>\n",
       "    </tr>\n",
       "    <tr>\n",
       "      <th>23</th>\n",
       "      <td>2014</td>\n",
       "      <td>Reese Witherspoon</td>\n",
       "      <td>Cheryl Strayed</td>\n",
       "      <td>Wild</td>\n",
       "      <td>False</td>\n",
       "      <td>True</td>\n",
       "    </tr>\n",
       "  </tbody>\n",
       "</table>\n",
       "</div>"
      ],
      "text/plain": [
       "     ano               nome          personagem                     filme  \\\n",
       "19  2014     Julianne Moore   Dr. Alice Howland               Still Alice   \n",
       "20  2014          Amy Adams      Margaret Keane                  Big Eyes   \n",
       "21  2014     Felicity Jones  Jane Wilde Hawking  The Theory of Everything   \n",
       "22  2014      Rosamund Pike   Amy Elliott-Dunne                 Gone Girl   \n",
       "23  2014  Reese Witherspoon      Cheryl Strayed                      Wild   \n",
       "\n",
       "    ganhou_bafta  indicada_bafta  \n",
       "19          True            True  \n",
       "20         False            True  \n",
       "21         False            True  \n",
       "22         False            True  \n",
       "23         False            True  "
      ]
     },
     "execution_count": 105,
     "metadata": {},
     "output_type": "execute_result"
    }
   ],
   "source": [
    "df_bafta_2014_2024.head()"
   ]
  },
  {
   "cell_type": "code",
   "execution_count": 106,
   "metadata": {},
   "outputs": [
    {
     "name": "stdout",
     "output_type": "stream",
     "text": [
      "     ano              nome          personagem                         filme  \\\n",
      "78  2014    Julianne Moore   Dr. Alice Howland              Still Alice \\r\\n   \n",
      "79  2014  Jennifer Aniston      Claire Bennett                      Cake\\r\\n   \n",
      "80  2014  Marion Cotillard          Sandra Bya       Two Days, One Night\\r\\n   \n",
      "81  2014    Felicity Jones  Jane Wilde Hawking  The Theory of Everything\\r\\n   \n",
      "82  2014     Rosamund Pike   Amy Elliott-Dunne                 Gone Girl\\r\\n   \n",
      "\n",
      "    ganhou_critics  indicada_critics  \n",
      "78            True              True  \n",
      "79           False              True  \n",
      "80           False              True  \n",
      "81           False              True  \n",
      "82           False              True  \n"
     ]
    }
   ],
   "source": [
    "print(df_critics_2014_2024.head())"
   ]
  },
  {
   "cell_type": "code",
   "execution_count": 107,
   "metadata": {},
   "outputs": [
    {
     "name": "stdout",
     "output_type": "stream",
     "text": [
      "Quantidade de 'ganhou_gg' True: 22\n",
      "Quantidade de 'ganhou_os' True: 10\n",
      "Quantidade de 'ganhou_sag' True: 11\n",
      "Quantidade de 'ganhou_bafta' True: 11\n",
      "Quantidade de 'ganhou_critics' True: 12\n"
     ]
    }
   ],
   "source": [
    "ganhou_gg_count = df_gg_2014_2024['ganhou_gg'].sum()\n",
    "ganhou_oscar_count = df_oscars_2014_2024['ganhou_os'].sum()\n",
    "ganhou_sag_count = df_sag_2014_2024['ganhou_sag'].sum()\n",
    "ganhou_bafta_count = df_bafta_2014_2024['ganhou_bafta'].sum()\n",
    "ganhou_critics_count = df_critics_2014_2024['ganhou_critics'].sum()\n",
    "\n",
    "print(f\"Quantidade de 'ganhou_gg' True: {ganhou_gg_count}\")\n",
    "print(f\"Quantidade de 'ganhou_os' True: {ganhou_oscar_count}\")\n",
    "print(f\"Quantidade de 'ganhou_sag' True: {ganhou_sag_count}\")\n",
    "print(f\"Quantidade de 'ganhou_bafta' True: {ganhou_bafta_count}\")\n",
    "print(f\"Quantidade de 'ganhou_critics' True: {ganhou_critics_count}\")"
   ]
  },
  {
   "cell_type": "code",
   "execution_count": 108,
   "metadata": {},
   "outputs": [
    {
     "data": {
      "text/plain": [
       "(55, 6)"
      ]
     },
     "execution_count": 108,
     "metadata": {},
     "output_type": "execute_result"
    }
   ],
   "source": [
    "df_oscars_2014_2024.shape"
   ]
  },
  {
   "cell_type": "code",
   "execution_count": 109,
   "metadata": {},
   "outputs": [],
   "source": [
    "dfs = [\n",
    "    (df_gg_2014_2024, 'indicada_gg', 'ganhou_gg'),\n",
    "    (df_oscars_2014_2024, 'indicada_os', 'ganhou_os'),\n",
    "    (df_sag_2014_2024, 'indicada_sag', 'ganhou_sag'),\n",
    "    (df_bafta_2014_2024, 'indicada_bafta', 'ganhou_bafta'),\n",
    "    (df_critics_2014_2024, 'indicada_critics', 'ganhou_critics')\n",
    "] "
   ]
  },
  {
   "cell_type": "markdown",
   "metadata": {},
   "source": [
    "Pivotar a tabela"
   ]
  },
  {
   "cell_type": "code",
   "execution_count": 110,
   "metadata": {},
   "outputs": [],
   "source": [
    "def processar_df(df, indicada_col, ganhou_col):\n",
    "    df_pivot = pd.pivot_table(\n",
    "        df,\n",
    "        index='nome',\n",
    "        columns='ano',\n",
    "        values=indicada_col,  \n",
    "        aggfunc='any',  \n",
    "        fill_value=False\n",
    "    )\n",
    "\n",
    "    df_pivot.columns = [f'participou_{ano}' for ano in df_pivot.columns]\n",
    "\n",
    "    indicacoes = df.groupby('nome')[indicada_col].max()\n",
    "    vitorias = df.groupby('nome')[ganhou_col].max()\n",
    "\n",
    "    df_final = pd.concat([df_pivot, indicacoes, vitorias], axis=1)\n",
    "    return df_final\n",
    "\n",
    "dfs_final = [processar_df(df, indicada_col, ganhou_col) for df, indicada_col, ganhou_col in dfs]"
   ]
  },
  {
   "cell_type": "code",
   "execution_count": 111,
   "metadata": {},
   "outputs": [
    {
     "data": {
      "text/plain": [
       "(55, 6)"
      ]
     },
     "execution_count": 111,
     "metadata": {},
     "output_type": "execute_result"
    }
   ],
   "source": [
    "df_oscars_2014_2024.shape"
   ]
  },
  {
   "cell_type": "code",
   "execution_count": 112,
   "metadata": {},
   "outputs": [
    {
     "data": {
      "text/html": [
       "<div>\n",
       "<style scoped>\n",
       "    .dataframe tbody tr th:only-of-type {\n",
       "        vertical-align: middle;\n",
       "    }\n",
       "\n",
       "    .dataframe tbody tr th {\n",
       "        vertical-align: top;\n",
       "    }\n",
       "\n",
       "    .dataframe thead th {\n",
       "        text-align: right;\n",
       "    }\n",
       "</style>\n",
       "<table border=\"1\" class=\"dataframe\">\n",
       "  <thead>\n",
       "    <tr style=\"text-align: right;\">\n",
       "      <th></th>\n",
       "      <th>ano</th>\n",
       "      <th>nome</th>\n",
       "      <th>personagem</th>\n",
       "      <th>filme</th>\n",
       "      <th>ganhou_os</th>\n",
       "      <th>indicada_os</th>\n",
       "    </tr>\n",
       "  </thead>\n",
       "  <tbody>\n",
       "    <tr>\n",
       "      <th>429</th>\n",
       "      <td>2014</td>\n",
       "      <td>Julianne Moore</td>\n",
       "      <td>Alice Howland</td>\n",
       "      <td>Still Alice</td>\n",
       "      <td>True</td>\n",
       "      <td>True</td>\n",
       "    </tr>\n",
       "    <tr>\n",
       "      <th>430</th>\n",
       "      <td>2014</td>\n",
       "      <td>Marion Cotillard</td>\n",
       "      <td>Sandra Bya</td>\n",
       "      <td>Two Days, One Night</td>\n",
       "      <td>False</td>\n",
       "      <td>True</td>\n",
       "    </tr>\n",
       "    <tr>\n",
       "      <th>431</th>\n",
       "      <td>2014</td>\n",
       "      <td>Felicity Jones</td>\n",
       "      <td>Jane Wilde Hawking</td>\n",
       "      <td>The Theory of Everything</td>\n",
       "      <td>False</td>\n",
       "      <td>True</td>\n",
       "    </tr>\n",
       "    <tr>\n",
       "      <th>432</th>\n",
       "      <td>2014</td>\n",
       "      <td>Rosamund Pike</td>\n",
       "      <td>Amy Elliott-Dunne</td>\n",
       "      <td>Gone Girl</td>\n",
       "      <td>False</td>\n",
       "      <td>True</td>\n",
       "    </tr>\n",
       "    <tr>\n",
       "      <th>433</th>\n",
       "      <td>2014</td>\n",
       "      <td>Reese Witherspoon</td>\n",
       "      <td>Cheryl Strayed</td>\n",
       "      <td>Wild</td>\n",
       "      <td>False</td>\n",
       "      <td>True</td>\n",
       "    </tr>\n",
       "  </tbody>\n",
       "</table>\n",
       "</div>"
      ],
      "text/plain": [
       "      ano               nome          personagem                     filme  \\\n",
       "429  2014     Julianne Moore       Alice Howland               Still Alice   \n",
       "430  2014   Marion Cotillard          Sandra Bya       Two Days, One Night   \n",
       "431  2014     Felicity Jones  Jane Wilde Hawking  The Theory of Everything   \n",
       "432  2014      Rosamund Pike   Amy Elliott-Dunne                 Gone Girl   \n",
       "433  2014  Reese Witherspoon      Cheryl Strayed                      Wild   \n",
       "\n",
       "     ganhou_os  indicada_os  \n",
       "429       True         True  \n",
       "430      False         True  \n",
       "431      False         True  \n",
       "432      False         True  \n",
       "433      False         True  "
      ]
     },
     "execution_count": 112,
     "metadata": {},
     "output_type": "execute_result"
    }
   ],
   "source": [
    "df_oscars_2014_2024.head()"
   ]
  },
  {
   "cell_type": "code",
   "execution_count": 113,
   "metadata": {},
   "outputs": [
    {
     "name": "stdout",
     "output_type": "stream",
     "text": [
      "Nomes sem repetição: 46\n"
     ]
    }
   ],
   "source": [
    "unique_names_oscars = df_oscars_2014_2024['nome'].nunique()\n",
    "\n",
    "print(f\"Nomes sem repetição: {unique_names_oscars}\")"
   ]
  },
  {
   "cell_type": "code",
   "execution_count": 114,
   "metadata": {},
   "outputs": [
    {
     "data": {
      "text/plain": [
       "(46, 13)"
      ]
     },
     "execution_count": 114,
     "metadata": {},
     "output_type": "execute_result"
    }
   ],
   "source": [
    "dfs_final[1].shape"
   ]
  },
  {
   "cell_type": "code",
   "execution_count": 115,
   "metadata": {},
   "outputs": [
    {
     "data": {
      "text/html": [
       "<div>\n",
       "<style scoped>\n",
       "    .dataframe tbody tr th:only-of-type {\n",
       "        vertical-align: middle;\n",
       "    }\n",
       "\n",
       "    .dataframe tbody tr th {\n",
       "        vertical-align: top;\n",
       "    }\n",
       "\n",
       "    .dataframe thead th {\n",
       "        text-align: right;\n",
       "    }\n",
       "</style>\n",
       "<table border=\"1\" class=\"dataframe\">\n",
       "  <thead>\n",
       "    <tr style=\"text-align: right;\">\n",
       "      <th></th>\n",
       "      <th>ano</th>\n",
       "      <th>nome</th>\n",
       "      <th>personagem</th>\n",
       "      <th>filme</th>\n",
       "      <th>ganhou_os_x</th>\n",
       "      <th>indicada_os_x</th>\n",
       "      <th>participou_2014</th>\n",
       "      <th>participou_2015</th>\n",
       "      <th>participou_2016</th>\n",
       "      <th>participou_2017</th>\n",
       "      <th>participou_2018</th>\n",
       "      <th>participou_2019</th>\n",
       "      <th>participou_2020</th>\n",
       "      <th>participou_2021</th>\n",
       "      <th>participou_2022</th>\n",
       "      <th>participou_2023</th>\n",
       "      <th>participou_2024</th>\n",
       "      <th>indicada_os_y</th>\n",
       "      <th>ganhou_os_y</th>\n",
       "      <th>_merge</th>\n",
       "    </tr>\n",
       "  </thead>\n",
       "  <tbody>\n",
       "  </tbody>\n",
       "</table>\n",
       "</div>"
      ],
      "text/plain": [
       "Empty DataFrame\n",
       "Columns: [ano, nome, personagem, filme, ganhou_os_x, indicada_os_x, participou_2014, participou_2015, participou_2016, participou_2017, participou_2018, participou_2019, participou_2020, participou_2021, participou_2022, participou_2023, participou_2024, indicada_os_y, ganhou_os_y, _merge]\n",
       "Index: []"
      ]
     },
     "execution_count": 115,
     "metadata": {},
     "output_type": "execute_result"
    }
   ],
   "source": [
    "#procurando as coitadas que o processo comeu\n",
    "merged_df = df_oscars_2014_2024.merge(dfs_final[1], on='nome', how='outer', indicator=True)\n",
    "diff_df = merged_df[merged_df['_merge'] != 'both']\n",
    "\n",
    "diff_df"
   ]
  },
  {
   "cell_type": "code",
   "execution_count": 116,
   "metadata": {},
   "outputs": [
    {
     "name": "stdout",
     "output_type": "stream",
     "text": [
      "Quantidade de 'ganhou_gg' 1: 21\n",
      "Quantidade de 'ganhou_os' 1: 8\n",
      "Quantidade de 'ganhou_sag' 1: 11\n",
      "Quantidade de 'ganhou_bafta' 1: 9\n",
      "Quantidade de 'ganhou_critics' 1: 12\n"
     ]
    }
   ],
   "source": [
    "ganhou_gg_count = dfs_final[0]['ganhou_gg'].sum()\n",
    "ganhou_oscar_count = dfs_final[1]['ganhou_os'].sum()\n",
    "ganhou_sag_count = dfs_final[2]['ganhou_sag'].sum()\n",
    "ganhou_bafta_count = dfs_final[3]['ganhou_bafta'].sum()\n",
    "ganhou_critics_count = dfs_final[4]['ganhou_critics'].sum()\n",
    "\n",
    "print(f\"Quantidade de 'ganhou_gg' 1: {ganhou_gg_count}\")\n",
    "print(f\"Quantidade de 'ganhou_os' 1: {ganhou_oscar_count}\")\n",
    "print(f\"Quantidade de 'ganhou_sag' 1: {ganhou_sag_count}\")\n",
    "print(f\"Quantidade de 'ganhou_bafta' 1: {ganhou_bafta_count}\")\n",
    "print(f\"Quantidade de 'ganhou_critics' 1: {ganhou_critics_count}\")"
   ]
  },
  {
   "cell_type": "code",
   "execution_count": 117,
   "metadata": {},
   "outputs": [
    {
     "name": "stdout",
     "output_type": "stream",
     "text": [
      "GG: ganhou_gg\n",
      "Oscar: ganhou_os\n",
      "SAG: ganhou_sag\n",
      "BAFTA: ganhou_bafta\n",
      "Critics: ganhou_critics\n"
     ]
    }
   ],
   "source": [
    "dfs_final[0].to_csv('data/transformed/gg_piv.csv')\n",
    "print('GG:', dfs_final[0].columns[-1])\n",
    "\n",
    "dfs_final[1].to_csv('data/transformed/oscar_piv.csv')\n",
    "print('Oscar:', dfs_final[1].columns[-1])\n",
    "\n",
    "dfs_final[2].to_csv('data/transformed/sag_piv.csv')\n",
    "print('SAG:', dfs_final[2].columns[-1])\n",
    "\n",
    "dfs_final[3].to_csv('data/transformed/bafta_piv.csv')\n",
    "print('BAFTA:', dfs_final[3].columns[-1])\n",
    "\n",
    "dfs_final[4].to_csv('data/transformed/critics_piv.csv')\n",
    "print('Critics:', dfs_final[4].columns[-1])"
   ]
  }
 ],
 "metadata": {
  "kernelspec": {
   "display_name": "Python 3",
   "language": "python",
   "name": "python3"
  },
  "language_info": {
   "codemirror_mode": {
    "name": "ipython",
    "version": 3
   },
   "file_extension": ".py",
   "mimetype": "text/x-python",
   "name": "python",
   "nbconvert_exporter": "python",
   "pygments_lexer": "ipython3",
   "version": "3.11.9"
  }
 },
 "nbformat": 4,
 "nbformat_minor": 2
}
