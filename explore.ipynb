{
 "cells": [
  {
   "cell_type": "markdown",
   "metadata": {},
   "source": [
    "# Oscars Best Actress Analysis"
   ]
  },
  {
   "cell_type": "markdown",
   "metadata": {},
   "source": [
    "According to Google AI overview The Golden Globes, SAG Awards, BAFTAs, and Critics' Choice Awards are some of the awards that influence the Oscars. Therefore, I selected only these four awards for my analysis.\n",
    "\n",
    "I will base my analysis in a range of 10 years (2015-2024)\n",
    "\n",
    "I will probably use logistic regression\n"
   ]
  },
  {
   "cell_type": "code",
   "execution_count": 1,
   "metadata": {},
   "outputs": [],
   "source": [
    "GOLDEN_GLOBES_url = \"https://en.wikipedia.org/wiki/Golden_Globe_Award_for_Best_Actress_in_a_Motion_Picture_%E2%80%93_Drama\"\n",
    "SAG_AWARDS_url = \"https://en.wikipedia.org/wiki/Screen_Actors_Guild_Award_for_Outstanding_Performance_by_a_Female_Actor_in_a_Leading_Role\"\n",
    "BAFTA_url = \"https://en.wikipedia.org/wiki/BAFTA_Award_for_Best_Actress_in_a_Leading_Role\"\n",
    "CRITICS_CHOICE_url = \"https://en.wikipedia.org/wiki/Critics%27_Choice_Movie_Award_for_Best_Actress\"\n",
    "OSCARS_url = \"https://en.wikipedia.org/wiki/Academy_Award_for_Best_Actress\""
   ]
  },
  {
   "cell_type": "code",
   "execution_count": 2,
   "metadata": {},
   "outputs": [],
   "source": [
    "import requests\n",
    "import pandas as pd\n",
    "from bs4 import BeautifulSoup\n",
    "\n",
    "soup = BeautifulSoup(requests.get(GOLDEN_GLOBES_url).text, 'html.parser')\n"
   ]
  },
  {
   "cell_type": "code",
   "execution_count": 3,
   "metadata": {},
   "outputs": [],
   "source": [
    "tables = soup.find_all('table', class_='wikitable sortable')\n",
    "\n",
    "golden_globes_2020s = tables[-1]\n",
    "golden_globes_2010s = tables[-2]"
   ]
  },
  {
   "cell_type": "code",
   "execution_count": 4,
   "metadata": {},
   "outputs": [
    {
     "data": {
      "text/plain": [
       "9"
      ]
     },
     "execution_count": 4,
     "metadata": {},
     "output_type": "execute_result"
    }
   ],
   "source": [
    "len(tables)"
   ]
  },
  {
   "cell_type": "code",
   "execution_count": 9,
   "metadata": {},
   "outputs": [
    {
     "data": {
      "text/plain": [
       "81"
      ]
     },
     "execution_count": 9,
     "metadata": {},
     "output_type": "execute_result"
    }
   ],
   "source": [
    "editions = soup.find_all('th',{'style': 'text-align:center;'})\n",
    "len(editions)\n",
    "#[0].find('a').text"
   ]
  },
  {
   "cell_type": "code",
   "execution_count": 6,
   "metadata": {},
   "outputs": [],
   "source": [
    "anos = soup.find_all('th',{'style': 'text-align:center;'})"
   ]
  },
  {
   "cell_type": "code",
   "execution_count": 67,
   "metadata": {},
   "outputs": [
    {
     "data": {
      "text/plain": [
       "'2020'"
      ]
     },
     "execution_count": 67,
     "metadata": {},
     "output_type": "execute_result"
    }
   ],
   "source": [
    "#ths = golden_globes_2020s.find_all('th',{'style': 'text-align:center;'})\n",
    "#ths[0].find('a').text"
   ]
  },
  {
   "cell_type": "code",
   "execution_count": 13,
   "metadata": {},
   "outputs": [
    {
     "data": {
      "text/plain": [
       "<th style=\"text-align:center;\"><a href=\"/wiki/1st_Golden_Globe_Awards\" title=\"1st Golden Globe Awards\">1943</a>\n",
       "</th>"
      ]
     },
     "execution_count": 13,
     "metadata": {},
     "output_type": "execute_result"
    }
   ],
   "source": [
    "anos[0]"
   ]
  },
  {
   "cell_type": "code",
   "execution_count": 32,
   "metadata": {},
   "outputs": [
    {
     "data": {
      "text/plain": [
       "[<th rowspan=\"5\" style=\"text-align:center;\"><a href=\"/wiki/78th_Golden_Globe_Awards\" title=\"78th Golden Globe Awards\">2020</a>\n",
       " </th>,\n",
       " <th rowspan=\"5\" style=\"text-align:center;\"><a href=\"/wiki/79th_Golden_Globe_Awards\" title=\"79th Golden Globe Awards\">2021</a>\n",
       " </th>,\n",
       " <th rowspan=\"5\" style=\"text-align:center;\"><a href=\"/wiki/80th_Golden_Globe_Awards\" title=\"80th Golden Globe Awards\">2022</a>\n",
       " </th>,\n",
       " <th rowspan=\"6\" style=\"text-align:center;\"><a href=\"/wiki/81st_Golden_Globe_Awards\" title=\"81st Golden Globe Awards\">2023</a>\n",
       " </th>]"
      ]
     },
     "execution_count": 32,
     "metadata": {},
     "output_type": "execute_result"
    }
   ],
   "source": [
    "golden_globes_2020s.find_all('th',{'style': 'text-align:center;'})"
   ]
  },
  {
   "cell_type": "code",
   "execution_count": 36,
   "metadata": {},
   "outputs": [
    {
     "data": {
      "text/plain": [
       "'2020'"
      ]
     },
     "execution_count": 36,
     "metadata": {},
     "output_type": "execute_result"
    }
   ],
   "source": [
    "rows = golden_globes_2020s.find_all('tr')\n",
    "rows[1]\n",
    "rows[1].find('th',{'style': 'text-align:center;'}).find('a').text\n",
    "#td_actress_data = tr_actress_data[1].find_all('td')\n",
    "#td_actress_data\n",
    "#actress_data = golden_globes_2020s.find_all('tr')[1].find_all('td')"
   ]
  },
  {
   "cell_type": "code",
   "execution_count": 39,
   "metadata": {},
   "outputs": [
    {
     "data": {
      "text/plain": [
       "'Andra Day'"
      ]
     },
     "execution_count": 39,
     "metadata": {},
     "output_type": "execute_result"
    }
   ],
   "source": [
    "rows[1].find_all('td')[0].find('a').text"
   ]
  },
  {
   "cell_type": "code",
   "execution_count": 57,
   "metadata": {},
   "outputs": [
    {
     "data": {
      "text/plain": [
       "'The United States vs. Billie Holiday'"
      ]
     },
     "execution_count": 57,
     "metadata": {},
     "output_type": "execute_result"
    }
   ],
   "source": [
    "#golden_globes_2020s.find_all('tr')[1].find_all('td')[0].find('a').text -> nome\n",
    "#golden_globes_2020s.find_all('tr')[1].find_all('td')[1].find('a').text -> personagem\n",
    "#golden_globes_2020s.find_all('tr')[1].find_all('td')[2].find('a').text -> filme"
   ]
  },
  {
   "cell_type": "code",
   "execution_count": 83,
   "metadata": {},
   "outputs": [
    {
     "name": "stdout",
     "output_type": "stream",
     "text": [
      "não tem\n"
     ]
    }
   ],
   "source": [
    "if golden_globes_2020s.find_all('tr')[0].find_all('td',{'style': 'background:#B0C4DE;'}):\n",
    "    print('tem')\n",
    "else:\n",
    "    print('não tem')"
   ]
  },
  {
   "cell_type": "code",
   "execution_count": 68,
   "metadata": {},
   "outputs": [
    {
     "data": {
      "text/plain": [
       "'Lee'"
      ]
     },
     "execution_count": 68,
     "metadata": {},
     "output_type": "execute_result"
    }
   ],
   "source": [
    "golden_globes_2020s.find_all('td')[-1].find('a').text"
   ]
  },
  {
   "cell_type": "code",
   "execution_count": 12,
   "metadata": {},
   "outputs": [],
   "source": [
    "df = pd.DataFrame(columns=['ano','nome','personagem','filme','ganhou'])"
   ]
  },
  {
   "cell_type": "code",
   "execution_count": 13,
   "metadata": {},
   "outputs": [],
   "source": [
    "def isWinner(row):\n",
    "    return bool(row.find('td',{'style': 'background:#B0C4DE;'})) "
   ]
  },
  {
   "cell_type": "code",
   "execution_count": 88,
   "metadata": {},
   "outputs": [
    {
     "data": {
      "text/plain": [
       "<tr>\n",
       "<th scope=\"col\" style=\"width:8%;\">Year\n",
       "</th>\n",
       "<th scope=\"col\" style=\"width:30%;\">Actress\n",
       "</th>\n",
       "<th scope=\"col\" style=\"width:30%;\">Role(s)\n",
       "</th>\n",
       "<th scope=\"col\" style=\"width:30%;\">Film\n",
       "</th>\n",
       "<th class=\"unsortable\" scope=\"col\" style=\"width:2%;\"><abbr title=\"Reference\">Ref.</abbr>\n",
       "</th></tr>"
      ]
     },
     "execution_count": 88,
     "metadata": {},
     "output_type": "execute_result"
    }
   ],
   "source": [
    "t0 = tables[0].find_all('tr')\n",
    "t0[0]"
   ]
  },
  {
   "cell_type": "code",
   "execution_count": 89,
   "metadata": {},
   "outputs": [
    {
     "data": {
      "text/plain": [
       "'1950'"
      ]
     },
     "execution_count": 89,
     "metadata": {},
     "output_type": "execute_result"
    }
   ],
   "source": [
    "t1 = tables[1].find_all('tr')\n",
    "len(t1)\n",
    "t1[1].find('th',{'style': 'text-align:center;'}).find('a').text"
   ]
  },
  {
   "cell_type": "code",
   "execution_count": 5,
   "metadata": {},
   "outputs": [],
   "source": [
    "dict_tables = {}\n",
    "\n",
    "for i in range(0,len(tables)):\n",
    "    dict_tables[i] = tables[i].find_all('tr')"
   ]
  },
  {
   "cell_type": "code",
   "execution_count": 9,
   "metadata": {},
   "outputs": [
    {
     "data": {
      "text/plain": [
       "<tr>\n",
       "<td><a href=\"/wiki/Bette_Davis\" title=\"Bette Davis\">Bette Davis</a></td>\n",
       "<td>Margo Channing</td>\n",
       "<td><i><a href=\"/wiki/All_About_Eve\" title=\"All About Eve\">All About Eve</a></i>\n",
       "</td></tr>"
      ]
     },
     "execution_count": 9,
     "metadata": {},
     "output_type": "execute_result"
    }
   ],
   "source": [
    "dict_tables[1][2]"
   ]
  },
  {
   "cell_type": "code",
   "execution_count": 111,
   "metadata": {},
   "outputs": [
    {
     "data": {
      "text/plain": [
       "'Gloria Swanson'"
      ]
     },
     "execution_count": 111,
     "metadata": {},
     "output_type": "execute_result"
    }
   ],
   "source": [
    "dict_tables[1][1].find_all('td')[0].find('a').text"
   ]
  },
  {
   "cell_type": "code",
   "execution_count": 108,
   "metadata": {},
   "outputs": [
    {
     "data": {
      "text/plain": [
       "33"
      ]
     },
     "execution_count": 108,
     "metadata": {},
     "output_type": "execute_result"
    }
   ],
   "source": [
    "len(dict_tables[1])"
   ]
  },
  {
   "cell_type": "code",
   "execution_count": 119,
   "metadata": {},
   "outputs": [
    {
     "data": {
      "text/plain": [
       "<tr>\n",
       "<td><a href=\"/wiki/Bette_Davis\" title=\"Bette Davis\">Bette Davis</a></td>\n",
       "<td>Margo Channing</td>\n",
       "<td><i><a href=\"/wiki/All_About_Eve\" title=\"All About Eve\">All About Eve</a></i>\n",
       "</td></tr>"
      ]
     },
     "execution_count": 119,
     "metadata": {},
     "output_type": "execute_result"
    }
   ],
   "source": [
    "dict_tables[1][2]"
   ]
  },
  {
   "cell_type": "code",
   "execution_count": 21,
   "metadata": {},
   "outputs": [
    {
     "name": "stdout",
     "output_type": "stream",
     "text": [
      "Ano para esta linha: 1943\n",
      "Nome: Jennifer Jones, Personagem: Bernadette Soubirous, Filme: The Song of Bernadette\n",
      "Ano para esta linha: 1944\n",
      "Nome: Ingrid Bergman, Personagem: None, Filme: Gaslight\n",
      "Ano para esta linha: 1945\n",
      "Nome: None, Personagem: The Bells of St. Mary's, Filme: [3]\n",
      "Ano para esta linha: 1946\n",
      "Nome: Rosalind Russell, Personagem: Sister Elizabeth Kenny, Filme: Sister Kenny\n",
      "Ano para esta linha: 1947\n",
      "Nome: Rosalind Russell, Personagem: None, Filme: Mourning Becomes Electra\n",
      "Ano para esta linha: 1948\n",
      "Nome: Jane Wyman, Personagem: None, Filme: Johnny Belinda\n",
      "Ano para esta linha: 1949\n",
      "Nome: Olivia de Havilland, Personagem: None, Filme: The Heiress\n",
      "Ano para esta linha: 1949\n",
      "Nome: Deborah Kerr, Personagem: None, Filme: Edward, My Son\n",
      "Ano para esta linha: 1950\n",
      "Nome: Gloria Swanson, Personagem: None, Filme: Sunset Boulevard\n",
      "Ano para esta linha: 1950\n",
      "Nome: Bette Davis, Personagem: None, Filme: All About Eve\n",
      "Ano para esta linha: 1950\n",
      "Nome: Judy Holliday, Personagem: None, Filme: Born Yesterday\n",
      "Ano para esta linha: 1951\n",
      "Nome: Jane Wyman, Personagem: None, Filme: The Blue Veil\n",
      "Ano para esta linha: 1951\n",
      "Nome: Vivien Leigh, Personagem: Blanche DuBois, Filme: A Streetcar Named Desire\n",
      "Ano para esta linha: 1951\n",
      "Nome: Shelley Winters, Personagem: None, Filme: A Place in the Sun\n",
      "Ano para esta linha: 1952\n",
      "Nome: Shirley Booth, Personagem: None, Filme: Come Back, Little Sheba\n",
      "Ano para esta linha: 1952\n",
      "Nome: Joan Crawford, Personagem: None, Filme: Sudden Fear\n",
      "Ano para esta linha: 1952\n",
      "Nome: Olivia de Havilland, Personagem: None, Filme: My Cousin Rachel\n",
      "Ano para esta linha: 1953\n",
      "Nome: Audrey Hepburn, Personagem: None, Filme: Roman Holiday\n",
      "Ano para esta linha: 1954\n",
      "Nome: Grace Kelly, Personagem: None, Filme: The Country Girl\n",
      "Ano para esta linha: 1955\n",
      "Nome: Anna Magnani, Personagem: None, Filme: The Rose Tattoo\n",
      "Ano para esta linha: 1956\n",
      "Nome: Ingrid Bergman, Personagem: None, Filme: Anastasia\n",
      "Ano para esta linha: 1956\n",
      "Nome: Carroll Baker, Personagem: None, Filme: Baby Doll\n",
      "Ano para esta linha: 1956\n",
      "Nome: Helen Hayes, Personagem: Dowager Empress Maria Feodorovona, Filme: Anastasia\n",
      "Ano para esta linha: 1956\n",
      "Nome: Audrey Hepburn, Personagem: Natasha Rostova, Filme: War and Peace\n",
      "Ano para esta linha: 1956\n",
      "Nome: Katharine Hepburn, Personagem: None, Filme: The Rainmaker\n",
      "Ano para esta linha: 1957\n",
      "Nome: Joanne Woodward, Personagem: None, Filme: The Three Faces of Eve\n",
      "Ano para esta linha: 1957\n",
      "Nome: Marlene Dietrich, Personagem: None, Filme: Witness for the Prosecution\n",
      "Ano para esta linha: 1957\n",
      "Nome: Deborah Kerr, Personagem: None, Filme: Heaven Knows, Mr. Allison\n",
      "Ano para esta linha: 1957\n",
      "Nome: Anna Magnani, Personagem: None, Filme: Wild Is the Wind\n",
      "Ano para esta linha: 1957\n",
      "Nome: Eva Marie Saint, Personagem: None, Filme: A Hatful of Rain\n",
      "Ano para esta linha: 1958\n",
      "Nome: Susan Hayward, Personagem: Barbara Graham, Filme: I Want to Live!\n",
      "Ano para esta linha: 1958\n",
      "Nome: Ingrid Bergman, Personagem: Gladys Aylward, Filme: The Inn of the Sixth Happiness\n",
      "Ano para esta linha: 1958\n",
      "Nome: Deborah Kerr, Personagem: None, Filme: Separate Tables\n",
      "Ano para esta linha: 1958\n",
      "Nome: Shirley MacLaine, Personagem: None, Filme: Some Came Running\n",
      "Ano para esta linha: 1958\n",
      "Nome: Jean Simmons, Personagem: None, Filme: Home Before Dark\n",
      "Ano para esta linha: 1959\n",
      "Nome: Elizabeth Taylor, Personagem: None, Filme: Suddenly, Last Summer\n",
      "Ano para esta linha: 1959\n",
      "Nome: Audrey Hepburn, Personagem: None, Filme: The Nun's Story\n",
      "Ano para esta linha: 1959\n",
      "Nome: Katharine Hepburn, Personagem: None, Filme: Suddenly, Last Summer\n",
      "Ano para esta linha: 1959\n",
      "Nome: Lee Remick, Personagem: None, Filme: Anatomy of a Murder\n",
      "Ano para esta linha: 1959\n",
      "Nome: Simone Signoret, Personagem: None, Filme: Room at the Top\n",
      "Ano para esta linha: 1960\n",
      "Nome: Greer Garson, Personagem: Eleanor Roosevelt, Filme: Sunrise at Campobello\n",
      "Ano para esta linha: 1960\n",
      "Nome: Doris Day, Personagem: None, Filme: Midnight Lace\n",
      "Ano para esta linha: 1960\n",
      "Nome: Nancy Kwan, Personagem: None, Filme: The World of Suzie Wong\n",
      "Ano para esta linha: 1960\n",
      "Nome: Jean Simmons, Personagem: None, Filme: Elmer Gantry\n",
      "Ano para esta linha: 1960\n",
      "Nome: Elizabeth Taylor, Personagem: None, Filme: BUtterfield 8\n",
      "Ano para esta linha: 1961\n",
      "Nome: Geraldine Page, Personagem: None, Filme: Summer and Smoke\n",
      "Ano para esta linha: 1961\n",
      "Nome: Leslie Caron, Personagem: None, Filme: Fanny\n",
      "Ano para esta linha: 1961\n",
      "Nome: Shirley MacLaine, Personagem: None, Filme: The Children's Hour\n",
      "Ano para esta linha: 1961\n",
      "Nome: Claudia McNeil, Personagem: None, Filme: A Raisin in the Sun\n",
      "Ano para esta linha: 1961\n",
      "Nome: Natalie Wood, Personagem: None, Filme: Splendor in the Grass\n",
      "Ano para esta linha: 1962\n",
      "Nome: Geraldine Page, Personagem: None, Filme: Sweet Bird of Youth\n",
      "Ano para esta linha: 1962\n",
      "Nome: Anne Bancroft, Personagem: Anne Sullivan, Filme: The Miracle Worker\n",
      "Ano para esta linha: 1962\n",
      "Nome: Bette Davis, Personagem: Jane Hudson, Filme: What Ever Happened to Baby Jane?\n",
      "Ano para esta linha: 1962\n",
      "Nome: Katharine Hepburn, Personagem: None, Filme: Long Day's Journey into Night\n",
      "Ano para esta linha: 1962\n",
      "Nome: Glynis Johns, Personagem: None, Filme: The Chapman Report\n",
      "Ano para esta linha: 1962\n",
      "Nome: Melina Mercouri, Personagem: None, Filme: Phaedra\n",
      "Ano para esta linha: 1962\n",
      "Nome: Lee Remick, Personagem: None, Filme: Days of Wine and Roses\n",
      "Ano para esta linha: 1962\n",
      "Nome: Susan Strasberg, Personagem: None, Filme: Hemingway's Adventures of a Young Man\n",
      "Ano para esta linha: 1962\n",
      "Nome: Shelley Winters, Personagem: None, Filme: Lolita\n",
      "Ano para esta linha: 1962\n",
      "Nome: Susannah York, Personagem: None, Filme: Freud: The Secret Passion\n",
      "Ano para esta linha: 1963\n",
      "Nome: Leslie Caron, Personagem: None, Filme: The L-Shaped Room\n",
      "Ano para esta linha: 1963\n",
      "Nome: Polly Bergen, Personagem: None, Filme: The Caretakers\n",
      "Ano para esta linha: 1963\n",
      "Nome: Geraldine Page, Personagem: None, Filme: Toys in the Attic\n",
      "Ano para esta linha: 1963\n",
      "Nome: Rachel Roberts, Personagem: None, Filme: This Sporting Life\n",
      "Ano para esta linha: 1963\n",
      "Nome: Romy Schneider, Personagem: None, Filme: The Cardinal\n",
      "Ano para esta linha: 1963\n",
      "Nome: Alida Valli, Personagem: None, Filme: The Paper Man\n",
      "Ano para esta linha: 1963\n",
      "Nome: Marina Vlady, Personagem: None, Filme: The Conjugal Bed\n",
      "Ano para esta linha: 1963\n",
      "Nome: Natalie Wood, Personagem: None, Filme: Love with the Proper Stranger\n",
      "Ano para esta linha: 1964\n",
      "Nome: Anne Bancroft, Personagem: None, Filme: The Pumpkin Eater\n",
      "Ano para esta linha: 1964\n",
      "Nome: Ava Gardner, Personagem: None, Filme: The Night of the Iguana\n",
      "Ano para esta linha: 1964\n",
      "Nome: Rita Hayworth, Personagem: None, Filme: Circus World\n",
      "Ano para esta linha: 1964\n",
      "Nome: Geraldine Page, Personagem: None, Filme: Dear Heart\n",
      "Ano para esta linha: 1964\n",
      "Nome: Jean Seberg, Personagem: None, Filme: Lilith\n",
      "Ano para esta linha: 1965\n",
      "Nome: Samantha Eggar, Personagem: None, Filme: The Collector\n",
      "Ano para esta linha: 1965\n",
      "Nome: Julie Christie, Personagem: None, Filme: Darling\n",
      "Ano para esta linha: 1965\n",
      "Nome: Elizabeth Hartman, Personagem: None, Filme: A Patch of Blue\n",
      "Ano para esta linha: 1965\n",
      "Nome: Simone Signoret, Personagem: None, Filme: Ship of Fools\n",
      "Ano para esta linha: 1965\n",
      "Nome: Maggie Smith, Personagem: Desdemona, Filme: Othello\n",
      "Ano para esta linha: 1966\n",
      "Nome: Anouk Aimée, Personagem: None, Filme: A Man and a Woman\n",
      "Ano para esta linha: 1966\n",
      "Nome: Ida Kamińska, Personagem: None, Filme: The Shop on Main Street\n",
      "Ano para esta linha: 1966\n",
      "Nome: Virginia McKenna, Personagem: Joy Adamson, Filme: Born Free\n",
      "Ano para esta linha: 1966\n",
      "Nome: Elizabeth Taylor, Personagem: None, Filme: Who's Afraid of Virginia Woolf?\n",
      "Ano para esta linha: 1966\n",
      "Nome: Natalie Wood, Personagem: None, Filme: This Property Is Condemned\n",
      "Ano para esta linha: 1967\n",
      "Nome: Edith Evans, Personagem: None, Filme: The Whisperers\n",
      "Ano para esta linha: 1967\n",
      "Nome: Faye Dunaway, Personagem: Bonnie Parker, Filme: Bonnie and Clyde\n",
      "Ano para esta linha: 1967\n",
      "Nome: Audrey Hepburn, Personagem: None, Filme: Wait Until Dark\n",
      "Ano para esta linha: 1967\n",
      "Nome: Katharine Hepburn, Personagem: None, Filme: Guess Who's Coming to Dinner\n",
      "Ano para esta linha: 1967\n",
      "Nome: Anne Heywood, Personagem: None, Filme: The Fox\n",
      "Ano para esta linha: 1968\n",
      "Nome: Joanne Woodward, Personagem: None, Filme: Rachel, Rachel\n",
      "Ano para esta linha: 1968\n",
      "Nome: Mia Farrow, Personagem: None, Filme: Rosemary's Baby\n",
      "Ano para esta linha: 1968\n",
      "Nome: Katharine Hepburn, Personagem: Eleanor of Aquitaine, Filme: The Lion in Winter\n",
      "Ano para esta linha: 1968\n",
      "Nome: Vanessa Redgrave, Personagem: Isadora Duncan, Filme: Isadora\n",
      "Ano para esta linha: 1968\n",
      "Nome: Beryl Reid, Personagem: None, Filme: The Killing of Sister George\n",
      "Ano para esta linha: 1969\n",
      "Nome: Geneviève Bujold, Personagem: Anne Boleyn, Filme: Anne of the Thousand Days\n",
      "Ano para esta linha: 1969\n",
      "Nome: Jane Fonda, Personagem: None, Filme: They Shoot Horses, Don't They?\n",
      "Ano para esta linha: 1969\n",
      "Nome: Liza Minnelli, Personagem: None, Filme: The Sterile Cuckoo\n",
      "Ano para esta linha: 1969\n",
      "Nome: Jean Simmons, Personagem: None, Filme: The Happy Ending\n",
      "Ano para esta linha: 1969\n",
      "Nome: Maggie Smith, Personagem: Jean Brodie, Filme: The Prime of Miss Jean Brodie\n",
      "Ano para esta linha: 1970\n",
      "Nome: Ali MacGraw, Personagem: None, Filme: Love Story\n",
      "Ano para esta linha: 1970\n",
      "Nome: Faye Dunaway, Personagem: None, Filme: Puzzle of a Downfall Child\n",
      "Ano para esta linha: 1970\n",
      "Nome: Glenda Jackson, Personagem: None, Filme: Women in Love\n",
      "Ano para esta linha: 1970\n",
      "Nome: Melina Mercouri, Personagem: None, Filme: Promise at Dawn\n",
      "Ano para esta linha: 1970\n",
      "Nome: Sarah Miles, Personagem: None, Filme: Ryan's Daughter\n",
      "Ano para esta linha: 1971\n",
      "Nome: Jane Fonda, Personagem: None, Filme: Klute\n",
      "Ano para esta linha: 1971\n",
      "Nome: Glenda Jackson, Personagem: Elizabeth I of England, Filme: Mary, Queen of Scots\n",
      "Ano para esta linha: 1971\n",
      "Nome: Vanessa Redgrave, Personagem: Mary, Queen of Scots, Filme: Mary, Queen of Scots\n",
      "Ano para esta linha: 1971\n",
      "Nome: Dyan Cannon, Personagem: None, Filme: Such Good Friends\n",
      "Ano para esta linha: 1971\n",
      "Nome: Jessica Walter, Personagem: None, Filme: Play Misty for Me\n",
      "Ano para esta linha: 1972\n",
      "Nome: Liv Ullmann, Personagem: None, Filme: The Emigrants\n",
      "Ano para esta linha: 1972\n",
      "Nome: Diana Ross, Personagem: Billie Holiday, Filme: Lady Sings the Blues\n",
      "Ano para esta linha: 1972\n",
      "Nome: Cicely Tyson, Personagem: None, Filme: Sounder\n",
      "Ano para esta linha: 1972\n",
      "Nome: Trish Van Devere, Personagem: None, Filme: One Is a Lonely Number\n",
      "Ano para esta linha: 1972\n",
      "Nome: Tuesday Weld, Personagem: None, Filme: Play It as It Lays\n",
      "Ano para esta linha: 1972\n",
      "Nome: Joanne Woodward, Personagem: None, Filme: The Effect of Gamma Rays on Man-in-the-Moon Marigolds\n",
      "Ano para esta linha: 1973\n",
      "Nome: Marsha Mason, Personagem: None, Filme: Cinderella Liberty\n",
      "Ano para esta linha: 1973\n",
      "Nome: Ellen Burstyn, Personagem: None, Filme: The Exorcist\n",
      "Ano para esta linha: 1973\n",
      "Nome: Barbra Streisand, Personagem: None, Filme: The Way We Were\n",
      "Ano para esta linha: 1973\n",
      "Nome: Elizabeth Taylor, Personagem: None, Filme: Ash Wednesday\n",
      "Ano para esta linha: 1973\n",
      "Nome: Joanne Woodward, Personagem: None, Filme: Summer Wishes, Winter Dreams\n",
      "Ano para esta linha: 1974\n",
      "Nome: Gena Rowlands, Personagem: None, Filme: A Woman Under the Influence\n",
      "Ano para esta linha: 1974\n",
      "Nome: Ellen Burstyn, Personagem: Alice Hyatt, Filme: Alice Doesn't Live Here Anymore\n",
      "Ano para esta linha: 1974\n",
      "Nome: Faye Dunaway, Personagem: None, Filme: Chinatown\n",
      "Ano para esta linha: 1974\n",
      "Nome: Valerie Perrine, Personagem: Honey Bruce, Filme: Lenny\n",
      "Ano para esta linha: 1974\n",
      "Nome: Liv Ullmann, Personagem: None, Filme: Scenes from a Marriage\n",
      "Ano para esta linha: 1975\n",
      "Nome: Louise Fletcher, Personagem: Nurse Ratched, Filme: One Flew Over the Cuckoo's Nest\n",
      "Ano para esta linha: 1975\n",
      "Nome: Karen Black, Personagem: None, Filme: The Day of the Locust\n",
      "Ano para esta linha: 1975\n",
      "Nome: Faye Dunaway, Personagem: None, Filme: Three Days of the Condor\n",
      "Ano para esta linha: 1975\n",
      "Nome: Marilyn Hassett, Personagem: Jill Kinmont Boothe, Filme: The Other Side of the Mountain\n",
      "Ano para esta linha: 1975\n",
      "Nome: Glenda Jackson, Personagem: None, Filme: Hedda\n",
      "Ano para esta linha: 1976\n",
      "Nome: Faye Dunaway, Personagem: None, Filme: Network\n",
      "Ano para esta linha: 1976\n",
      "Nome: Glenda Jackson, Personagem: Sarah Bernhardt, Filme: The Incredible Sarah\n",
      "Ano para esta linha: 1976\n",
      "Nome: Sarah Miles, Personagem: None, Filme: The Sailor Who Fell from Grace with the Sea\n",
      "Ano para esta linha: 1976\n",
      "Nome: Talia Shire, Personagem: Adrian Pennino, Filme: Rocky\n",
      "Ano para esta linha: 1976\n",
      "Nome: Liv Ullmann, Personagem: None, Filme: Face to Face\n",
      "Ano para esta linha: 1977\n",
      "Nome: Jane Fonda, Personagem: Lillian Hellman, Filme: Julia\n",
      "Ano para esta linha: 1977\n",
      "Nome: Anne Bancroft, Personagem: None, Filme: The Turning Point\n",
      "Ano para esta linha: 1977\n",
      "Nome: Diane Keaton, Personagem: None, Filme: Looking for Mr. Goodbar\n",
      "Ano para esta linha: 1977\n",
      "Nome: Kathleen Quinlan, Personagem: None, Filme: I Never Promised You a Rose Garden\n",
      "Ano para esta linha: 1977\n",
      "Nome: Gena Rowlands, Personagem: None, Filme: Opening Night\n",
      "Ano para esta linha: 1978\n",
      "Nome: Jane Fonda, Personagem: None, Filme: Coming Home\n",
      "Ano para esta linha: 1978\n",
      "Nome: Ingrid Bergman, Personagem: None, Filme: Autumn Sonata\n",
      "Ano para esta linha: 1978\n",
      "Nome: Jill Clayburgh, Personagem: None, Filme: An Unmarried Woman\n",
      "Ano para esta linha: 1978\n",
      "Nome: Glenda Jackson, Personagem: Stevie Smith, Filme: Stevie\n",
      "Ano para esta linha: 1978\n",
      "Nome: Geraldine Page, Personagem: None, Filme: Interiors\n",
      "Ano para esta linha: 1979\n",
      "Nome: Sally Field, Personagem: None, Filme: Norma Rae\n",
      "Ano para esta linha: 1979\n",
      "Nome: Jill Clayburgh, Personagem: None, Filme: La Luna\n",
      "Ano para esta linha: 1979\n",
      "Nome: Lisa Eichhorn, Personagem: None, Filme: Yanks\n",
      "Ano para esta linha: 1979\n",
      "Nome: Jane Fonda, Personagem: None, Filme: The China Syndrome\n",
      "Ano para esta linha: 1979\n",
      "Nome: Marsha Mason, Personagem: None, Filme: Promises in the Dark\n",
      "Ano para esta linha: 1980\n",
      "Nome: Mary Tyler Moore, Personagem: None, Filme: Ordinary People\n",
      "Ano para esta linha: 1980\n",
      "Nome: Ellen Burstyn, Personagem: None, Filme: Resurrection\n",
      "Ano para esta linha: 1980\n",
      "Nome: Nastassja Kinski, Personagem: None, Filme: Tess\n",
      "Ano para esta linha: 1980\n",
      "Nome: Deborah Raffin, Personagem: None, Filme: Touched by Love\n",
      "Ano para esta linha: 1980\n",
      "Nome: Gena Rowlands, Personagem: None, Filme: Gloria\n",
      "Ano para esta linha: 1981\n",
      "Nome: Meryl Streep, Personagem: None, Filme: The French Lieutenant's Woman\n",
      "Ano para esta linha: 1981\n",
      "Nome: Sally Field, Personagem: None, Filme: Absence of Malice\n",
      "Ano para esta linha: 1981\n",
      "Nome: Katharine Hepburn, Personagem: None, Filme: On Golden Pond\n",
      "Ano para esta linha: 1981\n",
      "Nome: Diane Keaton, Personagem: Louise Bryant, Filme: Reds\n",
      "Ano para esta linha: 1981\n",
      "Nome: Sissy Spacek, Personagem: None, Filme: Raggedy Man\n",
      "Ano para esta linha: 1982\n",
      "Nome: Meryl Streep, Personagem: None, Filme: Sophie's Choice\n",
      "Ano para esta linha: 1982\n",
      "Nome: Diane Keaton, Personagem: None, Filme: Shoot the Moon\n",
      "Ano para esta linha: 1982\n",
      "Nome: Jessica Lange, Personagem: Frances Farmer, Filme: Frances\n",
      "Ano para esta linha: 1982\n",
      "Nome: Sissy Spacek, Personagem: Beth Horman, Filme: Missing\n",
      "Ano para esta linha: 1982\n",
      "Nome: Debra Winger, Personagem: None, Filme: An Officer and a Gentleman\n",
      "Ano para esta linha: 1983\n",
      "Nome: Shirley MacLaine, Personagem: None, Filme: Terms of Endearment\n",
      "Ano para esta linha: 1983\n",
      "Nome: Jane Alexander, Personagem: None, Filme: Testament\n",
      "Ano para esta linha: 1983\n",
      "Nome: Bonnie Bedelia, Personagem: Shirley Roque, Filme: Heart Like a Wheel\n",
      "Ano para esta linha: 1983\n",
      "Nome: Meryl Streep, Personagem: Karen Silkwood, Filme: Silkwood\n",
      "Ano para esta linha: 1983\n",
      "Nome: Debra Winger, Personagem: None, Filme: Terms of Endearment\n",
      "Ano para esta linha: 1984\n",
      "Nome: Sally Field, Personagem: None, Filme: Places in the Heart\n",
      "Ano para esta linha: 1984\n",
      "Nome: Diane Keaton, Personagem: None, Filme: Mrs. Soffel\n",
      "Ano para esta linha: 1984\n",
      "Nome: Jessica Lange, Personagem: None, Filme: Country\n",
      "Ano para esta linha: 1984\n",
      "Nome: Vanessa Redgrave, Personagem: None, Filme: The Bostonians\n",
      "Ano para esta linha: 1984\n",
      "Nome: Sissy Spacek, Personagem: None, Filme: The River\n",
      "Ano para esta linha: 1985\n",
      "Nome: Whoopi Goldberg, Personagem: None, Filme: The Color Purple\n",
      "Ano para esta linha: 1985\n",
      "Nome: Anne Bancroft, Personagem: None, Filme: Agnes of God\n",
      "Ano para esta linha: 1985\n",
      "Nome: Cher, Personagem: None, Filme: Mask\n",
      "Ano para esta linha: 1985\n",
      "Nome: Geraldine Page, Personagem: None, Filme: The Trip to Bountiful\n",
      "Ano para esta linha: 1985\n",
      "Nome: Meryl Streep, Personagem: Karen Blixen, Filme: Out of Africa\n",
      "Ano para esta linha: 1986\n",
      "Nome: Marlee Matlin, Personagem: None, Filme: Children of a Lesser God\n",
      "Ano para esta linha: 1986\n",
      "Nome: Julie Andrews, Personagem: None, Filme: Duet for One\n",
      "Ano para esta linha: 1986\n",
      "Nome: Anne Bancroft, Personagem: None, Filme: 'night, Mother\n",
      "Ano para esta linha: 1986\n",
      "Nome: Farrah Fawcett, Personagem: None, Filme: Extremities\n",
      "Ano para esta linha: 1986\n",
      "Nome: Sigourney Weaver, Personagem: Ellen Ripley, Filme: Aliens\n",
      "Ano para esta linha: 1987\n",
      "Nome: Sally Kirkland, Personagem: None, Filme: Anna\n",
      "Ano para esta linha: 1987\n",
      "Nome: Rachel Chagall, Personagem: Gabriela \"Gaby\" Brimmer, Filme: Gaby: A True Story\n",
      "Ano para esta linha: 1987\n",
      "Nome: Glenn Close, Personagem: None, Filme: Fatal Attraction\n",
      "Ano para esta linha: 1987\n",
      "Nome: Faye Dunaway, Personagem: None, Filme: Barfly\n",
      "Ano para esta linha: 1987\n",
      "Nome: Barbra Streisand, Personagem: None, Filme: Nuts\n",
      "Ano para esta linha: 1988\n",
      "Nome: Jodie Foster, Personagem: None, Filme: The Accused\n",
      "Ano para esta linha: 1988\n",
      "Nome: Shirley MacLaine, Personagem: None, Filme: Madame Sousatzka\n",
      "Ano para esta linha: 1988\n",
      "Nome: Sigourney Weaver, Personagem: Dian Fossey, Filme: Gorillas in the Mist\n",
      "Ano para esta linha: 1988\n",
      "Nome: Christine Lahti, Personagem: None, Filme: Running on Empty\n",
      "Ano para esta linha: 1988\n",
      "Nome: Meryl Streep, Personagem: Lindy Chamberlain-Creighton, Filme: A Cry in the Dark\n",
      "Ano para esta linha: 1989\n",
      "Nome: Michelle Pfeiffer, Personagem: Susie Diamond, Filme: The Fabulous Baker Boys\n",
      "Ano para esta linha: 1989\n",
      "Nome: Sally Field, Personagem: None, Filme: Steel Magnolias\n",
      "Ano para esta linha: 1989\n",
      "Nome: Jessica Lange, Personagem: None, Filme: Music Box\n",
      "Ano para esta linha: 1989\n",
      "Nome: Andie MacDowell, Personagem: None, Filme: Sex, Lies, and Videotape\n",
      "Ano para esta linha: 1989\n",
      "Nome: Liv Ullmann, Personagem: None, Filme: The Rose Garden\n",
      "Ano para esta linha: 1990\n",
      "Nome: Kathy Bates, Personagem: Annie Wilkes, Filme: Misery\n",
      "Ano para esta linha: 1990\n",
      "Nome: Anjelica Huston, Personagem: None, Filme: The Grifters\n",
      "Ano para esta linha: 1990\n",
      "Nome: Michelle Pfeiffer, Personagem: None, Filme: The Russia House\n",
      "Ano para esta linha: 1990\n",
      "Nome: Susan Sarandon, Personagem: None, Filme: White Palace\n",
      "Ano para esta linha: 1990\n",
      "Nome: Joanne Woodward, Personagem: None, Filme: Mr. & Mrs. Bridge\n",
      "Ano para esta linha: 1991\n",
      "Nome: Jodie Foster, Personagem: Clarice Starling, Filme: The Silence of the Lambs\n",
      "Ano para esta linha: 1991\n",
      "Nome: Annette Bening, Personagem: Virginia Hill, Filme: Bugsy\n",
      "Ano para esta linha: 1991\n",
      "Nome: Geena Davis, Personagem: None, Filme: Thelma & Louise\n",
      "Ano para esta linha: 1991\n",
      "Nome: Laura Dern, Personagem: None, Filme: Rambling Rose\n",
      "Ano para esta linha: 1991\n",
      "Nome: Susan Sarandon, Personagem: None, Filme: Rambling Rose\n",
      "Ano para esta linha: 1992\n",
      "Nome: Emma Thompson, Personagem: None, Filme: Howards End\n",
      "Ano para esta linha: 1992\n",
      "Nome: Mary McDonnell, Personagem: None, Filme: Passion Fish\n",
      "Ano para esta linha: 1992\n",
      "Nome: Michelle Pfeiffer, Personagem: None, Filme: Love Field\n",
      "Ano para esta linha: 1992\n",
      "Nome: Susan Sarandon, Personagem: Michaela Odone, Filme: Lorenzo's Oil\n",
      "Ano para esta linha: 1992\n",
      "Nome: Sharon Stone, Personagem: Catherine Tramell, Filme: Basic Instinct\n",
      "Ano para esta linha: 1993\n",
      "Nome: Holly Hunter, Personagem: None, Filme: The Piano\n",
      "Ano para esta linha: 1993\n",
      "Nome: Juliette Binoche, Personagem: None, Filme: Three Colours: Blue\n",
      "Ano para esta linha: 1993\n",
      "Nome: Michelle Pfeiffer, Personagem: None, Filme: The Age of Innocence\n",
      "Ano para esta linha: 1993\n",
      "Nome: Emma Thompson, Personagem: None, Filme: The Remains of the Day\n",
      "Ano para esta linha: 1993\n",
      "Nome: Debra Winger, Personagem: None, Filme: A Dangerous Woman\n",
      "Ano para esta linha: 1994\n",
      "Nome: Jessica Lange, Personagem: None, Filme: Blue Sky\n",
      "Ano para esta linha: 1994\n",
      "Nome: Jodie Foster, Personagem: None, Filme: Nell\n",
      "Ano para esta linha: 1994\n",
      "Nome: Jennifer Jason Leigh, Personagem: Dorothy Parker, Filme: Mrs. Parker and the Vicious Circle\n",
      "Ano para esta linha: 1994\n",
      "Nome: Miranda Richardson, Personagem: Vivienne Haigh-Wood Eliot, Filme: Tom & Viv\n",
      "Ano para esta linha: 1994\n",
      "Nome: Meryl Streep, Personagem: None, Filme: The River Wild\n",
      "Ano para esta linha: 1995\n",
      "Nome: Sharon Stone, Personagem: None, Filme: Casino\n",
      "Ano para esta linha: 1995\n",
      "Nome: Susan Sarandon, Personagem: Sister Helen Prejean, Filme: Dead Man Walking\n",
      "Ano para esta linha: 1995\n",
      "Nome: Elisabeth Shue, Personagem: None, Filme: Leaving Las Vegas\n",
      "Ano para esta linha: 1995\n",
      "Nome: Meryl Streep, Personagem: None, Filme: The Bridges of Madison County\n",
      "Ano para esta linha: 1995\n",
      "Nome: Emma Thompson, Personagem: Elinor Dashwood, Filme: Sense and Sensibility\n",
      "Ano para esta linha: 1996\n",
      "Nome: Brenda Blethyn, Personagem: None, Filme: Secrets & Lies\n",
      "Ano para esta linha: 1996\n",
      "Nome: Courtney Love, Personagem: Althea Leasure, Filme: The People vs. Larry Flynt\n",
      "Ano para esta linha: 1996\n",
      "Nome: Kristin Scott Thomas, Personagem: None, Filme: The English Patient\n",
      "Ano para esta linha: 1996\n",
      "Nome: Meryl Streep, Personagem: None, Filme: Marvin's Room\n",
      "Ano para esta linha: 1996\n",
      "Nome: Emily Watson, Personagem: None, Filme: Breaking the Waves\n",
      "Ano para esta linha: 1997\n",
      "Nome: Judi Dench, Personagem: Queen Victoria, Filme: Mrs Brown\n",
      "Ano para esta linha: 1997\n",
      "Nome: Helena Bonham Carter, Personagem: None, Filme: The Wings of the Dove\n",
      "Ano para esta linha: 1997\n",
      "Nome: Jodie Foster, Personagem: None, Filme: Contact\n",
      "Ano para esta linha: 1997\n",
      "Nome: Jessica Lange, Personagem: None, Filme: A Thousand Acres\n",
      "Ano para esta linha: 1997\n",
      "Nome: Kate Winslet, Personagem: None, Filme: Titanic\n",
      "Ano para esta linha: 1998\n",
      "Nome: Cate Blanchett, Personagem: Queen Elizabeth I, Filme: Elizabeth\n",
      "Ano para esta linha: 1998\n",
      "Nome: Fernanda Montenegro, Personagem: None, Filme: Central Station\n",
      "Ano para esta linha: 1998\n",
      "Nome: Susan Sarandon, Personagem: None, Filme: Stepmom\n",
      "Ano para esta linha: 1998\n",
      "Nome: Meryl Streep, Personagem: None, Filme: One True Thing\n",
      "Ano para esta linha: 1998\n",
      "Nome: Emily Watson, Personagem: Jacqueline du Pré, Filme: Hilary and Jackie\n",
      "Ano para esta linha: 1999\n",
      "Nome: Hilary Swank, Personagem: Brandon Teena, Filme: Boys Don't Cry\n",
      "Ano para esta linha: 1999\n",
      "Nome: Annette Bening, Personagem: None, Filme: American Beauty\n",
      "Ano para esta linha: 1999\n",
      "Nome: Julianne Moore, Personagem: None, Filme: The End of the Affair\n",
      "Ano para esta linha: 1999\n",
      "Nome: Meryl Streep, Personagem: Roberta Guaspari, Filme: Music of the Heart\n",
      "Ano para esta linha: 1999\n",
      "Nome: Sigourney Weaver, Personagem: None, Filme: A Map of the World\n",
      "Ano para esta linha: 2000\n",
      "Nome: Julia Roberts, Personagem: Erin Brockovich, Filme: Erin Brockovich\n",
      "Ano para esta linha: 2000\n",
      "Nome: Joan Allen, Personagem: None, Filme: The Contender\n",
      "Ano para esta linha: 2000\n",
      "Nome: Björk, Personagem: None, Filme: Dancer in the Dark\n",
      "Ano para esta linha: 2000\n",
      "Nome: Ellen Burstyn, Personagem: None, Filme: Requiem for a Dream\n",
      "Ano para esta linha: 2000\n",
      "Nome: Laura Linney, Personagem: None, Filme: You Can Count on Me\n",
      "Ano para esta linha: 2001\n",
      "Nome: Sissy Spacek, Personagem: None, Filme: In the Bedroom\n",
      "Ano para esta linha: 2001\n",
      "Nome: Halle Berry, Personagem: None, Filme: Monster's Ball\n",
      "Ano para esta linha: 2001\n",
      "Nome: Judi Dench, Personagem: Iris Murdoch, Filme: Iris\n",
      "Ano para esta linha: 2001\n",
      "Nome: Nicole Kidman, Personagem: None, Filme: The Others\n",
      "Ano para esta linha: 2001\n",
      "Nome: Tilda Swinton, Personagem: None, Filme: The Deep End\n",
      "Ano para esta linha: 2002\n",
      "Nome: Nicole Kidman, Personagem: Virginia Woolf, Filme: The Hours\n",
      "Ano para esta linha: 2002\n",
      "Nome: Meryl Streep, Personagem: None, Filme: The Hours\n",
      "Ano para esta linha: 2002\n",
      "Nome: Salma Hayek, Personagem: Frida Kahlo, Filme: Frida\n",
      "Ano para esta linha: 2002\n",
      "Nome: Diane Lane, Personagem: None, Filme: Unfaithful\n",
      "Ano para esta linha: 2002\n",
      "Nome: Julianne Moore, Personagem: None, Filme: Far from Heaven\n",
      "Ano para esta linha: 2003\n",
      "Nome: Charlize Theron, Personagem: Aileen Wuornos, Filme: Monster\n",
      "Ano para esta linha: 2003\n",
      "Nome: Cate Blanchett, Personagem: Veronica Guerin, Filme: Veronica Guerin\n",
      "Ano para esta linha: 2003\n",
      "Nome: Scarlett Johansson, Personagem: None, Filme: Girl with a Pearl Earring\n",
      "Ano para esta linha: 2003\n",
      "Nome: Nicole Kidman, Personagem: None, Filme: Cold Mountain\n",
      "Ano para esta linha: 2003\n",
      "Nome: Uma Thurman, Personagem: Beatrix Kiddo, Filme: Kill Bill: Volume 1\n",
      "Ano para esta linha: 2003\n",
      "Nome: Evan Rachel Wood, Personagem: None, Filme: Thirteen\n",
      "Ano para esta linha: 2004\n",
      "Nome: Hilary Swank, Personagem: None, Filme: Million Dollar Baby\n",
      "Ano para esta linha: 2004\n",
      "Nome: Scarlett Johansson, Personagem: None, Filme: A Love Song for Bobby Long\n",
      "Ano para esta linha: 2004\n",
      "Nome: Nicole Kidman, Personagem: None, Filme: Birth\n",
      "Ano para esta linha: 2004\n",
      "Nome: Imelda Staunton, Personagem: None, Filme: Vera Drake\n",
      "Ano para esta linha: 2004\n",
      "Nome: Uma Thurman, Personagem: Beatrix Kiddo, Filme: Kill Bill: Volume 2\n",
      "Ano para esta linha: 2005\n",
      "Nome: Felicity Huffman, Personagem: None, Filme: Transamerica\n",
      "Ano para esta linha: 2005\n",
      "Nome: Maria Bello, Personagem: None, Filme: A History of Violence\n",
      "Ano para esta linha: 2005\n",
      "Nome: Gwyneth Paltrow, Personagem: None, Filme: Proof\n",
      "Ano para esta linha: 2005\n",
      "Nome: Charlize Theron, Personagem: None, Filme: North Country\n",
      "Ano para esta linha: 2005\n",
      "Nome: Zhang Ziyi, Personagem: None, Filme: Memoirs of a Geisha\n",
      "Ano para esta linha: 2006\n",
      "Nome: Helen Mirren, Personagem: Queen Elizabeth II, Filme: The Queen\n",
      "Ano para esta linha: 2006\n",
      "Nome: Penélope Cruz, Personagem: None, Filme: Volver\n",
      "Ano para esta linha: 2006\n",
      "Nome: Judi Dench, Personagem: None, Filme: Notes on a Scandal\n",
      "Ano para esta linha: 2006\n",
      "Nome: Maggie Gyllenhaal, Personagem: None, Filme: Sherrybaby\n",
      "Ano para esta linha: 2006\n",
      "Nome: Kate Winslet, Personagem: None, Filme: Little Children\n",
      "Ano para esta linha: 2007\n",
      "Nome: Julie Christie, Personagem: None, Filme: Away from Her\n",
      "Ano para esta linha: 2007\n",
      "Nome: Cate Blanchett, Personagem: Queen Elizabeth I, Filme: Elizabeth: The Golden Age\n",
      "Ano para esta linha: 2007\n",
      "Nome: Jodie Foster, Personagem: None, Filme: The Brave One\n",
      "Ano para esta linha: 2007\n",
      "Nome: Angelina Jolie, Personagem: Mariane Pearl, Filme: A Mighty Heart\n",
      "Ano para esta linha: 2007\n",
      "Nome: Keira Knightley, Personagem: None, Filme: Atonement\n",
      "Ano para esta linha: 2008\n",
      "Nome: Kate Winslet, Personagem: None, Filme: Revolutionary Road\n",
      "Ano para esta linha: 2008\n",
      "Nome: Anne Hathaway, Personagem: None, Filme: Rachel Getting Married\n",
      "Ano para esta linha: 2008\n",
      "Nome: Angelina Jolie, Personagem: Christine Collins, Filme: Changeling\n",
      "Ano para esta linha: 2008\n",
      "Nome: Kristin Scott Thomas, Personagem: None, Filme: I've Loved You So Long\n",
      "Ano para esta linha: 2008\n",
      "Nome: Meryl Streep, Personagem: None, Filme: Doubt\n",
      "Ano para esta linha: 2009\n",
      "Nome: Sandra Bullock, Personagem: Leigh Anne Tuohy, Filme: The Blind Side\n",
      "Ano para esta linha: 2009\n",
      "Nome: Emily Blunt, Personagem: Queen Victoria, Filme: The Young Victoria\n",
      "Ano para esta linha: 2009\n",
      "Nome: Helen Mirren, Personagem: Sofya Tolstoy, Filme: The Last Station\n",
      "Ano para esta linha: 2009\n",
      "Nome: Carey Mulligan, Personagem: None, Filme: An Education\n",
      "Ano para esta linha: 2009\n",
      "Nome: Gabourey Sidibe, Personagem: None, Filme: Precious\n",
      "Ano para esta linha: 2010\n",
      "Nome: Natalie Portman, Personagem: None, Filme: Black Swan\n",
      "Ano para esta linha: 2010\n",
      "Nome: Halle Berry, Personagem: None, Filme: Frankie & Alice\n",
      "Ano para esta linha: 2010\n",
      "Nome: Nicole Kidman, Personagem: None, Filme: Rabbit Hole\n",
      "Ano para esta linha: 2010\n",
      "Nome: Jennifer Lawrence, Personagem: None, Filme: Winter's Bone\n",
      "Ano para esta linha: 2010\n",
      "Nome: Michelle Williams, Personagem: None, Filme: Blue Valentine\n",
      "Ano para esta linha: 2011\n",
      "Nome: Meryl Streep, Personagem: Margaret Thatcher, Filme: The Iron Lady\n",
      "Ano para esta linha: 2011\n",
      "Nome: Glenn Close, Personagem: None, Filme: Albert Nobbs\n",
      "Ano para esta linha: 2011\n",
      "Nome: Viola Davis, Personagem: None, Filme: The Help\n",
      "Ano para esta linha: 2011\n",
      "Nome: Rooney Mara, Personagem: Lisbeth Salander, Filme: The Girl with the Dragon Tattoo\n",
      "Ano para esta linha: 2011\n",
      "Nome: Tilda Swinton, Personagem: None, Filme: We Need to Talk About Kevin\n",
      "Ano para esta linha: 2012\n",
      "Nome: Jessica Chastain, Personagem: None, Filme: Zero Dark Thirty\n",
      "Ano para esta linha: 2012\n",
      "Nome: Marion Cotillard, Personagem: None, Filme: Rust and Bone\n",
      "Ano para esta linha: 2012\n",
      "Nome: Helen Mirren, Personagem: Alma Reville, Filme: Hitchcock\n",
      "Ano para esta linha: 2012\n",
      "Nome: Naomi Watts, Personagem: Maria Bennett, Filme: The Impossible\n",
      "Ano para esta linha: 2012\n",
      "Nome: Rachel Weisz, Personagem: None, Filme: The Deep Blue Sea\n",
      "Ano para esta linha: 2013\n",
      "Nome: Cate Blanchett, Personagem: None, Filme: Blue Jasmine\n",
      "Ano para esta linha: 2013\n",
      "Nome: Sandra Bullock, Personagem: None, Filme: Gravity\n",
      "Ano para esta linha: 2013\n",
      "Nome: Judi Dench, Personagem: Philomena Lee, Filme: Philomena\n",
      "Ano para esta linha: 2013\n",
      "Nome: Emma Thompson, Personagem: P. L. Travers, Filme: Saving Mr. Banks\n",
      "Ano para esta linha: 2013\n",
      "Nome: Kate Winslet, Personagem: None, Filme: Labor Day\n",
      "Ano para esta linha: 2014\n",
      "Nome: Julianne Moore, Personagem: None, Filme: Still Alice\n",
      "Ano para esta linha: 2014\n",
      "Nome: Jennifer Aniston, Personagem: None, Filme: Cake\n",
      "Ano para esta linha: 2014\n",
      "Nome: Felicity Jones, Personagem: Jane Hawking, Filme: The Theory of Everything\n",
      "Ano para esta linha: 2014\n",
      "Nome: Rosamund Pike, Personagem: None, Filme: Gone Girl\n",
      "Ano para esta linha: 2014\n",
      "Nome: Reese Witherspoon, Personagem: Cheryl Strayed, Filme: Wild\n",
      "Ano para esta linha: 2015\n",
      "Nome: Brie Larson, Personagem: None, Filme: Room\n",
      "Ano para esta linha: 2015\n",
      "Nome: Cate Blanchett, Personagem: None, Filme: Carol\n",
      "Ano para esta linha: 2015\n",
      "Nome: Rooney Mara, Personagem: None, Filme: Carol\n",
      "Ano para esta linha: 2015\n",
      "Nome: Saoirse Ronan, Personagem: None, Filme: Brooklyn\n",
      "Ano para esta linha: 2015\n",
      "Nome: Alicia Vikander, Personagem: Gerda Wegener, Filme: The Danish Girl\n",
      "Ano para esta linha: 2016\n",
      "Nome: Isabelle Huppert, Personagem: None, Filme: Elle\n",
      "Ano para esta linha: 2016\n",
      "Nome: Amy Adams, Personagem: None, Filme: Arrival\n",
      "Ano para esta linha: 2016\n",
      "Nome: Jessica Chastain, Personagem: None, Filme: Miss Sloane\n",
      "Ano para esta linha: 2016\n",
      "Nome: Ruth Negga, Personagem: Mildred Loving, Filme: Loving\n",
      "Ano para esta linha: 2016\n",
      "Nome: Natalie Portman, Personagem: Jackie Kennedy, Filme: Jackie\n",
      "Ano para esta linha: 2017\n",
      "Nome: Frances McDormand, Personagem: None, Filme: Three Billboards Outside Ebbing, Missouri\n",
      "Ano para esta linha: 2017\n",
      "Nome: Jessica Chastain, Personagem: Molly Bloom, Filme: Molly's Game\n",
      "Ano para esta linha: 2017\n",
      "Nome: Sally Hawkins, Personagem: None, Filme: The Shape of Water\n",
      "Ano para esta linha: 2017\n",
      "Nome: Meryl Streep, Personagem: Katharine Graham, Filme: The Post\n",
      "Ano para esta linha: 2017\n",
      "Nome: Michelle Williams, Personagem: None, Filme: All the Money in the World\n",
      "Ano para esta linha: 2018\n",
      "Nome: Glenn Close, Personagem: None, Filme: The Wife\n",
      "Ano para esta linha: 2018\n",
      "Nome: Lady Gaga, Personagem: None, Filme: A Star Is Born\n",
      "Ano para esta linha: 2018\n",
      "Nome: Nicole Kidman, Personagem: None, Filme: Destroyer\n",
      "Ano para esta linha: 2018\n",
      "Nome: Melissa McCarthy, Personagem: Lee Israel, Filme: Can You Ever Forgive Me?\n",
      "Ano para esta linha: 2018\n",
      "Nome: Rosamund Pike, Personagem: Marie Colvin, Filme: A Private War\n",
      "Ano para esta linha: 2019\n",
      "Nome: Renée Zellweger, Personagem: Judy Garland, Filme: Judy\n",
      "Ano para esta linha: 2019\n",
      "Nome: Cynthia Erivo, Personagem: Harriet Tubman, Filme: Harriet\n",
      "Ano para esta linha: 2019\n",
      "Nome: Scarlett Johansson, Personagem: None, Filme: Marriage Story\n",
      "Ano para esta linha: 2019\n",
      "Nome: Saoirse Ronan, Personagem: Josephine \"Jo\" March, Filme: Little Women\n",
      "Ano para esta linha: 2019\n",
      "Nome: Charlize Theron, Personagem: Megyn Kelly, Filme: Bombshell\n",
      "Ano para esta linha: 2020\n",
      "Nome: Andra Day, Personagem: Billie Holiday, Filme: The United States vs. Billie Holiday\n",
      "Ano para esta linha: 2020\n",
      "Nome: Viola Davis, Personagem: Ma Rainey, Filme: Ma Rainey's Black Bottom\n",
      "Ano para esta linha: 2020\n",
      "Nome: Vanessa Kirby, Personagem: None, Filme: Pieces of a Woman\n",
      "Ano para esta linha: 2020\n",
      "Nome: Frances McDormand, Personagem: None, Filme: Nomadland\n",
      "Ano para esta linha: 2020\n",
      "Nome: Carey Mulligan, Personagem: None, Filme: Promising Young Woman\n",
      "Ano para esta linha: 2021\n",
      "Nome: Nicole Kidman, Personagem: Lucille Ball, Filme: Being the Ricardos\n",
      "Ano para esta linha: 2021\n",
      "Nome: Jessica Chastain, Personagem: Tammy Faye Bakker, Filme: The Eyes of Tammy Faye\n",
      "Ano para esta linha: 2021\n",
      "Nome: Olivia Colman, Personagem: None, Filme: The Lost Daughter\n",
      "Ano para esta linha: 2021\n",
      "Nome: Lady Gaga, Personagem: Patrizia Reggiani, Filme: House of Gucci\n",
      "Ano para esta linha: 2021\n",
      "Nome: Kristen Stewart, Personagem: Princess Diana, Filme: Spencer\n",
      "Ano para esta linha: 2022\n",
      "Nome: Cate Blanchett, Personagem: None, Filme: Tár\n",
      "Ano para esta linha: 2022\n",
      "Nome: Olivia Colman, Personagem: None, Filme: Empire of Light\n",
      "Ano para esta linha: 2022\n",
      "Nome: Viola Davis, Personagem: None, Filme: The Woman King\n",
      "Ano para esta linha: 2022\n",
      "Nome: Ana de Armas, Personagem: Norma Jeane Mortenson / Marilyn Monroe, Filme: Blonde\n",
      "Ano para esta linha: 2022\n",
      "Nome: Michelle Williams, Personagem: None, Filme: The Fabelmans\n",
      "Ano para esta linha: 2023\n",
      "Nome: Lily Gladstone, Personagem: Mollie Burkhart, Filme: Killers of the Flower Moon\n",
      "Ano para esta linha: 2023\n",
      "Nome: Annette Bening, Personagem: Diana Nyad, Filme: Nyad\n",
      "Ano para esta linha: 2023\n",
      "Nome: Sandra Hüller, Personagem: None, Filme: Anatomy of a Fall\n",
      "Ano para esta linha: 2023\n",
      "Nome: Greta Lee, Personagem: None, Filme: Past Lives\n",
      "Ano para esta linha: 2023\n",
      "Nome: Carey Mulligan, Personagem: Felicia Montealegre Bernstein, Filme: Maestro\n",
      "Ano para esta linha: 2023\n",
      "Nome: Cailee Spaeny, Personagem: Priscilla Presley, Filme: Priscilla\n",
      "Ano para esta linha: 2023\n",
      "Nome: Fernanda Torres, Personagem: Eunice Paiva, Filme: I'm Still Here\n",
      "Ano para esta linha: 2023\n",
      "Nome: Pamela Anderson, Personagem: None, Filme: The Last Showgirl\n",
      "Ano para esta linha: 2023\n",
      "Nome: Angelina Jolie, Personagem: Maria Callas, Filme: Maria\n",
      "Ano para esta linha: 2023\n",
      "Nome: Nicole Kidman, Personagem: None, Filme: Babygirl\n",
      "Ano para esta linha: 2023\n",
      "Nome: Tilda Swinton, Personagem: None, Filme: The Room Next Door\n",
      "Ano para esta linha: 2023\n",
      "Nome: Kate Winslet, Personagem: Lee Miller, Filme: Lee\n"
     ]
    }
   ],
   "source": [
    "for table in tables:\n",
    "    rows = table.find_all('tr')\n",
    "    current_year = None  # Variável para armazenar o ano atual\n",
    "    current_filme = None\n",
    "    \n",
    "    for row in rows[1:]:\n",
    "        ano_th = row.find('th', {'style': 'text-align:center;'})\n",
    "        \n",
    "        # Se encontrou um th com o estilo, atualiza o ano atual\n",
    "        if ano_th is not None and ano_th.find('a'):\n",
    "            current_year = ano_th.find('a').text\n",
    "        \n",
    "        # Usa o ano atual para esta linha\n",
    "        ano_atual = current_year\n",
    "        print(f\"Ano para esta linha: {ano_atual}\")\n",
    "        \n",
    "        # Processa os tds\n",
    "        tds = row.find_all('td')\n",
    "        nome = tds[0].find('a').text if tds[0].find('a') else None\n",
    "        personagem = tds[1].find('a').text if tds[1].find('a') else None\n",
    "        if len(tds) > 2:\n",
    "                filme = tds[2].find('a').text if tds[2].find('a') else None\n",
    "                # Atualiza o filme atual para uso em linhas futuras\n",
    "                if filme:\n",
    "                    current_filme = filme\n",
    "                else:\n",
    "                    # Usa o filme armazenado anteriormente\n",
    "                    filme = current_filme\n",
    "            \n",
    "        print(f\"Nome: {nome}, Personagem: {personagem}, Filme: {filme}\")\n",
    "\n",
    "        ganhou = isWinner(row)\n",
    "    \n",
    "        df = pd.concat(\n",
    "            [\n",
    "                df,\n",
    "                pd.DataFrame(\n",
    "                    {\n",
    "                        'ano': [ano_atual],\n",
    "                        'nome': [nome],\n",
    "                        'personagem': [personagem],\n",
    "                        'filme': [filme],\n",
    "                        'ganhou': [ganhou]\n",
    "                    }\n",
    "                )\n",
    "            ]\n",
    "    )"
   ]
  },
  {
   "cell_type": "code",
   "execution_count": 22,
   "metadata": {},
   "outputs": [
    {
     "data": {
      "application/vnd.microsoft.datawrangler.viewer.v0+json": {
       "columns": [
        {
         "name": "index",
         "rawType": "int64",
         "type": "integer"
        },
        {
         "name": "ano",
         "rawType": "object",
         "type": "string"
        },
        {
         "name": "nome",
         "rawType": "object",
         "type": "unknown"
        },
        {
         "name": "personagem",
         "rawType": "object",
         "type": "unknown"
        },
        {
         "name": "filme",
         "rawType": "object",
         "type": "string"
        },
        {
         "name": "ganhou",
         "rawType": "object",
         "type": "unknown"
        }
       ],
       "conversionMethod": "pd.DataFrame",
       "ref": "560f3f97-de86-46e3-9b4a-1001d9d7ae9c",
       "rows": [
        [
         "0",
         "1943",
         "Jennifer Jones",
         "Bernadette Soubirous",
         "The Song of Bernadette",
         "True"
        ],
        [
         "0",
         "1946",
         "Rosalind Russell",
         "Sister Elizabeth Kenny",
         "Sister Kenny",
         "True"
        ],
        [
         "0",
         "1951",
         "Vivien Leigh",
         "Blanche DuBois",
         "A Streetcar Named Desire",
         "False"
        ],
        [
         "0",
         "1956",
         "Helen Hayes",
         "Dowager Empress Maria Feodorovona",
         "Anastasia",
         "False"
        ],
        [
         "0",
         "1956",
         "Audrey Hepburn",
         "Natasha Rostova",
         "War and Peace",
         "False"
        ],
        [
         "0",
         "1958",
         "Susan Hayward",
         "Barbara Graham",
         "I Want to Live!",
         "True"
        ],
        [
         "0",
         "1958",
         "Ingrid Bergman",
         "Gladys Aylward",
         "The Inn of the Sixth Happiness",
         "False"
        ],
        [
         "0",
         "1960",
         "Greer Garson",
         "Eleanor Roosevelt",
         "Sunrise at Campobello",
         "True"
        ],
        [
         "0",
         "1962",
         "Anne Bancroft",
         "Anne Sullivan",
         "The Miracle Worker",
         "False"
        ],
        [
         "0",
         "1962",
         "Bette Davis",
         "Jane Hudson",
         "What Ever Happened to Baby Jane?",
         "False"
        ],
        [
         "0",
         "1965",
         "Maggie Smith",
         "Desdemona",
         "Othello",
         "False"
        ],
        [
         "0",
         "1966",
         "Virginia McKenna",
         "Joy Adamson",
         "Born Free",
         "False"
        ],
        [
         "0",
         "1967",
         "Faye Dunaway",
         "Bonnie Parker",
         "Bonnie and Clyde",
         "False"
        ],
        [
         "0",
         "1968",
         "Katharine Hepburn",
         "Eleanor of Aquitaine",
         "The Lion in Winter",
         "False"
        ],
        [
         "0",
         "1968",
         "Vanessa Redgrave",
         "Isadora Duncan",
         "Isadora",
         "False"
        ],
        [
         "0",
         "1969",
         "Geneviève Bujold",
         "Anne Boleyn",
         "Anne of the Thousand Days",
         "True"
        ],
        [
         "0",
         "1969",
         "Maggie Smith",
         "Jean Brodie",
         "The Prime of Miss Jean Brodie",
         "False"
        ],
        [
         "0",
         "1971",
         "Glenda Jackson",
         "Elizabeth I of England",
         "Mary, Queen of Scots",
         "False"
        ],
        [
         "0",
         "1971",
         "Jennifer Jones",
         "Bernadette Soubirous",
         "The Song of Bernadette",
         "True"
        ],
        [
         "0",
         "1971",
         "Rosalind Russell",
         "Sister Elizabeth Kenny",
         "Sister Kenny",
         "True"
        ],
        [
         "0",
         "1971",
         "Vivien Leigh",
         "Blanche DuBois",
         "A Streetcar Named Desire",
         "False"
        ],
        [
         "0",
         "1971",
         "Helen Hayes",
         "Dowager Empress Maria Feodorovona",
         "Anastasia",
         "False"
        ],
        [
         "0",
         "1971",
         "Audrey Hepburn",
         "Natasha Rostova",
         "War and Peace",
         "False"
        ],
        [
         "0",
         "1971",
         "Susan Hayward",
         "Barbara Graham",
         "I Want to Live!",
         "True"
        ],
        [
         "0",
         "1971",
         "Ingrid Bergman",
         "Gladys Aylward",
         "The Inn of the Sixth Happiness",
         "False"
        ],
        [
         "0",
         "1971",
         "Greer Garson",
         "Eleanor Roosevelt",
         "Sunrise at Campobello",
         "True"
        ],
        [
         "0",
         "1971",
         "Anne Bancroft",
         "Anne Sullivan",
         "The Miracle Worker",
         "False"
        ],
        [
         "0",
         "1971",
         "Bette Davis",
         "Jane Hudson",
         "What Ever Happened to Baby Jane?",
         "False"
        ],
        [
         "0",
         "1971",
         "Maggie Smith",
         "Desdemona",
         "Othello",
         "False"
        ],
        [
         "0",
         "1971",
         "Virginia McKenna",
         "Joy Adamson",
         "Born Free",
         "False"
        ],
        [
         "0",
         "1971",
         "Faye Dunaway",
         "Bonnie Parker",
         "Bonnie and Clyde",
         "False"
        ],
        [
         "0",
         "1971",
         "Katharine Hepburn",
         "Eleanor of Aquitaine",
         "The Lion in Winter",
         "False"
        ],
        [
         "0",
         "1971",
         "Vanessa Redgrave",
         "Isadora Duncan",
         "Isadora",
         "False"
        ],
        [
         "0",
         "1971",
         "Geneviève Bujold",
         "Anne Boleyn",
         "Anne of the Thousand Days",
         "True"
        ],
        [
         "0",
         "1971",
         "Maggie Smith",
         "Jean Brodie",
         "The Prime of Miss Jean Brodie",
         "False"
        ],
        [
         "0",
         "1971",
         "Glenda Jackson",
         "Elizabeth I of England",
         "Mary, Queen of Scots",
         "False"
        ],
        [
         "0",
         "1943",
         "Jennifer Jones",
         "Bernadette Soubirous",
         "The Song of Bernadette",
         "True"
        ],
        [
         "0",
         "1946",
         "Rosalind Russell",
         "Sister Elizabeth Kenny",
         "Sister Kenny",
         "True"
        ],
        [
         "0",
         "1951",
         "Vivien Leigh",
         "Blanche DuBois",
         "A Streetcar Named Desire",
         "False"
        ],
        [
         "0",
         "1956",
         "Helen Hayes",
         "Dowager Empress Maria Feodorovona",
         "Anastasia",
         "False"
        ],
        [
         "0",
         "1956",
         "Audrey Hepburn",
         "Natasha Rostova",
         "War and Peace",
         "False"
        ],
        [
         "0",
         "1958",
         "Susan Hayward",
         "Barbara Graham",
         "I Want to Live!",
         "True"
        ],
        [
         "0",
         "1958",
         "Ingrid Bergman",
         "Gladys Aylward",
         "The Inn of the Sixth Happiness",
         "False"
        ],
        [
         "0",
         "1960",
         "Greer Garson",
         "Eleanor Roosevelt",
         "Sunrise at Campobello",
         "True"
        ],
        [
         "0",
         "1962",
         "Anne Bancroft",
         "Anne Sullivan",
         "The Miracle Worker",
         "False"
        ],
        [
         "0",
         "1962",
         "Bette Davis",
         "Jane Hudson",
         "What Ever Happened to Baby Jane?",
         "False"
        ],
        [
         "0",
         "1965",
         "Maggie Smith",
         "Desdemona",
         "Othello",
         "False"
        ],
        [
         "0",
         "1966",
         "Virginia McKenna",
         "Joy Adamson",
         "Born Free",
         "False"
        ],
        [
         "0",
         "1967",
         "Faye Dunaway",
         "Bonnie Parker",
         "Bonnie and Clyde",
         "False"
        ],
        [
         "0",
         "1968",
         "Katharine Hepburn",
         "Eleanor of Aquitaine",
         "The Lion in Winter",
         "False"
        ]
       ],
       "shape": {
        "columns": 5,
        "rows": 554
       }
      },
      "text/html": [
       "<div>\n",
       "<style scoped>\n",
       "    .dataframe tbody tr th:only-of-type {\n",
       "        vertical-align: middle;\n",
       "    }\n",
       "\n",
       "    .dataframe tbody tr th {\n",
       "        vertical-align: top;\n",
       "    }\n",
       "\n",
       "    .dataframe thead th {\n",
       "        text-align: right;\n",
       "    }\n",
       "</style>\n",
       "<table border=\"1\" class=\"dataframe\">\n",
       "  <thead>\n",
       "    <tr style=\"text-align: right;\">\n",
       "      <th></th>\n",
       "      <th>ano</th>\n",
       "      <th>nome</th>\n",
       "      <th>personagem</th>\n",
       "      <th>filme</th>\n",
       "      <th>ganhou</th>\n",
       "    </tr>\n",
       "  </thead>\n",
       "  <tbody>\n",
       "    <tr>\n",
       "      <th>0</th>\n",
       "      <td>1943</td>\n",
       "      <td>Jennifer Jones</td>\n",
       "      <td>Bernadette Soubirous</td>\n",
       "      <td>The Song of Bernadette</td>\n",
       "      <td>True</td>\n",
       "    </tr>\n",
       "    <tr>\n",
       "      <th>0</th>\n",
       "      <td>1946</td>\n",
       "      <td>Rosalind Russell</td>\n",
       "      <td>Sister Elizabeth Kenny</td>\n",
       "      <td>Sister Kenny</td>\n",
       "      <td>True</td>\n",
       "    </tr>\n",
       "    <tr>\n",
       "      <th>0</th>\n",
       "      <td>1951</td>\n",
       "      <td>Vivien Leigh</td>\n",
       "      <td>Blanche DuBois</td>\n",
       "      <td>A Streetcar Named Desire</td>\n",
       "      <td>False</td>\n",
       "    </tr>\n",
       "    <tr>\n",
       "      <th>0</th>\n",
       "      <td>1956</td>\n",
       "      <td>Helen Hayes</td>\n",
       "      <td>Dowager Empress Maria Feodorovona</td>\n",
       "      <td>Anastasia</td>\n",
       "      <td>False</td>\n",
       "    </tr>\n",
       "    <tr>\n",
       "      <th>0</th>\n",
       "      <td>1956</td>\n",
       "      <td>Audrey Hepburn</td>\n",
       "      <td>Natasha Rostova</td>\n",
       "      <td>War and Peace</td>\n",
       "      <td>False</td>\n",
       "    </tr>\n",
       "    <tr>\n",
       "      <th>...</th>\n",
       "      <td>...</td>\n",
       "      <td>...</td>\n",
       "      <td>...</td>\n",
       "      <td>...</td>\n",
       "      <td>...</td>\n",
       "    </tr>\n",
       "    <tr>\n",
       "      <th>0</th>\n",
       "      <td>2023</td>\n",
       "      <td>Pamela Anderson</td>\n",
       "      <td>None</td>\n",
       "      <td>The Last Showgirl</td>\n",
       "      <td>False</td>\n",
       "    </tr>\n",
       "    <tr>\n",
       "      <th>0</th>\n",
       "      <td>2023</td>\n",
       "      <td>Angelina Jolie</td>\n",
       "      <td>Maria Callas</td>\n",
       "      <td>Maria</td>\n",
       "      <td>False</td>\n",
       "    </tr>\n",
       "    <tr>\n",
       "      <th>0</th>\n",
       "      <td>2023</td>\n",
       "      <td>Nicole Kidman</td>\n",
       "      <td>None</td>\n",
       "      <td>Babygirl</td>\n",
       "      <td>False</td>\n",
       "    </tr>\n",
       "    <tr>\n",
       "      <th>0</th>\n",
       "      <td>2023</td>\n",
       "      <td>Tilda Swinton</td>\n",
       "      <td>None</td>\n",
       "      <td>The Room Next Door</td>\n",
       "      <td>False</td>\n",
       "    </tr>\n",
       "    <tr>\n",
       "      <th>0</th>\n",
       "      <td>2023</td>\n",
       "      <td>Kate Winslet</td>\n",
       "      <td>Lee Miller</td>\n",
       "      <td>Lee</td>\n",
       "      <td>False</td>\n",
       "    </tr>\n",
       "  </tbody>\n",
       "</table>\n",
       "<p>554 rows × 5 columns</p>\n",
       "</div>"
      ],
      "text/plain": [
       "     ano              nome                         personagem  \\\n",
       "0   1943    Jennifer Jones               Bernadette Soubirous   \n",
       "0   1946  Rosalind Russell             Sister Elizabeth Kenny   \n",
       "0   1951      Vivien Leigh                     Blanche DuBois   \n",
       "0   1956       Helen Hayes  Dowager Empress Maria Feodorovona   \n",
       "0   1956    Audrey Hepburn                    Natasha Rostova   \n",
       "..   ...               ...                                ...   \n",
       "0   2023   Pamela Anderson                               None   \n",
       "0   2023    Angelina Jolie                       Maria Callas   \n",
       "0   2023     Nicole Kidman                               None   \n",
       "0   2023     Tilda Swinton                               None   \n",
       "0   2023      Kate Winslet                         Lee Miller   \n",
       "\n",
       "                       filme ganhou  \n",
       "0     The Song of Bernadette   True  \n",
       "0               Sister Kenny   True  \n",
       "0   A Streetcar Named Desire  False  \n",
       "0                  Anastasia  False  \n",
       "0              War and Peace  False  \n",
       "..                       ...    ...  \n",
       "0          The Last Showgirl  False  \n",
       "0                      Maria  False  \n",
       "0                   Babygirl  False  \n",
       "0         The Room Next Door  False  \n",
       "0                        Lee  False  \n",
       "\n",
       "[554 rows x 5 columns]"
      ]
     },
     "execution_count": 22,
     "metadata": {},
     "output_type": "execute_result"
    }
   ],
   "source": [
    "df"
   ]
  }
 ],
 "metadata": {
  "kernelspec": {
   "display_name": "base",
   "language": "python",
   "name": "python3"
  },
  "language_info": {
   "codemirror_mode": {
    "name": "ipython",
    "version": 3
   },
   "file_extension": ".py",
   "mimetype": "text/x-python",
   "name": "python",
   "nbconvert_exporter": "python",
   "pygments_lexer": "ipython3",
   "version": "3.11.5"
  }
 },
 "nbformat": 4,
 "nbformat_minor": 2
}
