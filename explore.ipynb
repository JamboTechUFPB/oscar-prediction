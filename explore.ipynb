{
 "cells": [
  {
   "cell_type": "markdown",
   "metadata": {},
   "source": [
    "# Oscars Best Actress Analysis"
   ]
  },
  {
   "cell_type": "markdown",
   "metadata": {},
   "source": [
    "According to Google AI overview The Golden Globes, SAG Awards, BAFTAs, and Critics' Choice Awards are some of the awards that influence the Oscars. Therefore, I selected only these four awards for my analysis.\n",
    "\n",
    "I will base my analysis in a range of 10 years (2015-2024)\n",
    "\n",
    "I will probably use logistic regression\n"
   ]
  },
  {
   "cell_type": "code",
   "execution_count": null,
   "metadata": {},
   "outputs": [],
   "source": [
    "GOLDEN_GLOBES_url = \"https://en.wikipedia.org/wiki/Golden_Globe_Award_for_Best_Actress_in_a_Motion_Picture_%E2%80%93_Drama\"\n",
    "SAG_AWARDS_url = \"https://en.wikipedia.org/wiki/Screen_Actors_Guild_Award_for_Outstanding_Performance_by_a_Female_Actor_in_a_Leading_Role\"\n",
    "BAFTA_url = \"https://en.wikipedia.org/wiki/BAFTA_Award_for_Best_Actress_in_a_Leading_Role\"\n",
    "CRITICS_CHOICE_url = \"https://en.wikipedia.org/wiki/Critics%27_Choice_Movie_Award_for_Best_Actress\"\n",
    "OSCARS_url = \"https://en.wikipedia.org/wiki/Academy_Award_for_Best_Actress\""
   ]
  },
  {
   "cell_type": "code",
   "execution_count": 69,
   "metadata": {},
   "outputs": [],
   "source": [
    "import requests\n",
    "import pandas as pd\n",
    "from bs4 import BeautifulSoup\n",
    "\n",
    "soup = BeautifulSoup(requests.get(GOLDEN_GLOBES_url).text, 'html.parser')\n"
   ]
  },
  {
   "cell_type": "code",
   "execution_count": 19,
   "metadata": {},
   "outputs": [],
   "source": [
    "tables = soup.find_all('table', class_='wikitable sortable')\n",
    "\n",
    "golden_globes_2020s = tables[-1]\n",
    "golden_globes_2010s = tables[-2]"
   ]
  },
  {
   "cell_type": "code",
   "execution_count": 55,
   "metadata": {},
   "outputs": [
    {
     "data": {
      "text/plain": [
       "9"
      ]
     },
     "execution_count": 55,
     "metadata": {},
     "output_type": "execute_result"
    }
   ],
   "source": [
    "len(tables)"
   ]
  },
  {
   "cell_type": "code",
   "execution_count": 25,
   "metadata": {},
   "outputs": [
    {
     "data": {
      "text/plain": [
       "'1943'"
      ]
     },
     "execution_count": 25,
     "metadata": {},
     "output_type": "execute_result"
    }
   ],
   "source": [
    "soup.find_all('th',{'style': 'text-align:center;'})[0].find('a').text"
   ]
  },
  {
   "cell_type": "code",
   "execution_count": 39,
   "metadata": {},
   "outputs": [],
   "source": [
    "anos = soup.find_all('th',{'style': 'text-align:center;'})"
   ]
  },
  {
   "cell_type": "code",
   "execution_count": 67,
   "metadata": {},
   "outputs": [
    {
     "data": {
      "text/plain": [
       "'2020'"
      ]
     },
     "execution_count": 67,
     "metadata": {},
     "output_type": "execute_result"
    }
   ],
   "source": [
    "#ths = golden_globes_2020s.find_all('th',{'style': 'text-align:center;'})\n",
    "#ths[0].find('a').text"
   ]
  },
  {
   "cell_type": "code",
   "execution_count": 57,
   "metadata": {},
   "outputs": [
    {
     "data": {
      "text/plain": [
       "'The United States vs. Billie Holiday'"
      ]
     },
     "execution_count": 57,
     "metadata": {},
     "output_type": "execute_result"
    }
   ],
   "source": [
    "#golden_globes_2020s.find_all('tr')[1].find_all('td')[0].find('a').text -> nome\n",
    "#golden_globes_2020s.find_all('tr')[1].find_all('td')[1].find('a').text -> personagem\n",
    "#golden_globes_2020s.find_all('tr')[1].find_all('td')[2].find('a').text -> filme"
   ]
  },
  {
   "cell_type": "code",
   "execution_count": 83,
   "metadata": {},
   "outputs": [
    {
     "name": "stdout",
     "output_type": "stream",
     "text": [
      "não tem\n"
     ]
    }
   ],
   "source": [
    "if golden_globes_2020s.find_all('tr')[0].find_all('td',{'style': 'background:#B0C4DE;'}):\n",
    "    print('tem')\n",
    "else:\n",
    "    print('não tem')"
   ]
  },
  {
   "cell_type": "code",
   "execution_count": 68,
   "metadata": {},
   "outputs": [
    {
     "data": {
      "text/plain": [
       "'Lee'"
      ]
     },
     "execution_count": 68,
     "metadata": {},
     "output_type": "execute_result"
    }
   ],
   "source": [
    "golden_globes_2020s.find_all('td')[-1].find('a').text"
   ]
  },
  {
   "cell_type": "code",
   "execution_count": 84,
   "metadata": {},
   "outputs": [],
   "source": [
    "df = pd.DataFrame(columns=['ano','nome','personagem','filme','ganhou'])"
   ]
  },
  {
   "cell_type": "code",
   "execution_count": 91,
   "metadata": {},
   "outputs": [
    {
     "ename": "AttributeError",
     "evalue": "'NoneType' object has no attribute 'text'",
     "output_type": "error",
     "traceback": [
      "\u001b[0;31m---------------------------------------------------------------------------\u001b[0m",
      "\u001b[0;31mAttributeError\u001b[0m                            Traceback (most recent call last)",
      "Cell \u001b[0;32mIn[91], line 14\u001b[0m\n\u001b[1;32m     12\u001b[0m \u001b[38;5;28;01mfor\u001b[39;00m row \u001b[38;5;129;01min\u001b[39;00m table\u001b[38;5;241m.\u001b[39mfind_all(\u001b[38;5;124m'\u001b[39m\u001b[38;5;124mtr\u001b[39m\u001b[38;5;124m'\u001b[39m)[\u001b[38;5;241m1\u001b[39m:]:\n\u001b[1;32m     13\u001b[0m     nome \u001b[38;5;241m=\u001b[39m row\u001b[38;5;241m.\u001b[39mfind_all(\u001b[38;5;124m'\u001b[39m\u001b[38;5;124mtd\u001b[39m\u001b[38;5;124m'\u001b[39m)[\u001b[38;5;241m0\u001b[39m]\u001b[38;5;241m.\u001b[39mfind(\u001b[38;5;124m'\u001b[39m\u001b[38;5;124ma\u001b[39m\u001b[38;5;124m'\u001b[39m)\u001b[38;5;241m.\u001b[39mtext\n\u001b[0;32m---> 14\u001b[0m     personagem \u001b[38;5;241m=\u001b[39m \u001b[43mrow\u001b[49m\u001b[38;5;241;43m.\u001b[39;49m\u001b[43mfind_all\u001b[49m\u001b[43m(\u001b[49m\u001b[38;5;124;43m'\u001b[39;49m\u001b[38;5;124;43mtd\u001b[39;49m\u001b[38;5;124;43m'\u001b[39;49m\u001b[43m)\u001b[49m\u001b[43m[\u001b[49m\u001b[38;5;241;43m1\u001b[39;49m\u001b[43m]\u001b[49m\u001b[38;5;241;43m.\u001b[39;49m\u001b[43mfind\u001b[49m\u001b[43m(\u001b[49m\u001b[38;5;124;43m'\u001b[39;49m\u001b[38;5;124;43ma\u001b[39;49m\u001b[38;5;124;43m'\u001b[39;49m\u001b[43m)\u001b[49m\u001b[38;5;241;43m.\u001b[39;49m\u001b[43mtext\u001b[49m\n\u001b[1;32m     15\u001b[0m     filme \u001b[38;5;241m=\u001b[39m row\u001b[38;5;241m.\u001b[39mfind_all(\u001b[38;5;124m'\u001b[39m\u001b[38;5;124mtd\u001b[39m\u001b[38;5;124m'\u001b[39m)[\u001b[38;5;241m2\u001b[39m]\u001b[38;5;241m.\u001b[39mfind(\u001b[38;5;124m'\u001b[39m\u001b[38;5;124ma\u001b[39m\u001b[38;5;124m'\u001b[39m)\u001b[38;5;241m.\u001b[39mtext\n\u001b[1;32m     16\u001b[0m     ganhou_status \u001b[38;5;241m=\u001b[39m ganhou(i)\n",
      "\u001b[0;31mAttributeError\u001b[0m: 'NoneType' object has no attribute 'text'"
     ]
    }
   ],
   "source": [
    "def ganhou(i):\n",
    "    if table.find_all('tr')[i].find_all('td',{'style': 'background:#B0C4DE;'}):\n",
    "        return True\n",
    "    else:\n",
    "        return False\n",
    "\n",
    "for table in tables:\n",
    "    anos = table.find_all('th',{'style': 'text-align:center;'})\n",
    "    for ano in anos:\n",
    "        year = ano.find('a').text\n",
    "        i=0\n",
    "        for row in table.find_all('tr')[1:]:\n",
    "            nome = row.find_all('td')[0].find('a').text\n",
    "            personagem = row.find_all('td')[1].find('a').text\n",
    "            filme = row.find_all('td')[2].find('a').text\n",
    "            ganhou_status = ganhou(i)\n",
    "            i+=1\n",
    "            new_row = pd.DataFrame({'ano': [year], 'nome': [nome], 'personagem': [personagem], 'filme': [filme], 'ganhou': [ganhou_status]})\n",
    "            df = pd.concat([df, new_row], ignore_index=True)\n",
    "\n",
    "df"
   ]
  },
  {
   "cell_type": "code",
   "execution_count": 101,
   "metadata": {},
   "outputs": [
    {
     "name": "stdout",
     "output_type": "stream",
     "text": [
      "      ano              nome                         personagem  \\\n",
      "0    1943    Jennifer Jones               Bernadette Soubirous   \n",
      "1    1943  Rosalind Russell             Sister Elizabeth Kenny   \n",
      "2    1950      Vivien Leigh                     Blanche DuBois   \n",
      "3    1950       Helen Hayes  Dowager Empress Maria Feodorovona   \n",
      "4    1950    Audrey Hepburn                    Natasha Rostova   \n",
      "..    ...               ...                                ...   \n",
      "96   2020    Carey Mulligan      Felicia Montealegre Bernstein   \n",
      "97   2020     Cailee Spaeny                  Priscilla Presley   \n",
      "98   2020   Fernanda Torres                       Eunice Paiva   \n",
      "99   2020    Angelina Jolie                       Maria Callas   \n",
      "100  2020      Kate Winslet                         Lee Miller   \n",
      "\n",
      "                        filme  ganhou  \n",
      "0      The Song of Bernadette    True  \n",
      "1                Sister Kenny    True  \n",
      "2    A Streetcar Named Desire   False  \n",
      "3                   Anastasia   False  \n",
      "4               War and Peace   False  \n",
      "..                        ...     ...  \n",
      "96                    Maestro   False  \n",
      "97                  Priscilla   False  \n",
      "98             I'm Still Here    True  \n",
      "99                      Maria   False  \n",
      "100                       Lee   False  \n",
      "\n",
      "[101 rows x 5 columns]\n"
     ]
    }
   ],
   "source": [
    "import pandas as pd\n",
    "from bs4 import BeautifulSoup\n",
    "\n",
    "# Supondo que você já tenha o `soup` carregado com o HTML\n",
    "# soup = BeautifulSoup(html_content, 'html.parser')\n",
    "\n",
    "# Encontra todas as tabelas com a classe 'wikitable sortable'\n",
    "tables = soup.find_all('table', class_='wikitable sortable')\n",
    "\n",
    "# Função para verificar se a linha indica um vencedor\n",
    "def ganhou(row):\n",
    "    # Verifica se há algum 'td' com o estilo específico\n",
    "    return bool(row.find_all('td', {'style': 'background:#B0C4DE;'}))\n",
    "\n",
    "# Lista para armazenar as linhas do DataFrame\n",
    "rows = []\n",
    "\n",
    "# Itera sobre as tabelas de interesse (2020s e 2010s)\n",
    "for table in tables:  # Última e penúltima tabela\n",
    "    # Encontra todos os anos na tabela\n",
    "    \n",
    "\n",
    "    # Itera sobre as linhas da tabela (ignorando o cabeçalho)\n",
    "    for row in table.find_all('tr')[1:]:\n",
    "        ano_th = table.find('th', {'style': 'text-align:center;'})\n",
    "        ano_text = ano_th.find('a').text if ano_th and ano_th.find('a') else None\n",
    "        tds = row.find_all('td')\n",
    "        if len(tds) < 3:\n",
    "            continue  # Pula se não houver colunas suficientes\n",
    "\n",
    "        # Extrai nome, personagem e filme\n",
    "        nome = tds[0].find('a').text if tds[0].find('a') else None\n",
    "        personagem = tds[1].find('a').text if tds[1].find('a') else None\n",
    "        filme = tds[2].find('a').text if tds[2].find('a') else None\n",
    "\n",
    "        # Pula se algum dos campos estiver faltando\n",
    "        if not nome or not personagem or not filme:\n",
    "            continue\n",
    "\n",
    "        # Verifica se o prêmio foi ganho\n",
    "        ganhou_status = ganhou(row)\n",
    "\n",
    "        # Adiciona a linha à lista\n",
    "        rows.append({\n",
    "            'ano': ano_text,\n",
    "            'nome': nome,\n",
    "            'personagem': personagem,\n",
    "            'filme': filme,\n",
    "            'ganhou': ganhou_status\n",
    "        })\n",
    "\n",
    "# Cria o DataFrame a partir da lista de linhas\n",
    "df = pd.DataFrame(rows)\n",
    "print(df)"
   ]
  },
  {
   "cell_type": "code",
   "execution_count": 102,
   "metadata": {},
   "outputs": [
    {
     "data": {
      "application/vnd.microsoft.datawrangler.viewer.v0+json": {
       "columns": [
        {
         "name": "index",
         "rawType": "int64",
         "type": "integer"
        },
        {
         "name": "ano",
         "rawType": "object",
         "type": "string"
        },
        {
         "name": "nome",
         "rawType": "object",
         "type": "string"
        },
        {
         "name": "personagem",
         "rawType": "object",
         "type": "string"
        },
        {
         "name": "filme",
         "rawType": "object",
         "type": "string"
        },
        {
         "name": "ganhou",
         "rawType": "bool",
         "type": "boolean"
        }
       ],
       "conversionMethod": "pd.DataFrame",
       "ref": "27c23277-ff17-4b36-89a9-e020a4e43c91",
       "rows": [
        [
         "0",
         "1943",
         "Jennifer Jones",
         "Bernadette Soubirous",
         "The Song of Bernadette",
         "True"
        ],
        [
         "1",
         "1943",
         "Rosalind Russell",
         "Sister Elizabeth Kenny",
         "Sister Kenny",
         "True"
        ],
        [
         "2",
         "1950",
         "Vivien Leigh",
         "Blanche DuBois",
         "A Streetcar Named Desire",
         "False"
        ],
        [
         "3",
         "1950",
         "Helen Hayes",
         "Dowager Empress Maria Feodorovona",
         "Anastasia",
         "False"
        ],
        [
         "4",
         "1950",
         "Audrey Hepburn",
         "Natasha Rostova",
         "War and Peace",
         "False"
        ],
        [
         "5",
         "1950",
         "Susan Hayward",
         "Barbara Graham",
         "I Want to Live!",
         "True"
        ],
        [
         "6",
         "1950",
         "Ingrid Bergman",
         "Gladys Aylward",
         "The Inn of the Sixth Happiness",
         "False"
        ],
        [
         "7",
         "1960",
         "Greer Garson",
         "Eleanor Roosevelt",
         "Sunrise at Campobello",
         "True"
        ],
        [
         "8",
         "1960",
         "Anne Bancroft",
         "Anne Sullivan",
         "The Miracle Worker",
         "False"
        ],
        [
         "9",
         "1960",
         "Bette Davis",
         "Jane Hudson",
         "What Ever Happened to Baby Jane?",
         "False"
        ],
        [
         "10",
         "1960",
         "Maggie Smith",
         "Desdemona",
         "Othello",
         "False"
        ],
        [
         "11",
         "1960",
         "Virginia McKenna",
         "Joy Adamson",
         "Born Free",
         "False"
        ],
        [
         "12",
         "1960",
         "Faye Dunaway",
         "Bonnie Parker",
         "Bonnie and Clyde",
         "False"
        ],
        [
         "13",
         "1960",
         "Katharine Hepburn",
         "Eleanor of Aquitaine",
         "The Lion in Winter",
         "False"
        ],
        [
         "14",
         "1960",
         "Vanessa Redgrave",
         "Isadora Duncan",
         "Isadora",
         "False"
        ],
        [
         "15",
         "1960",
         "Geneviève Bujold",
         "Anne Boleyn",
         "Anne of the Thousand Days",
         "True"
        ],
        [
         "16",
         "1960",
         "Maggie Smith",
         "Jean Brodie",
         "The Prime of Miss Jean Brodie",
         "False"
        ],
        [
         "17",
         "1970",
         "Glenda Jackson",
         "Elizabeth I of England",
         "Mary, Queen of Scots",
         "False"
        ],
        [
         "18",
         "1970",
         "Diana Ross",
         "Billie Holiday",
         "Lady Sings the Blues",
         "False"
        ],
        [
         "19",
         "1970",
         "Ellen Burstyn",
         "Alice Hyatt",
         "Alice Doesn't Live Here Anymore",
         "False"
        ],
        [
         "20",
         "1970",
         "Valerie Perrine",
         "Honey Bruce",
         "Lenny",
         "False"
        ],
        [
         "21",
         "1970",
         "Louise Fletcher",
         "Nurse Ratched",
         "One Flew Over the Cuckoo's Nest",
         "True"
        ],
        [
         "22",
         "1970",
         "Marilyn Hassett",
         "Jill Kinmont Boothe",
         "The Other Side of the Mountain",
         "False"
        ],
        [
         "23",
         "1970",
         "Glenda Jackson",
         "Sarah Bernhardt",
         "The Incredible Sarah",
         "False"
        ],
        [
         "24",
         "1970",
         "Talia Shire",
         "Adrian Pennino",
         "Rocky",
         "False"
        ],
        [
         "25",
         "1970",
         "Jane Fonda",
         "Lillian Hellman",
         "Julia",
         "True"
        ],
        [
         "26",
         "1970",
         "Glenda Jackson",
         "Stevie Smith",
         "Stevie",
         "False"
        ],
        [
         "27",
         "1980",
         "Diane Keaton",
         "Louise Bryant",
         "Reds",
         "False"
        ],
        [
         "28",
         "1980",
         "Jessica Lange",
         "Frances Farmer",
         "Frances",
         "False"
        ],
        [
         "29",
         "1980",
         "Sissy Spacek",
         "Beth Horman",
         "Missing",
         "False"
        ],
        [
         "30",
         "1980",
         "Bonnie Bedelia",
         "Shirley Roque",
         "Heart Like a Wheel",
         "False"
        ],
        [
         "31",
         "1980",
         "Meryl Streep",
         "Karen Silkwood",
         "Silkwood",
         "False"
        ],
        [
         "32",
         "1980",
         "Meryl Streep",
         "Karen Blixen",
         "Out of Africa",
         "False"
        ],
        [
         "33",
         "1980",
         "Sigourney Weaver",
         "Ellen Ripley",
         "Aliens",
         "False"
        ],
        [
         "34",
         "1980",
         "Rachel Chagall",
         "Gabriela \"Gaby\" Brimmer",
         "Gaby: A True Story",
         "False"
        ],
        [
         "35",
         "1980",
         "Sigourney Weaver",
         "Dian Fossey",
         "Gorillas in the Mist",
         "True"
        ],
        [
         "36",
         "1980",
         "Meryl Streep",
         "Lindy Chamberlain-Creighton",
         "A Cry in the Dark",
         "False"
        ],
        [
         "37",
         "1980",
         "Michelle Pfeiffer",
         "Susie Diamond",
         "The Fabulous Baker Boys",
         "True"
        ],
        [
         "38",
         "1990",
         "Kathy Bates",
         "Annie Wilkes",
         "Misery",
         "True"
        ],
        [
         "39",
         "1990",
         "Jodie Foster",
         "Clarice Starling",
         "The Silence of the Lambs",
         "True"
        ],
        [
         "40",
         "1990",
         "Annette Bening",
         "Virginia Hill",
         "Bugsy",
         "False"
        ],
        [
         "41",
         "1990",
         "Susan Sarandon",
         "Michaela Odone",
         "Lorenzo's Oil",
         "False"
        ],
        [
         "42",
         "1990",
         "Sharon Stone",
         "Catherine Tramell",
         "Basic Instinct",
         "False"
        ],
        [
         "43",
         "1990",
         "Jennifer Jason Leigh",
         "Dorothy Parker",
         "Mrs. Parker and the Vicious Circle",
         "False"
        ],
        [
         "44",
         "1990",
         "Miranda Richardson",
         "Vivienne Haigh-Wood Eliot",
         "Tom & Viv",
         "False"
        ],
        [
         "45",
         "1990",
         "Susan Sarandon",
         "Sister Helen Prejean",
         "Dead Man Walking",
         "False"
        ],
        [
         "46",
         "1990",
         "Emma Thompson",
         "Elinor Dashwood",
         "Sense and Sensibility",
         "False"
        ],
        [
         "47",
         "1990",
         "Courtney Love",
         "Althea Leasure",
         "The People vs. Larry Flynt",
         "False"
        ],
        [
         "48",
         "1990",
         "Judi Dench",
         "Queen Victoria",
         "Mrs Brown",
         "True"
        ],
        [
         "49",
         "1990",
         "Cate Blanchett",
         "Queen Elizabeth I",
         "Elizabeth",
         "True"
        ]
       ],
       "shape": {
        "columns": 5,
        "rows": 101
       }
      },
      "text/html": [
       "<div>\n",
       "<style scoped>\n",
       "    .dataframe tbody tr th:only-of-type {\n",
       "        vertical-align: middle;\n",
       "    }\n",
       "\n",
       "    .dataframe tbody tr th {\n",
       "        vertical-align: top;\n",
       "    }\n",
       "\n",
       "    .dataframe thead th {\n",
       "        text-align: right;\n",
       "    }\n",
       "</style>\n",
       "<table border=\"1\" class=\"dataframe\">\n",
       "  <thead>\n",
       "    <tr style=\"text-align: right;\">\n",
       "      <th></th>\n",
       "      <th>ano</th>\n",
       "      <th>nome</th>\n",
       "      <th>personagem</th>\n",
       "      <th>filme</th>\n",
       "      <th>ganhou</th>\n",
       "    </tr>\n",
       "  </thead>\n",
       "  <tbody>\n",
       "    <tr>\n",
       "      <th>0</th>\n",
       "      <td>1943</td>\n",
       "      <td>Jennifer Jones</td>\n",
       "      <td>Bernadette Soubirous</td>\n",
       "      <td>The Song of Bernadette</td>\n",
       "      <td>True</td>\n",
       "    </tr>\n",
       "    <tr>\n",
       "      <th>1</th>\n",
       "      <td>1943</td>\n",
       "      <td>Rosalind Russell</td>\n",
       "      <td>Sister Elizabeth Kenny</td>\n",
       "      <td>Sister Kenny</td>\n",
       "      <td>True</td>\n",
       "    </tr>\n",
       "    <tr>\n",
       "      <th>2</th>\n",
       "      <td>1950</td>\n",
       "      <td>Vivien Leigh</td>\n",
       "      <td>Blanche DuBois</td>\n",
       "      <td>A Streetcar Named Desire</td>\n",
       "      <td>False</td>\n",
       "    </tr>\n",
       "    <tr>\n",
       "      <th>3</th>\n",
       "      <td>1950</td>\n",
       "      <td>Helen Hayes</td>\n",
       "      <td>Dowager Empress Maria Feodorovona</td>\n",
       "      <td>Anastasia</td>\n",
       "      <td>False</td>\n",
       "    </tr>\n",
       "    <tr>\n",
       "      <th>4</th>\n",
       "      <td>1950</td>\n",
       "      <td>Audrey Hepburn</td>\n",
       "      <td>Natasha Rostova</td>\n",
       "      <td>War and Peace</td>\n",
       "      <td>False</td>\n",
       "    </tr>\n",
       "    <tr>\n",
       "      <th>...</th>\n",
       "      <td>...</td>\n",
       "      <td>...</td>\n",
       "      <td>...</td>\n",
       "      <td>...</td>\n",
       "      <td>...</td>\n",
       "    </tr>\n",
       "    <tr>\n",
       "      <th>96</th>\n",
       "      <td>2020</td>\n",
       "      <td>Carey Mulligan</td>\n",
       "      <td>Felicia Montealegre Bernstein</td>\n",
       "      <td>Maestro</td>\n",
       "      <td>False</td>\n",
       "    </tr>\n",
       "    <tr>\n",
       "      <th>97</th>\n",
       "      <td>2020</td>\n",
       "      <td>Cailee Spaeny</td>\n",
       "      <td>Priscilla Presley</td>\n",
       "      <td>Priscilla</td>\n",
       "      <td>False</td>\n",
       "    </tr>\n",
       "    <tr>\n",
       "      <th>98</th>\n",
       "      <td>2020</td>\n",
       "      <td>Fernanda Torres</td>\n",
       "      <td>Eunice Paiva</td>\n",
       "      <td>I'm Still Here</td>\n",
       "      <td>True</td>\n",
       "    </tr>\n",
       "    <tr>\n",
       "      <th>99</th>\n",
       "      <td>2020</td>\n",
       "      <td>Angelina Jolie</td>\n",
       "      <td>Maria Callas</td>\n",
       "      <td>Maria</td>\n",
       "      <td>False</td>\n",
       "    </tr>\n",
       "    <tr>\n",
       "      <th>100</th>\n",
       "      <td>2020</td>\n",
       "      <td>Kate Winslet</td>\n",
       "      <td>Lee Miller</td>\n",
       "      <td>Lee</td>\n",
       "      <td>False</td>\n",
       "    </tr>\n",
       "  </tbody>\n",
       "</table>\n",
       "<p>101 rows × 5 columns</p>\n",
       "</div>"
      ],
      "text/plain": [
       "      ano              nome                         personagem  \\\n",
       "0    1943    Jennifer Jones               Bernadette Soubirous   \n",
       "1    1943  Rosalind Russell             Sister Elizabeth Kenny   \n",
       "2    1950      Vivien Leigh                     Blanche DuBois   \n",
       "3    1950       Helen Hayes  Dowager Empress Maria Feodorovona   \n",
       "4    1950    Audrey Hepburn                    Natasha Rostova   \n",
       "..    ...               ...                                ...   \n",
       "96   2020    Carey Mulligan      Felicia Montealegre Bernstein   \n",
       "97   2020     Cailee Spaeny                  Priscilla Presley   \n",
       "98   2020   Fernanda Torres                       Eunice Paiva   \n",
       "99   2020    Angelina Jolie                       Maria Callas   \n",
       "100  2020      Kate Winslet                         Lee Miller   \n",
       "\n",
       "                        filme  ganhou  \n",
       "0      The Song of Bernadette    True  \n",
       "1                Sister Kenny    True  \n",
       "2    A Streetcar Named Desire   False  \n",
       "3                   Anastasia   False  \n",
       "4               War and Peace   False  \n",
       "..                        ...     ...  \n",
       "96                    Maestro   False  \n",
       "97                  Priscilla   False  \n",
       "98             I'm Still Here    True  \n",
       "99                      Maria   False  \n",
       "100                       Lee   False  \n",
       "\n",
       "[101 rows x 5 columns]"
      ]
     },
     "execution_count": 102,
     "metadata": {},
     "output_type": "execute_result"
    }
   ],
   "source": [
    "df"
   ]
  },
  {
   "cell_type": "code",
   "execution_count": 104,
   "metadata": {},
   "outputs": [
    {
     "name": "stdout",
     "output_type": "stream",
     "text": [
      "2020\n",
      "Andra Day\n",
      "Billie Holiday\n",
      "The United States vs. Billie Holiday\n",
      "Viola Davis\n",
      "Ma Rainey\n",
      "Ma Rainey's Black Bottom\n",
      "Vanessa Kirby\n",
      "None\n",
      "Pieces of a Woman\n",
      "Frances McDormand\n",
      "None\n",
      "Nomadland\n",
      "Carey Mulligan\n",
      "None\n",
      "Promising Young Woman\n",
      "2021\n",
      "Nicole Kidman\n",
      "Lucille Ball\n",
      "Being the Ricardos\n",
      "Jessica Chastain\n",
      "Tammy Faye Bakker\n",
      "The Eyes of Tammy Faye\n",
      "Olivia Colman\n",
      "None\n",
      "The Lost Daughter\n",
      "Lady Gaga\n",
      "Patrizia Reggiani\n",
      "House of Gucci\n",
      "Kristen Stewart\n",
      "Princess Diana\n",
      "Spencer\n",
      "2022\n",
      "Cate Blanchett\n",
      "None\n",
      "Tár\n",
      "Olivia Colman\n",
      "None\n",
      "Empire of Light\n",
      "Viola Davis\n",
      "None\n",
      "The Woman King\n",
      "Ana de Armas\n",
      "Norma Jeane Mortenson / Marilyn Monroe\n",
      "Blonde\n",
      "Michelle Williams\n",
      "None\n",
      "The Fabelmans\n",
      "2023\n",
      "Lily Gladstone\n",
      "Mollie Burkhart\n",
      "Killers of the Flower Moon\n",
      "Annette Bening\n",
      "Diana Nyad\n",
      "Nyad\n",
      "Sandra Hüller\n",
      "None\n",
      "Anatomy of a Fall\n",
      "Greta Lee\n",
      "None\n",
      "Past Lives\n",
      "Carey Mulligan\n",
      "Felicia Montealegre Bernstein\n",
      "Maestro\n",
      "Cailee Spaeny\n",
      "Priscilla Presley\n",
      "Priscilla\n",
      "Fernanda Torres\n",
      "Eunice Paiva\n",
      "I'm Still Here\n",
      "Pamela Anderson\n",
      "None\n",
      "The Last Showgirl\n",
      "Angelina Jolie\n",
      "Maria Callas\n",
      "Maria\n",
      "Nicole Kidman\n",
      "None\n",
      "Babygirl\n",
      "Tilda Swinton\n",
      "None\n",
      "The Room Next Door\n",
      "Kate Winslet\n",
      "Lee Miller\n",
      "Lee\n",
      "2010\n",
      "Natalie Portman\n",
      "None\n",
      "Black Swan\n",
      "Halle Berry\n",
      "None\n",
      "Frankie & Alice\n",
      "Nicole Kidman\n",
      "None\n",
      "Rabbit Hole\n",
      "Jennifer Lawrence\n",
      "None\n",
      "Winter's Bone\n",
      "Michelle Williams\n",
      "None\n",
      "Blue Valentine\n",
      "2011\n",
      "Meryl Streep\n",
      "Margaret Thatcher\n",
      "The Iron Lady\n",
      "Glenn Close\n",
      "None\n",
      "Albert Nobbs\n",
      "Viola Davis\n",
      "None\n",
      "The Help\n",
      "Rooney Mara\n",
      "Lisbeth Salander\n",
      "The Girl with the Dragon Tattoo\n",
      "Tilda Swinton\n",
      "None\n",
      "We Need to Talk About Kevin\n",
      "2012\n",
      "Jessica Chastain\n",
      "None\n",
      "Zero Dark Thirty\n",
      "Marion Cotillard\n",
      "None\n",
      "Rust and Bone\n",
      "Helen Mirren\n",
      "Alma Reville\n",
      "Hitchcock\n",
      "Naomi Watts\n",
      "Maria Bennett\n",
      "The Impossible\n",
      "Rachel Weisz\n",
      "None\n",
      "The Deep Blue Sea\n",
      "2013\n",
      "Cate Blanchett\n",
      "None\n",
      "Blue Jasmine\n",
      "Sandra Bullock\n",
      "None\n",
      "Gravity\n",
      "Judi Dench\n",
      "Philomena Lee\n",
      "Philomena\n",
      "Emma Thompson\n",
      "P. L. Travers\n",
      "Saving Mr. Banks\n",
      "Kate Winslet\n",
      "None\n",
      "Labor Day\n",
      "2014\n",
      "Julianne Moore\n",
      "None\n",
      "Still Alice\n",
      "Jennifer Aniston\n",
      "None\n",
      "Cake\n",
      "Felicity Jones\n",
      "Jane Hawking\n",
      "The Theory of Everything\n",
      "Rosamund Pike\n",
      "None\n",
      "Gone Girl\n",
      "Reese Witherspoon\n",
      "Cheryl Strayed\n",
      "Wild\n",
      "2015\n",
      "Brie Larson\n",
      "None\n",
      "Room\n",
      "Cate Blanchett\n",
      "None\n",
      "Carol\n",
      "Saoirse Ronan\n",
      "None\n",
      "Brooklyn\n",
      "Alicia Vikander\n",
      "Gerda Wegener\n",
      "The Danish Girl\n",
      "2016\n",
      "Isabelle Huppert\n",
      "None\n",
      "Elle\n",
      "Amy Adams\n",
      "None\n",
      "Arrival\n",
      "Jessica Chastain\n",
      "None\n",
      "Miss Sloane\n",
      "Ruth Negga\n",
      "Mildred Loving\n",
      "Loving\n",
      "Natalie Portman\n",
      "Jackie Kennedy\n",
      "Jackie\n",
      "2017\n",
      "Frances McDormand\n",
      "None\n",
      "Three Billboards Outside Ebbing, Missouri\n",
      "Jessica Chastain\n",
      "Molly Bloom\n",
      "Molly's Game\n",
      "Sally Hawkins\n",
      "None\n",
      "The Shape of Water\n",
      "Meryl Streep\n",
      "Katharine Graham\n",
      "The Post\n",
      "Michelle Williams\n",
      "None\n",
      "All the Money in the World\n",
      "2018\n",
      "Glenn Close\n",
      "None\n",
      "The Wife\n",
      "Lady Gaga\n",
      "None\n",
      "A Star Is Born\n",
      "Nicole Kidman\n",
      "None\n",
      "Destroyer\n",
      "Melissa McCarthy\n",
      "Lee Israel\n",
      "Can You Ever Forgive Me?\n",
      "Rosamund Pike\n",
      "Marie Colvin\n",
      "A Private War\n",
      "2019\n",
      "Renée Zellweger\n",
      "Judy Garland\n",
      "Judy\n",
      "Cynthia Erivo\n",
      "Harriet Tubman\n",
      "Harriet\n",
      "Scarlett Johansson\n",
      "None\n",
      "Marriage Story\n",
      "Saoirse Ronan\n",
      "Josephine \"Jo\" March\n",
      "Little Women\n",
      "Charlize Theron\n",
      "Megyn Kelly\n",
      "Bombshell\n",
      "     ano               nome                              personagem  \\\n",
      "0   2020          Andra Day                          Billie Holiday   \n",
      "1   2020        Viola Davis                               Ma Rainey   \n",
      "2   2021      Nicole Kidman                            Lucille Ball   \n",
      "3   2021   Jessica Chastain                       Tammy Faye Bakker   \n",
      "4   2021          Lady Gaga                       Patrizia Reggiani   \n",
      "5   2021    Kristen Stewart                          Princess Diana   \n",
      "6   2022       Ana de Armas  Norma Jeane Mortenson / Marilyn Monroe   \n",
      "7   2023     Lily Gladstone                         Mollie Burkhart   \n",
      "8   2023     Annette Bening                              Diana Nyad   \n",
      "9   2023     Carey Mulligan           Felicia Montealegre Bernstein   \n",
      "10  2023      Cailee Spaeny                       Priscilla Presley   \n",
      "11  2023    Fernanda Torres                            Eunice Paiva   \n",
      "12  2023     Angelina Jolie                            Maria Callas   \n",
      "13  2023       Kate Winslet                              Lee Miller   \n",
      "14  2011       Meryl Streep                       Margaret Thatcher   \n",
      "15  2011        Rooney Mara                        Lisbeth Salander   \n",
      "16  2012       Helen Mirren                            Alma Reville   \n",
      "17  2012        Naomi Watts                           Maria Bennett   \n",
      "18  2013         Judi Dench                           Philomena Lee   \n",
      "19  2013      Emma Thompson                           P. L. Travers   \n",
      "20  2014     Felicity Jones                            Jane Hawking   \n",
      "21  2014  Reese Witherspoon                          Cheryl Strayed   \n",
      "22  2015    Alicia Vikander                           Gerda Wegener   \n",
      "23  2016         Ruth Negga                          Mildred Loving   \n",
      "24  2016    Natalie Portman                          Jackie Kennedy   \n",
      "25  2017   Jessica Chastain                             Molly Bloom   \n",
      "26  2017       Meryl Streep                        Katharine Graham   \n",
      "27  2018   Melissa McCarthy                              Lee Israel   \n",
      "28  2018      Rosamund Pike                            Marie Colvin   \n",
      "29  2019    Renée Zellweger                            Judy Garland   \n",
      "30  2019      Cynthia Erivo                          Harriet Tubman   \n",
      "31  2019      Saoirse Ronan                    Josephine \"Jo\" March   \n",
      "32  2019    Charlize Theron                             Megyn Kelly   \n",
      "\n",
      "                                   filme  ganhou  \n",
      "0   The United States vs. Billie Holiday    True  \n",
      "1               Ma Rainey's Black Bottom   False  \n",
      "2                     Being the Ricardos    True  \n",
      "3                 The Eyes of Tammy Faye   False  \n",
      "4                         House of Gucci   False  \n",
      "5                                Spencer   False  \n",
      "6                                 Blonde   False  \n",
      "7             Killers of the Flower Moon    True  \n",
      "8                                   Nyad   False  \n",
      "9                                Maestro   False  \n",
      "10                             Priscilla   False  \n",
      "11                        I'm Still Here    True  \n",
      "12                                 Maria   False  \n",
      "13                                   Lee   False  \n",
      "14                         The Iron Lady    True  \n",
      "15       The Girl with the Dragon Tattoo   False  \n",
      "16                             Hitchcock   False  \n",
      "17                        The Impossible   False  \n",
      "18                             Philomena   False  \n",
      "19                      Saving Mr. Banks   False  \n",
      "20              The Theory of Everything   False  \n",
      "21                                  Wild   False  \n",
      "22                       The Danish Girl   False  \n",
      "23                                Loving   False  \n",
      "24                                Jackie   False  \n",
      "25                          Molly's Game   False  \n",
      "26                              The Post   False  \n",
      "27              Can You Ever Forgive Me?   False  \n",
      "28                         A Private War   False  \n",
      "29                                  Judy    True  \n",
      "30                               Harriet   False  \n",
      "31                          Little Women   False  \n",
      "32                             Bombshell   False  \n"
     ]
    }
   ],
   "source": [
    "import pandas as pd\n",
    "from bs4 import BeautifulSoup\n",
    "\n",
    "# Supondo que você já tenha o `soup` carregado com o HTML\n",
    "# soup = BeautifulSoup(html_content, 'html.parser')\n",
    "\n",
    "# Encontra todas as tabelas com a classe 'wikitable sortable'\n",
    "tables = soup.find_all('table', class_='wikitable sortable')\n",
    "\n",
    "# Função para verificar se a linha indica um vencedor\n",
    "def ganhou(row):\n",
    "    # Verifica se há algum 'td' com o estilo específico\n",
    "    return bool(row.find_all('td', {'style': 'background:#B0C4DE;'}))\n",
    "\n",
    "# Lista para armazenar as linhas do DataFrame\n",
    "rows = []\n",
    "\n",
    "# Itera sobre as tabelas de interesse (2020s e 2010s)\n",
    "for table in [tables[-1], tables[-2]]:  # Última e penúltima tabela\n",
    "    # Inicializa a variável do ano\n",
    "    ano_text = None\n",
    "\n",
    "    # Itera sobre as linhas da tabela\n",
    "    for row in table.find_all('tr'):\n",
    "        # Verifica se a linha contém um ano (th com 'text-align:center;')\n",
    "        if row.find('th', {'style': 'text-align:center;'}):\n",
    "            ano_th = row.find('th', {'style': 'text-align:center;'})\n",
    "            ano_text = ano_th.find('a').text if ano_th and ano_th.find('a') else None\n",
    "            print(ano_text)\n",
    "\n",
    "        # Se a linha for uma linha de dados (td)\n",
    "        tds = row.find_all('td')\n",
    "        if len(tds) < 3:\n",
    "            continue  # Pula se não houver colunas suficientes\n",
    "\n",
    "        # Extrai nome, personagem e filme\n",
    "        nome = tds[0].find('a').text if tds[0].find('a') else None\n",
    "        print(nome)\n",
    "        personagem = tds[1].find('a').text if tds[1].find('a') else None\n",
    "        print(personagem)\n",
    "        filme = tds[2].find('a').text if tds[2].find('a') else None\n",
    "        print(filme)\n",
    "\n",
    "        # Pula se algum dos campos estiver faltando\n",
    "        if not nome or not personagem or not filme:\n",
    "            continue\n",
    "\n",
    "        # Verifica se o prêmio foi ganho\n",
    "        ganhou_status = ganhou(row)\n",
    "\n",
    "        # Adiciona a linha à lista\n",
    "        rows.append({\n",
    "            'ano': ano_text,\n",
    "            'nome': nome,\n",
    "            'personagem': personagem,\n",
    "            'filme': filme,\n",
    "            'ganhou': ganhou_status\n",
    "        })\n",
    "\n",
    "# Cria o DataFrame a partir da lista de linhas\n",
    "df = pd.DataFrame(rows)\n",
    "print(df)"
   ]
  }
 ],
 "metadata": {
  "kernelspec": {
   "display_name": "base",
   "language": "python",
   "name": "python3"
  },
  "language_info": {
   "codemirror_mode": {
    "name": "ipython",
    "version": 3
   },
   "file_extension": ".py",
   "mimetype": "text/x-python",
   "name": "python",
   "nbconvert_exporter": "python",
   "pygments_lexer": "ipython3",
   "version": "3.11.5"
  }
 },
 "nbformat": 4,
 "nbformat_minor": 2
}
