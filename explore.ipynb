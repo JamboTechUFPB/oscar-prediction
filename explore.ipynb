{
 "cells": [
  {
   "cell_type": "markdown",
   "metadata": {},
   "source": [
    "# Oscars Best Actress Analysis"
   ]
  },
  {
   "cell_type": "markdown",
   "metadata": {},
   "source": [
    "According to Google AI overview The Golden Globes, SAG Awards, BAFTAs, and Critics' Choice Awards are some of the awards that influence the Oscars. Therefore, I selected only these four awards for my analysis.\n",
    "\n",
    "I will base my analysis in a range of 10 years (2014-2023)\n",
    "\n",
    "I will probably use logistic regression\n"
   ]
  },
  {
   "cell_type": "code",
   "execution_count": null,
   "metadata": {},
   "outputs": [],
   "source": [
    "GOLDEN_GLOBES_url = \"https://en.wikipedia.org/wiki/Golden_Globe_Award_for_Best_Actress_in_a_Motion_Picture_%E2%80%93_Drama\"\n",
    "SAG_AWARDS_url = \"https://en.wikipedia.org/wiki/Screen_Actors_Guild_Award_for_Outstanding_Performance_by_a_Female_Actor_in_a_Leading_Role\"\n",
    "BAFTA_url = \"https://en.wikipedia.org/wiki/BAFTA_Award_for_Best_Actress_in_a_Leading_Role\"\n",
    "CRITICS_CHOICE_url = \"https://en.wikipedia.org/wiki/Critics%27_Choice_Movie_Award_for_Best_Actress\"\n",
    "OSCARS_url = \"https://en.wikipedia.org/wiki/Academy_Award_for_Best_Actress\""
   ]
  },
  {
   "cell_type": "code",
   "execution_count": 2,
   "metadata": {},
   "outputs": [],
   "source": [
    "import requests\n",
    "import pandas as pd\n",
    "from bs4 import BeautifulSoup\n",
    "\n",
    "soup = BeautifulSoup(requests.get(GOLDEN_GLOBES_url).text, 'html.parser')\n"
   ]
  },
  {
   "cell_type": "code",
   "execution_count": 3,
   "metadata": {},
   "outputs": [],
   "source": [
    "tables = soup.find_all('table', class_='wikitable sortable')\n",
    "\n",
    "golden_globes_2020s = tables[-1]\n",
    "golden_globes_2010s = tables[-2]"
   ]
  },
  {
   "cell_type": "code",
   "execution_count": 4,
   "metadata": {},
   "outputs": [
    {
     "data": {
      "text/plain": [
       "9"
      ]
     },
     "execution_count": 4,
     "metadata": {},
     "output_type": "execute_result"
    }
   ],
   "source": [
    "len(tables)"
   ]
  },
  {
   "cell_type": "code",
   "execution_count": 9,
   "metadata": {},
   "outputs": [
    {
     "data": {
      "text/plain": [
       "81"
      ]
     },
     "execution_count": 9,
     "metadata": {},
     "output_type": "execute_result"
    }
   ],
   "source": [
    "editions = soup.find_all('th',{'style': 'text-align:center;'})\n",
    "len(editions)\n",
    "#[0].find('a').text"
   ]
  },
  {
   "cell_type": "code",
   "execution_count": 6,
   "metadata": {},
   "outputs": [],
   "source": [
    "anos = soup.find_all('th',{'style': 'text-align:center;'})"
   ]
  },
  {
   "cell_type": "code",
   "execution_count": 67,
   "metadata": {},
   "outputs": [
    {
     "data": {
      "text/plain": [
       "'2020'"
      ]
     },
     "execution_count": 67,
     "metadata": {},
     "output_type": "execute_result"
    }
   ],
   "source": [
    "#ths = golden_globes_2020s.find_all('th',{'style': 'text-align:center;'})\n",
    "#ths[0].find('a').text"
   ]
  },
  {
   "cell_type": "code",
   "execution_count": 13,
   "metadata": {},
   "outputs": [
    {
     "data": {
      "text/plain": [
       "<th style=\"text-align:center;\"><a href=\"/wiki/1st_Golden_Globe_Awards\" title=\"1st Golden Globe Awards\">1943</a>\n",
       "</th>"
      ]
     },
     "execution_count": 13,
     "metadata": {},
     "output_type": "execute_result"
    }
   ],
   "source": [
    "anos[0]"
   ]
  },
  {
   "cell_type": "code",
   "execution_count": 32,
   "metadata": {},
   "outputs": [
    {
     "data": {
      "text/plain": [
       "[<th rowspan=\"5\" style=\"text-align:center;\"><a href=\"/wiki/78th_Golden_Globe_Awards\" title=\"78th Golden Globe Awards\">2020</a>\n",
       " </th>,\n",
       " <th rowspan=\"5\" style=\"text-align:center;\"><a href=\"/wiki/79th_Golden_Globe_Awards\" title=\"79th Golden Globe Awards\">2021</a>\n",
       " </th>,\n",
       " <th rowspan=\"5\" style=\"text-align:center;\"><a href=\"/wiki/80th_Golden_Globe_Awards\" title=\"80th Golden Globe Awards\">2022</a>\n",
       " </th>,\n",
       " <th rowspan=\"6\" style=\"text-align:center;\"><a href=\"/wiki/81st_Golden_Globe_Awards\" title=\"81st Golden Globe Awards\">2023</a>\n",
       " </th>]"
      ]
     },
     "execution_count": 32,
     "metadata": {},
     "output_type": "execute_result"
    }
   ],
   "source": [
    "golden_globes_2020s.find_all('th',{'style': 'text-align:center;'})"
   ]
  },
  {
   "cell_type": "code",
   "execution_count": 36,
   "metadata": {},
   "outputs": [
    {
     "data": {
      "text/plain": [
       "'2020'"
      ]
     },
     "execution_count": 36,
     "metadata": {},
     "output_type": "execute_result"
    }
   ],
   "source": [
    "rows = golden_globes_2020s.find_all('tr')\n",
    "rows[1]\n",
    "rows[1].find('th',{'style': 'text-align:center;'}).find('a').text\n",
    "#td_actress_data = tr_actress_data[1].find_all('td')\n",
    "#td_actress_data\n",
    "#actress_data = golden_globes_2020s.find_all('tr')[1].find_all('td')"
   ]
  },
  {
   "cell_type": "code",
   "execution_count": 39,
   "metadata": {},
   "outputs": [
    {
     "data": {
      "text/plain": [
       "'Andra Day'"
      ]
     },
     "execution_count": 39,
     "metadata": {},
     "output_type": "execute_result"
    }
   ],
   "source": [
    "rows[1].find_all('td')[0].find('a').text"
   ]
  },
  {
   "cell_type": "code",
   "execution_count": 57,
   "metadata": {},
   "outputs": [
    {
     "data": {
      "text/plain": [
       "'The United States vs. Billie Holiday'"
      ]
     },
     "execution_count": 57,
     "metadata": {},
     "output_type": "execute_result"
    }
   ],
   "source": [
    "#golden_globes_2020s.find_all('tr')[1].find_all('td')[0].find('a').text -> nome\n",
    "#golden_globes_2020s.find_all('tr')[1].find_all('td')[1].find('a').text -> personagem\n",
    "#golden_globes_2020s.find_all('tr')[1].find_all('td')[2].find('a').text -> filme"
   ]
  },
  {
   "cell_type": "code",
   "execution_count": 83,
   "metadata": {},
   "outputs": [
    {
     "name": "stdout",
     "output_type": "stream",
     "text": [
      "não tem\n"
     ]
    }
   ],
   "source": [
    "if golden_globes_2020s.find_all('tr')[0].find_all('td',{'style': 'background:#B0C4DE;'}):\n",
    "    print('tem')\n",
    "else:\n",
    "    print('não tem')"
   ]
  },
  {
   "cell_type": "code",
   "execution_count": 68,
   "metadata": {},
   "outputs": [
    {
     "data": {
      "text/plain": [
       "'Lee'"
      ]
     },
     "execution_count": 68,
     "metadata": {},
     "output_type": "execute_result"
    }
   ],
   "source": [
    "golden_globes_2020s.find_all('td')[-1].find('a').text"
   ]
  },
  {
   "cell_type": "code",
   "execution_count": 12,
   "metadata": {},
   "outputs": [],
   "source": [
    "df = pd.DataFrame(columns=['ano','nome','personagem','filme','ganhou'])"
   ]
  },
  {
   "cell_type": "code",
   "execution_count": 13,
   "metadata": {},
   "outputs": [],
   "source": [
    "def isWinner(row):\n",
    "    return bool(row.find('td',{'style': 'background:#B0C4DE;'})) "
   ]
  },
  {
   "cell_type": "code",
   "execution_count": 88,
   "metadata": {},
   "outputs": [
    {
     "data": {
      "text/plain": [
       "<tr>\n",
       "<th scope=\"col\" style=\"width:8%;\">Year\n",
       "</th>\n",
       "<th scope=\"col\" style=\"width:30%;\">Actress\n",
       "</th>\n",
       "<th scope=\"col\" style=\"width:30%;\">Role(s)\n",
       "</th>\n",
       "<th scope=\"col\" style=\"width:30%;\">Film\n",
       "</th>\n",
       "<th class=\"unsortable\" scope=\"col\" style=\"width:2%;\"><abbr title=\"Reference\">Ref.</abbr>\n",
       "</th></tr>"
      ]
     },
     "execution_count": 88,
     "metadata": {},
     "output_type": "execute_result"
    }
   ],
   "source": [
    "t0 = tables[0].find_all('tr')\n",
    "t0[0]"
   ]
  },
  {
   "cell_type": "code",
   "execution_count": 89,
   "metadata": {},
   "outputs": [
    {
     "data": {
      "text/plain": [
       "'1950'"
      ]
     },
     "execution_count": 89,
     "metadata": {},
     "output_type": "execute_result"
    }
   ],
   "source": [
    "t1 = tables[1].find_all('tr')\n",
    "len(t1)\n",
    "t1[1].find('th',{'style': 'text-align:center;'}).find('a').text"
   ]
  },
  {
   "cell_type": "code",
   "execution_count": 5,
   "metadata": {},
   "outputs": [],
   "source": [
    "dict_tables = {}\n",
    "\n",
    "for i in range(0,len(tables)):\n",
    "    dict_tables[i] = tables[i].find_all('tr')"
   ]
  },
  {
   "cell_type": "code",
   "execution_count": 9,
   "metadata": {},
   "outputs": [
    {
     "data": {
      "text/plain": [
       "<tr>\n",
       "<td><a href=\"/wiki/Bette_Davis\" title=\"Bette Davis\">Bette Davis</a></td>\n",
       "<td>Margo Channing</td>\n",
       "<td><i><a href=\"/wiki/All_About_Eve\" title=\"All About Eve\">All About Eve</a></i>\n",
       "</td></tr>"
      ]
     },
     "execution_count": 9,
     "metadata": {},
     "output_type": "execute_result"
    }
   ],
   "source": [
    "dict_tables[1][2]"
   ]
  },
  {
   "cell_type": "code",
   "execution_count": 111,
   "metadata": {},
   "outputs": [
    {
     "data": {
      "text/plain": [
       "'Gloria Swanson'"
      ]
     },
     "execution_count": 111,
     "metadata": {},
     "output_type": "execute_result"
    }
   ],
   "source": [
    "dict_tables[1][1].find_all('td')[0].find('a').text"
   ]
  },
  {
   "cell_type": "code",
   "execution_count": 108,
   "metadata": {},
   "outputs": [
    {
     "data": {
      "text/plain": [
       "33"
      ]
     },
     "execution_count": 108,
     "metadata": {},
     "output_type": "execute_result"
    }
   ],
   "source": [
    "len(dict_tables[1])"
   ]
  },
  {
   "cell_type": "code",
   "execution_count": 119,
   "metadata": {},
   "outputs": [
    {
     "data": {
      "text/plain": [
       "<tr>\n",
       "<td><a href=\"/wiki/Bette_Davis\" title=\"Bette Davis\">Bette Davis</a></td>\n",
       "<td>Margo Channing</td>\n",
       "<td><i><a href=\"/wiki/All_About_Eve\" title=\"All About Eve\">All About Eve</a></i>\n",
       "</td></tr>"
      ]
     },
     "execution_count": 119,
     "metadata": {},
     "output_type": "execute_result"
    }
   ],
   "source": [
    "dict_tables[1][2]"
   ]
  },
  {
   "cell_type": "code",
   "execution_count": 49,
   "metadata": {},
   "outputs": [],
   "source": [
    "for table in tables:\n",
    "    rows = table.find_all('tr')\n",
    "    current_year = None  # Variável para armazenar o ano atual\n",
    "    current_filme = None\n",
    "    \n",
    "    for row in rows[1:]:\n",
    "        ano_th = row.find('th', {'style': 'text-align:center;'}) \n",
    "        if not ano_th:\n",
    "             ano_th = row.find('th')\n",
    "        \n",
    "        # Se encontrou um th com o estilo, atualiza o ano atual\n",
    "        if ano_th is not None and ano_th.find('a'):\n",
    "            current_year = ano_th.find('a').text \n",
    "        \n",
    "        # Usa o ano atual para esta linha\n",
    "        ano_atual = current_year\n",
    "        #print(f\"Ano para esta linha: {ano_atual}\")\n",
    "        \n",
    "        # Processa os tds\n",
    "        tds = row.find_all('td')\n",
    "        nome = tds[0].find('a').text if tds[0].find('a') else None\n",
    "        personagem = tds[1].find('a').text if tds[1].find('a') else None\n",
    "        if len(tds) > 2:\n",
    "                filme = tds[2].find('a').text if tds[2].find('a') else None\n",
    "                # Atualiza o filme atual para uso em linhas futuras\n",
    "                if filme:\n",
    "                    current_filme = filme\n",
    "                else:\n",
    "                    # Usa o filme armazenado anteriormente\n",
    "                    filme = current_filme\n",
    "            \n",
    "\n",
    "        ganhou = isWinner(row)\n",
    "    \n",
    "        df = pd.concat(\n",
    "            [\n",
    "                df,\n",
    "                pd.DataFrame(\n",
    "                    {\n",
    "                        'ano': [ano_atual],\n",
    "                        'nome': [nome],\n",
    "                        'personagem': [personagem],\n",
    "                        'filme': [filme],\n",
    "                        'ganhou': [ganhou]\n",
    "                    }\n",
    "                )\n",
    "            ]\n",
    "    )"
   ]
  },
  {
   "cell_type": "code",
   "execution_count": 45,
   "metadata": {},
   "outputs": [
    {
     "data": {
      "application/vnd.microsoft.datawrangler.viewer.v0+json": {
       "columns": [
        {
         "name": "index",
         "rawType": "int64",
         "type": "integer"
        },
        {
         "name": "ano",
         "rawType": "object",
         "type": "string"
        },
        {
         "name": "nome",
         "rawType": "object",
         "type": "unknown"
        },
        {
         "name": "personagem",
         "rawType": "object",
         "type": "unknown"
        },
        {
         "name": "filme",
         "rawType": "object",
         "type": "string"
        },
        {
         "name": "ganhou",
         "rawType": "object",
         "type": "unknown"
        }
       ],
       "conversionMethod": "pd.DataFrame",
       "ref": "44f831d6-14ae-4449-a269-19e9824ba004",
       "rows": [
        [
         "0",
         "1943",
         "Jennifer Jones",
         "Bernadette Soubirous",
         "The Song of Bernadette",
         "True"
        ],
        [
         "0",
         "1946",
         "Rosalind Russell",
         "Sister Elizabeth Kenny",
         "Sister Kenny",
         "True"
        ],
        [
         "0",
         "1951",
         "Vivien Leigh",
         "Blanche DuBois",
         "A Streetcar Named Desire",
         "False"
        ],
        [
         "0",
         "1956",
         "Helen Hayes",
         "Dowager Empress Maria Feodorovona",
         "Anastasia",
         "False"
        ],
        [
         "0",
         "1956",
         "Audrey Hepburn",
         "Natasha Rostova",
         "War and Peace",
         "False"
        ],
        [
         "0",
         "1958",
         "Susan Hayward",
         "Barbara Graham",
         "I Want to Live!",
         "True"
        ],
        [
         "0",
         "1958",
         "Ingrid Bergman",
         "Gladys Aylward",
         "The Inn of the Sixth Happiness",
         "False"
        ],
        [
         "0",
         "1960",
         "Greer Garson",
         "Eleanor Roosevelt",
         "Sunrise at Campobello",
         "True"
        ],
        [
         "0",
         "1962",
         "Anne Bancroft",
         "Anne Sullivan",
         "The Miracle Worker",
         "False"
        ],
        [
         "0",
         "1962",
         "Bette Davis",
         "Jane Hudson",
         "What Ever Happened to Baby Jane?",
         "False"
        ],
        [
         "0",
         "1965",
         "Maggie Smith",
         "Desdemona",
         "Othello",
         "False"
        ],
        [
         "0",
         "1966",
         "Virginia McKenna",
         "Joy Adamson",
         "Born Free",
         "False"
        ],
        [
         "0",
         "1967",
         "Faye Dunaway",
         "Bonnie Parker",
         "Bonnie and Clyde",
         "False"
        ],
        [
         "0",
         "1968",
         "Katharine Hepburn",
         "Eleanor of Aquitaine",
         "The Lion in Winter",
         "False"
        ],
        [
         "0",
         "1968",
         "Vanessa Redgrave",
         "Isadora Duncan",
         "Isadora",
         "False"
        ],
        [
         "0",
         "1969",
         "Geneviève Bujold",
         "Anne Boleyn",
         "Anne of the Thousand Days",
         "True"
        ],
        [
         "0",
         "1969",
         "Maggie Smith",
         "Jean Brodie",
         "The Prime of Miss Jean Brodie",
         "False"
        ],
        [
         "0",
         "1971",
         "Glenda Jackson",
         "Elizabeth I of England",
         "Mary, Queen of Scots",
         "False"
        ],
        [
         "0",
         "1971",
         "Jennifer Jones",
         "Bernadette Soubirous",
         "The Song of Bernadette",
         "True"
        ],
        [
         "0",
         "1971",
         "Rosalind Russell",
         "Sister Elizabeth Kenny",
         "Sister Kenny",
         "True"
        ],
        [
         "0",
         "1971",
         "Vivien Leigh",
         "Blanche DuBois",
         "A Streetcar Named Desire",
         "False"
        ],
        [
         "0",
         "1971",
         "Helen Hayes",
         "Dowager Empress Maria Feodorovona",
         "Anastasia",
         "False"
        ],
        [
         "0",
         "1971",
         "Audrey Hepburn",
         "Natasha Rostova",
         "War and Peace",
         "False"
        ],
        [
         "0",
         "1971",
         "Susan Hayward",
         "Barbara Graham",
         "I Want to Live!",
         "True"
        ],
        [
         "0",
         "1971",
         "Ingrid Bergman",
         "Gladys Aylward",
         "The Inn of the Sixth Happiness",
         "False"
        ],
        [
         "0",
         "1971",
         "Greer Garson",
         "Eleanor Roosevelt",
         "Sunrise at Campobello",
         "True"
        ],
        [
         "0",
         "1971",
         "Anne Bancroft",
         "Anne Sullivan",
         "The Miracle Worker",
         "False"
        ],
        [
         "0",
         "1971",
         "Bette Davis",
         "Jane Hudson",
         "What Ever Happened to Baby Jane?",
         "False"
        ],
        [
         "0",
         "1971",
         "Maggie Smith",
         "Desdemona",
         "Othello",
         "False"
        ],
        [
         "0",
         "1971",
         "Virginia McKenna",
         "Joy Adamson",
         "Born Free",
         "False"
        ],
        [
         "0",
         "1971",
         "Faye Dunaway",
         "Bonnie Parker",
         "Bonnie and Clyde",
         "False"
        ],
        [
         "0",
         "1971",
         "Katharine Hepburn",
         "Eleanor of Aquitaine",
         "The Lion in Winter",
         "False"
        ],
        [
         "0",
         "1971",
         "Vanessa Redgrave",
         "Isadora Duncan",
         "Isadora",
         "False"
        ],
        [
         "0",
         "1971",
         "Geneviève Bujold",
         "Anne Boleyn",
         "Anne of the Thousand Days",
         "True"
        ],
        [
         "0",
         "1971",
         "Maggie Smith",
         "Jean Brodie",
         "The Prime of Miss Jean Brodie",
         "False"
        ],
        [
         "0",
         "1971",
         "Glenda Jackson",
         "Elizabeth I of England",
         "Mary, Queen of Scots",
         "False"
        ],
        [
         "0",
         "1943",
         "Jennifer Jones",
         "Bernadette Soubirous",
         "The Song of Bernadette",
         "True"
        ],
        [
         "0",
         "1946",
         "Rosalind Russell",
         "Sister Elizabeth Kenny",
         "Sister Kenny",
         "True"
        ],
        [
         "0",
         "1951",
         "Vivien Leigh",
         "Blanche DuBois",
         "A Streetcar Named Desire",
         "False"
        ],
        [
         "0",
         "1956",
         "Helen Hayes",
         "Dowager Empress Maria Feodorovona",
         "Anastasia",
         "False"
        ],
        [
         "0",
         "1956",
         "Audrey Hepburn",
         "Natasha Rostova",
         "War and Peace",
         "False"
        ],
        [
         "0",
         "1958",
         "Susan Hayward",
         "Barbara Graham",
         "I Want to Live!",
         "True"
        ],
        [
         "0",
         "1958",
         "Ingrid Bergman",
         "Gladys Aylward",
         "The Inn of the Sixth Happiness",
         "False"
        ],
        [
         "0",
         "1960",
         "Greer Garson",
         "Eleanor Roosevelt",
         "Sunrise at Campobello",
         "True"
        ],
        [
         "0",
         "1962",
         "Anne Bancroft",
         "Anne Sullivan",
         "The Miracle Worker",
         "False"
        ],
        [
         "0",
         "1962",
         "Bette Davis",
         "Jane Hudson",
         "What Ever Happened to Baby Jane?",
         "False"
        ],
        [
         "0",
         "1965",
         "Maggie Smith",
         "Desdemona",
         "Othello",
         "False"
        ],
        [
         "0",
         "1966",
         "Virginia McKenna",
         "Joy Adamson",
         "Born Free",
         "False"
        ],
        [
         "0",
         "1967",
         "Faye Dunaway",
         "Bonnie Parker",
         "Bonnie and Clyde",
         "False"
        ],
        [
         "0",
         "1968",
         "Katharine Hepburn",
         "Eleanor of Aquitaine",
         "The Lion in Winter",
         "False"
        ]
       ],
       "shape": {
        "columns": 5,
        "rows": 3193
       }
      },
      "text/html": [
       "<div>\n",
       "<style scoped>\n",
       "    .dataframe tbody tr th:only-of-type {\n",
       "        vertical-align: middle;\n",
       "    }\n",
       "\n",
       "    .dataframe tbody tr th {\n",
       "        vertical-align: top;\n",
       "    }\n",
       "\n",
       "    .dataframe thead th {\n",
       "        text-align: right;\n",
       "    }\n",
       "</style>\n",
       "<table border=\"1\" class=\"dataframe\">\n",
       "  <thead>\n",
       "    <tr style=\"text-align: right;\">\n",
       "      <th></th>\n",
       "      <th>ano</th>\n",
       "      <th>nome</th>\n",
       "      <th>personagem</th>\n",
       "      <th>filme</th>\n",
       "      <th>ganhou</th>\n",
       "    </tr>\n",
       "  </thead>\n",
       "  <tbody>\n",
       "    <tr>\n",
       "      <th>0</th>\n",
       "      <td>1943</td>\n",
       "      <td>Jennifer Jones</td>\n",
       "      <td>Bernadette Soubirous</td>\n",
       "      <td>The Song of Bernadette</td>\n",
       "      <td>True</td>\n",
       "    </tr>\n",
       "    <tr>\n",
       "      <th>0</th>\n",
       "      <td>1946</td>\n",
       "      <td>Rosalind Russell</td>\n",
       "      <td>Sister Elizabeth Kenny</td>\n",
       "      <td>Sister Kenny</td>\n",
       "      <td>True</td>\n",
       "    </tr>\n",
       "    <tr>\n",
       "      <th>0</th>\n",
       "      <td>1951</td>\n",
       "      <td>Vivien Leigh</td>\n",
       "      <td>Blanche DuBois</td>\n",
       "      <td>A Streetcar Named Desire</td>\n",
       "      <td>False</td>\n",
       "    </tr>\n",
       "    <tr>\n",
       "      <th>0</th>\n",
       "      <td>1956</td>\n",
       "      <td>Helen Hayes</td>\n",
       "      <td>Dowager Empress Maria Feodorovona</td>\n",
       "      <td>Anastasia</td>\n",
       "      <td>False</td>\n",
       "    </tr>\n",
       "    <tr>\n",
       "      <th>0</th>\n",
       "      <td>1956</td>\n",
       "      <td>Audrey Hepburn</td>\n",
       "      <td>Natasha Rostova</td>\n",
       "      <td>War and Peace</td>\n",
       "      <td>False</td>\n",
       "    </tr>\n",
       "    <tr>\n",
       "      <th>...</th>\n",
       "      <td>...</td>\n",
       "      <td>...</td>\n",
       "      <td>...</td>\n",
       "      <td>...</td>\n",
       "      <td>...</td>\n",
       "    </tr>\n",
       "    <tr>\n",
       "      <th>0</th>\n",
       "      <td>2024</td>\n",
       "      <td>Pamela Anderson</td>\n",
       "      <td>None</td>\n",
       "      <td>The Last Showgirl</td>\n",
       "      <td>False</td>\n",
       "    </tr>\n",
       "    <tr>\n",
       "      <th>0</th>\n",
       "      <td>2024</td>\n",
       "      <td>Angelina Jolie</td>\n",
       "      <td>Maria Callas</td>\n",
       "      <td>Maria</td>\n",
       "      <td>False</td>\n",
       "    </tr>\n",
       "    <tr>\n",
       "      <th>0</th>\n",
       "      <td>2024</td>\n",
       "      <td>Nicole Kidman</td>\n",
       "      <td>None</td>\n",
       "      <td>Babygirl</td>\n",
       "      <td>False</td>\n",
       "    </tr>\n",
       "    <tr>\n",
       "      <th>0</th>\n",
       "      <td>2024</td>\n",
       "      <td>Tilda Swinton</td>\n",
       "      <td>None</td>\n",
       "      <td>The Room Next Door</td>\n",
       "      <td>False</td>\n",
       "    </tr>\n",
       "    <tr>\n",
       "      <th>0</th>\n",
       "      <td>2024</td>\n",
       "      <td>Kate Winslet</td>\n",
       "      <td>Lee Miller</td>\n",
       "      <td>Lee</td>\n",
       "      <td>False</td>\n",
       "    </tr>\n",
       "  </tbody>\n",
       "</table>\n",
       "<p>3193 rows × 5 columns</p>\n",
       "</div>"
      ],
      "text/plain": [
       "     ano              nome                         personagem  \\\n",
       "0   1943    Jennifer Jones               Bernadette Soubirous   \n",
       "0   1946  Rosalind Russell             Sister Elizabeth Kenny   \n",
       "0   1951      Vivien Leigh                     Blanche DuBois   \n",
       "0   1956       Helen Hayes  Dowager Empress Maria Feodorovona   \n",
       "0   1956    Audrey Hepburn                    Natasha Rostova   \n",
       "..   ...               ...                                ...   \n",
       "0   2024   Pamela Anderson                               None   \n",
       "0   2024    Angelina Jolie                       Maria Callas   \n",
       "0   2024     Nicole Kidman                               None   \n",
       "0   2024     Tilda Swinton                               None   \n",
       "0   2024      Kate Winslet                         Lee Miller   \n",
       "\n",
       "                       filme ganhou  \n",
       "0     The Song of Bernadette   True  \n",
       "0               Sister Kenny   True  \n",
       "0   A Streetcar Named Desire  False  \n",
       "0                  Anastasia  False  \n",
       "0              War and Peace  False  \n",
       "..                       ...    ...  \n",
       "0          The Last Showgirl  False  \n",
       "0                      Maria  False  \n",
       "0                   Babygirl  False  \n",
       "0         The Room Next Door  False  \n",
       "0                        Lee  False  \n",
       "\n",
       "[3193 rows x 5 columns]"
      ]
     },
     "execution_count": 45,
     "metadata": {},
     "output_type": "execute_result"
    }
   ],
   "source": [
    "df"
   ]
  },
  {
   "cell_type": "code",
   "execution_count": 46,
   "metadata": {},
   "outputs": [
    {
     "data": {
      "text/plain": [
       "<tr>\n",
       "<th rowspan=\"6\"><a href=\"/wiki/82nd_Golden_Globe_Awards\" title=\"82nd Golden Globe Awards\">2024</a>\n",
       "</th>\n",
       "<td style=\"background:#B0C4DE;\"><b><a href=\"/wiki/Fernanda_Torres\" title=\"Fernanda Torres\">Fernanda Torres</a></b></td>\n",
       "<td style=\"background:#B0C4DE;\"><b><a href=\"/wiki/Eunice_Paiva\" title=\"Eunice Paiva\">Eunice Paiva</a></b></td>\n",
       "<td style=\"background:#B0C4DE;\"><b><a href=\"/wiki/I%27m_Still_Here_(2024_film)\" title=\"I'm Still Here (2024 film)\"><i>I'm Still Here</i></a></b></td>\n",
       "<td rowspan=\"6\"><sup class=\"reference\" id=\"cite_ref-81\"><a href=\"#cite_note-81\"><span class=\"cite-bracket\">[</span>81<span class=\"cite-bracket\">]</span></a></sup>\n",
       "</td></tr>"
      ]
     },
     "execution_count": 46,
     "metadata": {},
     "output_type": "execute_result"
    }
   ],
   "source": [
    "tables[-1].find_all('tr')[-6]"
   ]
  },
  {
   "cell_type": "code",
   "execution_count": 48,
   "metadata": {},
   "outputs": [
    {
     "data": {
      "text/plain": [
       "<tr>\n",
       "<td><a href=\"/wiki/Pamela_Anderson\" title=\"Pamela Anderson\">Pamela Anderson</a>\n",
       "</td>\n",
       "<td>Shelly Gardner\n",
       "</td>\n",
       "<td><i><a href=\"/wiki/The_Last_Showgirl\" title=\"The Last Showgirl\">The Last Showgirl</a></i>\n",
       "</td></tr>"
      ]
     },
     "execution_count": 48,
     "metadata": {},
     "output_type": "execute_result"
    }
   ],
   "source": [
    "tables[-1].find_all('tr')[-5]"
   ]
  },
  {
   "cell_type": "code",
   "execution_count": null,
   "metadata": {},
   "outputs": [],
   "source": []
  }
 ],
 "metadata": {
  "kernelspec": {
   "display_name": "base",
   "language": "python",
   "name": "python3"
  },
  "language_info": {
   "codemirror_mode": {
    "name": "ipython",
    "version": 3
   },
   "file_extension": ".py",
   "mimetype": "text/x-python",
   "name": "python",
   "nbconvert_exporter": "python",
   "pygments_lexer": "ipython3",
   "version": "3.11.5"
  }
 },
 "nbformat": 4,
 "nbformat_minor": 2
}
