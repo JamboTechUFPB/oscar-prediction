{
 "cells": [
  {
   "cell_type": "markdown",
   "metadata": {},
   "source": [
    "# Bafta Best Actress"
   ]
  },
  {
   "cell_type": "code",
   "execution_count": 1,
   "metadata": {},
   "outputs": [],
   "source": [
    "BAFTA_url = \"https://en.wikipedia.org/wiki/BAFTA_Award_for_Best_Actress_in_a_Leading_Role\""
   ]
  },
  {
   "cell_type": "code",
   "execution_count": 2,
   "metadata": {},
   "outputs": [],
   "source": [
    "import requests\n",
    "import pandas as pd\n",
    "from bs4 import BeautifulSoup\n",
    "\n",
    "soup = BeautifulSoup(requests.get(BAFTA_url).text, 'html.parser')\n",
    "tables = soup.find_all('table', class_='wikitable')"
   ]
  },
  {
   "cell_type": "code",
   "execution_count": 37,
   "metadata": {},
   "outputs": [],
   "source": [
    "def isWinner(row):\n",
    "    tds = row.find_all('td')\n",
    "    for td in tds:\n",
    "        if 'style' in td.attrs:\n",
    "            #print(f\"Found style: {td['style']}\")\n",
    "            if '#FAEB86' in td['style']:\n",
    "                return True\n",
    "    #print(\"No style found\")\n",
    "    return False"
   ]
  },
  {
   "cell_type": "code",
   "execution_count": 18,
   "metadata": {},
   "outputs": [
    {
     "data": {
      "text/plain": [
       "'2010'"
      ]
     },
     "execution_count": 18,
     "metadata": {},
     "output_type": "execute_result"
    }
   ],
   "source": [
    "row = tables[6].find_all('tr')[1]\n",
    "td = row.find_all('td')\n",
    "td = row.find('td', {\"rowspan\":True} ).find('b').text\n",
    "td\n",
    "#td.find('b').text"
   ]
  },
  {
   "cell_type": "code",
   "execution_count": 36,
   "metadata": {},
   "outputs": [
    {
     "data": {
      "text/plain": [
       "<tr>\n",
       "<td rowspan=\"5\"><div class=\"center\" style=\"width:auto; margin-left:auto; margin-right:auto;\"><b>2010</b><br/><span style=\"font-size:85%;\">(<a href=\"/wiki/64th_British_Academy_Film_Awards\" title=\"64th British Academy Film Awards\">64th</a>)</span><br/><sup class=\"reference\" id=\"cite_ref-15\"><a href=\"#cite_note-15\"><span class=\"cite-bracket\">[</span>15<span class=\"cite-bracket\">]</span></a></sup></div>\n",
       "</td>\n",
       "<td style=\"background:#FAEB86\"><b><a href=\"/wiki/Natalie_Portman\" title=\"Natalie Portman\">Natalie Portman</a></b>\n",
       "</td>\n",
       "<td style=\"background:#FAEB86\"><i><b><a href=\"/wiki/Black_Swan_(film)\" title=\"Black Swan (film)\">Black Swan</a></b></i>\n",
       "</td>\n",
       "<td style=\"background:#FAEB86\"><b>Nina Sayers</b>\n",
       "</td></tr>"
      ]
     },
     "execution_count": 36,
     "metadata": {},
     "output_type": "execute_result"
    }
   ],
   "source": [
    "row"
   ]
  },
  {
   "cell_type": "code",
   "execution_count": 27,
   "metadata": {},
   "outputs": [
    {
     "data": {
      "text/plain": [
       "<tr>\n",
       "<td rowspan=\"5\"><div class=\"center\" style=\"width:auto; margin-left:auto; margin-right:auto;\"><b>2010</b><br/><span style=\"font-size:85%;\">(<a href=\"/wiki/64th_British_Academy_Film_Awards\" title=\"64th British Academy Film Awards\">64th</a>)</span><br/><sup class=\"reference\" id=\"cite_ref-15\"><a href=\"#cite_note-15\"><span class=\"cite-bracket\">[</span>15<span class=\"cite-bracket\">]</span></a></sup></div>\n",
       "</td>\n",
       "<td style=\"background:#FAEB86\"><b><a href=\"/wiki/Natalie_Portman\" title=\"Natalie Portman\">Natalie Portman</a></b>\n",
       "</td>\n",
       "<td style=\"background:#FAEB86\"><i><b><a href=\"/wiki/Black_Swan_(film)\" title=\"Black Swan (film)\">Black Swan</a></b></i>\n",
       "</td>\n",
       "<td style=\"background:#FAEB86\"><b>Nina Sayers</b>\n",
       "</td></tr>"
      ]
     },
     "execution_count": 27,
     "metadata": {},
     "output_type": "execute_result"
    }
   ],
   "source": [
    "row"
   ]
  },
  {
   "cell_type": "code",
   "execution_count": 45,
   "metadata": {},
   "outputs": [
    {
     "name": "stdout",
     "output_type": "stream",
     "text": [
      "Encontrou ano: 2010\n",
      "Ano: 2010, Nome: Natalie Portman, Filme: Black Swan, Personagem: Nina Sayers, Ganhou: True\n",
      "Ano: 2010, Nome: Annette Bening, Filme: The Kids Are All Right, Personagem: Dr. Nicole \"Nic\" Allgood, Ganhou: False\n",
      "Ano: 2010, Nome: Noomi Rapace, Filme: The Girl with the Dragon Tattoo, Personagem: Lisbeth Salander, Ganhou: False\n",
      "Ano: 2010, Nome: Hailee Steinfeld, Filme: True Grit, Personagem: Mattie Ross, Ganhou: False\n",
      "Encontrou ano: 2011\n",
      "Ano: 2011, Nome: Meryl Streep, Filme: The Iron Lady, Personagem: Margaret Thatcher, Ganhou: True\n",
      "Ano: 2011, Nome: Bérénice Bejo, Filme: The Artist, Personagem: Peppy Miller, Ganhou: False\n",
      "Ano: 2011, Nome: Viola Davis, Filme: The Help, Personagem: Aibleen Clark, Ganhou: False\n",
      "Ano: 2011, Nome: Tilda Swinton, Filme: We Need to Talk About Kevin, Personagem: Eva Khatchadourian, Ganhou: False\n",
      "Ano: 2011, Nome: Michelle Williams, Filme: My Week with Marilyn, Personagem: Marilyn Monroe, Ganhou: False\n",
      "Encontrou ano: 2012\n",
      "Ano: 2012, Nome: Emmanuelle Riva, Filme: Amour, Personagem: Anne Laurent, Ganhou: True\n",
      "Ano: 2012, Nome: Jessica Chastain, Filme: Zero Dark Thirty, Personagem: Maya Harris, Ganhou: False\n",
      "Ano: 2012, Nome: Marion Cotillard, Filme: Rust and Bone, Personagem: Stéphanie, Ganhou: False\n",
      "Ano: 2012, Nome: Jennifer Lawrence, Filme: Silver Linings Playbook, Personagem: Tiffany Maxwell, Ganhou: False\n",
      "Ano: 2012, Nome: Helen Mirren, Filme: Hitchcock, Personagem: Alma Reville Hitchcock, Ganhou: False\n",
      "Encontrou ano: 2013\n",
      "Ano: 2013, Nome: Cate Blanchett, Filme: Blue Jasmine, Personagem: Jeanette \"Jasmine\" Francis, Ganhou: True\n",
      "Ano: 2013, Nome: Amy Adams, Filme: American Hustle, Personagem: Sydney Prosser / Lady Edith Greensly, Ganhou: False\n",
      "Ano: 2013, Nome: Sandra Bullock, Filme: Gravity, Personagem: Dr. Ryan Stone, Ganhou: False\n",
      "Ano: 2013, Nome: Judi Dench, Filme: Philomena, Personagem: Philomena Lee, Ganhou: False\n",
      "Ano: 2013, Nome: Emma Thompson, Filme: Saving Mr. Banks, Personagem: P. L. Travers, Ganhou: False\n",
      "Encontrou ano: 2014\n",
      "Ano: 2014, Nome: Julianne Moore, Filme: Still Alice, Personagem: Dr. Alice Howland, Ganhou: True\n",
      "Ano: 2014, Nome: Amy Adams, Filme: Big Eyes, Personagem: Margaret Keane, Ganhou: False\n",
      "Ano: 2014, Nome: Felicity Jones, Filme: The Theory of Everything, Personagem: Jane Wilde Hawking, Ganhou: False\n",
      "Ano: 2014, Nome: Rosamund Pike, Filme: Gone Girl, Personagem: Amy Elliott-Dunne, Ganhou: False\n",
      "Ano: 2014, Nome: Reese Witherspoon, Filme: Wild, Personagem: Cheryl Strayed, Ganhou: False\n",
      "Encontrou ano: 2015\n",
      "Ano: 2015, Nome: Brie Larson, Filme: Room, Personagem: Joy \"Ma\" Newsome, Ganhou: True\n",
      "Ano: 2015, Nome: Cate Blanchett, Filme: Carol, Personagem: Carol Aird, Ganhou: False\n",
      "Ano: 2015, Nome: Saoirse Ronan, Filme: Brooklyn, Personagem: Eilis Lacey, Ganhou: False\n",
      "Ano: 2015, Nome: Maggie Smith, Filme: The Lady in the Van, Personagem: Mary Shepherd / Margaret Fairchild, Ganhou: False\n",
      "Ano: 2015, Nome: Alicia Vikander, Filme: The Danish Girl, Personagem: Gerda Wegener, Ganhou: False\n",
      "Encontrou ano: 2016\n",
      "Ano: 2016, Nome: Emma Stone, Filme: La La Land, Personagem: Mia Dolan, Ganhou: True\n",
      "Ano: 2016, Nome: Amy Adams, Filme: Arrival, Personagem: Dr. Louise Banks, Ganhou: False\n",
      "Ano: 2016, Nome: Emily Blunt, Filme: The Girl on the Train, Personagem: Rachel Watson, Ganhou: False\n",
      "Ano: 2016, Nome: Natalie Portman, Filme: Jackie, Personagem: Jackie Kennedy, Ganhou: False\n",
      "Ano: 2016, Nome: Meryl Streep, Filme: Florence Foster Jenkins, Personagem: Florence Foster Jenkins, Ganhou: False\n",
      "Encontrou ano: 2017\n",
      "Ano: 2017, Nome: Frances McDormand, Filme: Three Billboards Outside Ebbing, Missouri, Personagem: Mildred Hayes, Ganhou: True\n",
      "Ano: 2017, Nome: Annette Bening, Filme: Film Stars Don't Die in Liverpool, Personagem: Gloria Grahame, Ganhou: False\n",
      "Ano: 2017, Nome: Sally Hawkins, Filme: The Shape of Water, Personagem: Elisa Esposito, Ganhou: False\n",
      "Ano: 2017, Nome: Margot Robbie, Filme: I, Tonya, Personagem: Tonya Harding, Ganhou: False\n",
      "Ano: 2017, Nome: Saoirse Ronan, Filme: Lady Bird, Personagem: Christine \"Lady Bird\" McPherson, Ganhou: False\n",
      "Encontrou ano: 2018\n",
      "Ano: 2018, Nome: Olivia Colman, Filme: The Favourite, Personagem: Queen Anne, Ganhou: True\n",
      "Ano: 2018, Nome: Glenn Close, Filme: The Wife, Personagem: Joan Castleman, Ganhou: False\n",
      "Ano: 2018, Nome: Viola Davis, Filme: Widows, Personagem: Veronica Rawlings, Ganhou: False\n",
      "Ano: 2018, Nome: Lady Gaga, Filme: A Star Is Born, Personagem: Ally Maine, Ganhou: False\n",
      "Ano: 2018, Nome: Melissa McCarthy, Filme: Can You Ever Forgive Me?, Personagem: Lee Israel, Ganhou: False\n",
      "Encontrou ano: 2019\n",
      "Ano: 2019, Nome: Renée Zellweger, Filme: Judy, Personagem: Judy Garland, Ganhou: True\n",
      "Ano: 2019, Nome: Jessie Buckley, Filme: Wild Rose, Personagem: Rose-Lynn Harlan, Ganhou: False\n",
      "Ano: 2019, Nome: Scarlett Johansson, Filme: Marriage Story, Personagem: Nicole Barber, Ganhou: False\n",
      "Ano: 2019, Nome: Saoirse Ronan, Filme: Little Women, Personagem: Josephine \"Jo\" March, Ganhou: False\n",
      "Ano: 2019, Nome: Charlize Theron, Filme: Bombshell, Personagem: Megyn Kelly, Ganhou: False\n",
      "Encontrou ano: 2020\n",
      "Ano: 2020, Nome: Frances McDormand, Filme: Nomadland, Personagem: Fern, Ganhou: True\n",
      "Ano: 2020, Nome: Bukky Bakray, Filme: Rocks, Personagem: Olushola \"Rocks\" Omotoso, Ganhou: False\n",
      "Ano: 2020, Nome: Radha Blank, Filme: The Forty-Year-Old Version, Personagem: Radha Blank, Ganhou: False\n",
      "Ano: 2020, Nome: Vanessa Kirby, Filme: Pieces of a Woman, Personagem: Martha Weiss, Ganhou: False\n",
      "Ano: 2020, Nome: Wunmi Mosaku, Filme: His House, Personagem: Rial Majur, Ganhou: False\n",
      "Ano: 2020, Nome: Alfre Woodard, Filme: Clemency, Personagem: Bernardine Williams, Ganhou: False\n",
      "Encontrou ano: 2021\n",
      "Ano: 2021, Nome: Joanna Scanlan, Filme: After Love, Personagem: Mary Hussain, Ganhou: True\n",
      "Ano: 2021, Nome: Lady Gaga, Filme: House of Gucci, Personagem: Patrizia Reggiani, Ganhou: False\n",
      "Ano: 2021, Nome: Alana Haim, Filme: Licorice Pizza, Personagem: Alana Kane, Ganhou: False\n",
      "Ano: 2021, Nome: Emilia Jones, Filme: CODA, Personagem: Ruby Rossi, Ganhou: False\n",
      "Ano: 2021, Nome: Renate Reinsve, Filme: The Worst Person in the World, Personagem: Julie, Ganhou: False\n",
      "Ano: 2021, Nome: Tessa Thompson, Filme: Passing, Personagem: Irene Redfield, Ganhou: False\n",
      "Encontrou ano: 2022\n",
      "Ano: 2022, Nome: Cate Blanchett, Filme: Tár, Personagem: Lydia Tár, Ganhou: True\n",
      "Ano: 2022, Nome: Viola Davis, Filme: The Woman King, Personagem: General Nanisca, Ganhou: False\n",
      "Ano: 2022, Nome: Danielle Deadwyler, Filme: Till, Personagem: Mamie Till, Ganhou: False\n",
      "Ano: 2022, Nome: Ana de Armas, Filme: Blonde, Personagem: Marilyn Monroe, Ganhou: False\n",
      "Ano: 2022, Nome: Emma Thompson, Filme: Good Luck to You, Leo Grande, Personagem: Nancy Stokes / Susan Robinson, Ganhou: False\n",
      "Ano: 2022, Nome: Michelle Yeoh, Filme: Everything Everywhere All at Once, Personagem: Evelyn Quan Wang, Ganhou: False\n",
      "Encontrou ano: 2023\n",
      "Ano: 2023, Nome: Emma Stone, Filme: Poor Things, Personagem: Bella Baxter, Ganhou: True\n",
      "Ano: 2023, Nome: Fantasia Barrino, Filme: The Color Purple, Personagem: Celie Harris-Johnson, Ganhou: False\n",
      "Ano: 2023, Nome: Sandra Huller, Filme: Anatomy of a Fall, Personagem: Sandra Voyter, Ganhou: False\n",
      "Ano: 2023, Nome: Carey Mulligan, Filme: Maestro, Personagem: Felicia Montealegre, Ganhou: False\n",
      "Ano: 2023, Nome: Vivian Oparah, Filme: Rye Lane, Personagem: Yas, Ganhou: False\n",
      "Ano: 2023, Nome: Margot Robbie, Filme: Barbie, Personagem: Barbie, Ganhou: False\n",
      "Encontrou ano: 2024\n",
      "Ano: 2024, Nome: Mikey Madison, Filme: Anora, Personagem: Anora \"Ani\" Mikheeva, Ganhou: True\n",
      "Ano: 2024, Nome: Cynthia Erivo, Filme: Wicked, Personagem: Elphaba Thropp, Ganhou: False\n",
      "Ano: 2024, Nome: Karla Sofía Gascón, Filme: Emilia Pérez, Personagem: Juan \"Manitas\" Del Monte / Emilia Pérez, Ganhou: False\n",
      "Ano: 2024, Nome: Marianne Jean-Baptiste, Filme: Hard Truths, Personagem: Pansy Deacon, Ganhou: False\n",
      "Ano: 2024, Nome: Demi Moore, Filme: The Substance, Personagem: Elisabeth Sparkle, Ganhou: False\n",
      "Ano: 2024, Nome: Saoirse Ronan, Filme: The Outrun, Personagem: Rona, Ganhou: False\n"
     ]
    }
   ],
   "source": [
    "df = pd.DataFrame(columns=['ano','nome','personagem','filme','ganhou'])\n",
    "for table in tables[6:8]:\n",
    "    rows = table.find_all('tr')\n",
    "    current_year = None\n",
    "    current_filme = None\n",
    "    for row in rows[1:]:\n",
    "        tds = row.find_all('td')\n",
    "        \n",
    "        # Procuramos o ano\n",
    "        for td in tds:\n",
    "            if 'rowspan' in td.attrs:\n",
    "                ano_b = td.find('b')\n",
    "                if ano_b:\n",
    "                    current_year = ano_b.text.strip()\n",
    "                    print(f\"Encontrou ano: {current_year}\")\n",
    "        \n",
    "        # Processamos os dados\n",
    "        if len(tds) >= 3:  # Verificar se temos células suficientes para extrair dados\n",
    "            # A posição exata dos dados pode variar dependendo da estrutura\n",
    "            # Você precisa ajustar os índices conforme necessário\n",
    "            \n",
    "            # Para nome (assumindo que é a segunda coluna quando o ano está presente)\n",
    "            nome_idx = 1 if current_year and 'rowspan' in tds[0].attrs else 0\n",
    "            if nome_idx < len(tds):\n",
    "                nome_a = tds[nome_idx].find('a')\n",
    "                nome = nome_a.text if nome_a else None\n",
    "                \n",
    "                # Para filme (assumindo que é a terceira coluna)\n",
    "                filme_idx = nome_idx + 1\n",
    "                if filme_idx < len(tds):\n",
    "                    filme_a = tds[filme_idx].find('a')\n",
    "                    filme = filme_a.text if filme_a else None\n",
    "                    \n",
    "                    # Para personagem (assumindo que é a quarta coluna)\n",
    "                    personagem_idx = filme_idx + 1\n",
    "                    if personagem_idx < len(tds):\n",
    "                        personagem_b = tds[personagem_idx].find('b')\n",
    "                        personagem = personagem_b.text if personagem_b else tds[personagem_idx].text.strip()\n",
    "                    \n",
    "                        ganhou = isWinner(row)\n",
    "                        print(f\"Ano: {current_year}, Nome: {nome}, Filme: {filme}, Personagem: {personagem}, Ganhou: {ganhou}\")\n",
    "\n",
    "                        \n",
    "                        df = pd.concat(\n",
    "                            [\n",
    "                                df,\n",
    "                                pd.DataFrame(\n",
    "                                    {\n",
    "                                        'ano': [current_year],\n",
    "                                        'nome': [nome],\n",
    "                                        'personagem': [personagem],\n",
    "                                        'filme': [filme],\n",
    "                                        'ganhou': [ganhou]\n",
    "                                    }\n",
    "                                )\n",
    "                            ]\n",
    "                        )\n"
   ]
  },
  {
   "cell_type": "code",
   "execution_count": 46,
   "metadata": {},
   "outputs": [
    {
     "data": {
      "application/vnd.microsoft.datawrangler.viewer.v0+json": {
       "columns": [
        {
         "name": "index",
         "rawType": "int64",
         "type": "integer"
        },
        {
         "name": "ano",
         "rawType": "object",
         "type": "string"
        },
        {
         "name": "nome",
         "rawType": "object",
         "type": "string"
        },
        {
         "name": "personagem",
         "rawType": "object",
         "type": "string"
        },
        {
         "name": "filme",
         "rawType": "object",
         "type": "string"
        },
        {
         "name": "ganhou",
         "rawType": "object",
         "type": "unknown"
        }
       ],
       "conversionMethod": "pd.DataFrame",
       "ref": "5ffb31c9-b799-4170-bc54-894b62115c9e",
       "rows": [
        [
         "0",
         "2010",
         "Natalie Portman",
         "Nina Sayers",
         "Black Swan",
         "True"
        ],
        [
         "0",
         "2010",
         "Annette Bening",
         "Dr. Nicole \"Nic\" Allgood",
         "The Kids Are All Right",
         "False"
        ],
        [
         "0",
         "2010",
         "Noomi Rapace",
         "Lisbeth Salander",
         "The Girl with the Dragon Tattoo",
         "False"
        ],
        [
         "0",
         "2010",
         "Hailee Steinfeld",
         "Mattie Ross",
         "True Grit",
         "False"
        ],
        [
         "0",
         "2011",
         "Meryl Streep",
         "Margaret Thatcher",
         "The Iron Lady",
         "True"
        ],
        [
         "0",
         "2011",
         "Bérénice Bejo",
         "Peppy Miller",
         "The Artist",
         "False"
        ],
        [
         "0",
         "2011",
         "Viola Davis",
         "Aibleen Clark",
         "The Help",
         "False"
        ],
        [
         "0",
         "2011",
         "Tilda Swinton",
         "Eva Khatchadourian",
         "We Need to Talk About Kevin",
         "False"
        ],
        [
         "0",
         "2011",
         "Michelle Williams",
         "Marilyn Monroe",
         "My Week with Marilyn",
         "False"
        ],
        [
         "0",
         "2012",
         "Emmanuelle Riva",
         "Anne Laurent",
         "Amour",
         "True"
        ],
        [
         "0",
         "2012",
         "Jessica Chastain",
         "Maya Harris",
         "Zero Dark Thirty",
         "False"
        ],
        [
         "0",
         "2012",
         "Marion Cotillard",
         "Stéphanie",
         "Rust and Bone",
         "False"
        ],
        [
         "0",
         "2012",
         "Jennifer Lawrence",
         "Tiffany Maxwell",
         "Silver Linings Playbook",
         "False"
        ],
        [
         "0",
         "2012",
         "Helen Mirren",
         "Alma Reville Hitchcock",
         "Hitchcock",
         "False"
        ],
        [
         "0",
         "2013",
         "Cate Blanchett",
         "Jeanette \"Jasmine\" Francis",
         "Blue Jasmine",
         "True"
        ],
        [
         "0",
         "2013",
         "Amy Adams",
         "Sydney Prosser / Lady Edith Greensly",
         "American Hustle",
         "False"
        ],
        [
         "0",
         "2013",
         "Sandra Bullock",
         "Dr. Ryan Stone",
         "Gravity",
         "False"
        ],
        [
         "0",
         "2013",
         "Judi Dench",
         "Philomena Lee",
         "Philomena",
         "False"
        ],
        [
         "0",
         "2013",
         "Emma Thompson",
         "P. L. Travers",
         "Saving Mr. Banks",
         "False"
        ],
        [
         "0",
         "2014",
         "Julianne Moore",
         "Dr. Alice Howland",
         "Still Alice",
         "True"
        ],
        [
         "0",
         "2014",
         "Amy Adams",
         "Margaret Keane",
         "Big Eyes",
         "False"
        ],
        [
         "0",
         "2014",
         "Felicity Jones",
         "Jane Wilde Hawking",
         "The Theory of Everything",
         "False"
        ],
        [
         "0",
         "2014",
         "Rosamund Pike",
         "Amy Elliott-Dunne",
         "Gone Girl",
         "False"
        ],
        [
         "0",
         "2014",
         "Reese Witherspoon",
         "Cheryl Strayed",
         "Wild",
         "False"
        ],
        [
         "0",
         "2015",
         "Brie Larson",
         "Joy \"Ma\" Newsome",
         "Room",
         "True"
        ],
        [
         "0",
         "2015",
         "Cate Blanchett",
         "Carol Aird",
         "Carol",
         "False"
        ],
        [
         "0",
         "2015",
         "Saoirse Ronan",
         "Eilis Lacey",
         "Brooklyn",
         "False"
        ],
        [
         "0",
         "2015",
         "Maggie Smith",
         "Mary Shepherd / Margaret Fairchild",
         "The Lady in the Van",
         "False"
        ],
        [
         "0",
         "2015",
         "Alicia Vikander",
         "Gerda Wegener",
         "The Danish Girl",
         "False"
        ],
        [
         "0",
         "2016",
         "Emma Stone",
         "Mia Dolan",
         "La La Land",
         "True"
        ],
        [
         "0",
         "2016",
         "Amy Adams",
         "Dr. Louise Banks",
         "Arrival",
         "False"
        ],
        [
         "0",
         "2016",
         "Emily Blunt",
         "Rachel Watson",
         "The Girl on the Train",
         "False"
        ],
        [
         "0",
         "2016",
         "Natalie Portman",
         "Jackie Kennedy",
         "Jackie",
         "False"
        ],
        [
         "0",
         "2016",
         "Meryl Streep",
         "Florence Foster Jenkins",
         "Florence Foster Jenkins",
         "False"
        ],
        [
         "0",
         "2017",
         "Frances McDormand",
         "Mildred Hayes",
         "Three Billboards Outside Ebbing, Missouri",
         "True"
        ],
        [
         "0",
         "2017",
         "Annette Bening",
         "Gloria Grahame",
         "Film Stars Don't Die in Liverpool",
         "False"
        ],
        [
         "0",
         "2017",
         "Sally Hawkins",
         "Elisa Esposito",
         "The Shape of Water",
         "False"
        ],
        [
         "0",
         "2017",
         "Margot Robbie",
         "Tonya Harding",
         "I, Tonya",
         "False"
        ],
        [
         "0",
         "2017",
         "Saoirse Ronan",
         "Christine \"Lady Bird\" McPherson",
         "Lady Bird",
         "False"
        ],
        [
         "0",
         "2018",
         "Olivia Colman",
         "Queen Anne",
         "The Favourite",
         "True"
        ],
        [
         "0",
         "2018",
         "Glenn Close",
         "Joan Castleman",
         "The Wife",
         "False"
        ],
        [
         "0",
         "2018",
         "Viola Davis",
         "Veronica Rawlings",
         "Widows",
         "False"
        ],
        [
         "0",
         "2018",
         "Lady Gaga",
         "Ally Maine",
         "A Star Is Born",
         "False"
        ],
        [
         "0",
         "2018",
         "Melissa McCarthy",
         "Lee Israel",
         "Can You Ever Forgive Me?",
         "False"
        ],
        [
         "0",
         "2019",
         "Renée Zellweger",
         "Judy Garland",
         "Judy",
         "True"
        ],
        [
         "0",
         "2019",
         "Jessie Buckley",
         "Rose-Lynn Harlan",
         "Wild Rose",
         "False"
        ],
        [
         "0",
         "2019",
         "Scarlett Johansson",
         "Nicole Barber",
         "Marriage Story",
         "False"
        ],
        [
         "0",
         "2019",
         "Saoirse Ronan",
         "Josephine \"Jo\" March",
         "Little Women",
         "False"
        ],
        [
         "0",
         "2019",
         "Charlize Theron",
         "Megyn Kelly",
         "Bombshell",
         "False"
        ],
        [
         "0",
         "2020",
         "Frances McDormand",
         "Fern",
         "Nomadland",
         "True"
        ]
       ],
       "shape": {
        "columns": 5,
        "rows": 79
       }
      },
      "text/html": [
       "<div>\n",
       "<style scoped>\n",
       "    .dataframe tbody tr th:only-of-type {\n",
       "        vertical-align: middle;\n",
       "    }\n",
       "\n",
       "    .dataframe tbody tr th {\n",
       "        vertical-align: top;\n",
       "    }\n",
       "\n",
       "    .dataframe thead th {\n",
       "        text-align: right;\n",
       "    }\n",
       "</style>\n",
       "<table border=\"1\" class=\"dataframe\">\n",
       "  <thead>\n",
       "    <tr style=\"text-align: right;\">\n",
       "      <th></th>\n",
       "      <th>ano</th>\n",
       "      <th>nome</th>\n",
       "      <th>personagem</th>\n",
       "      <th>filme</th>\n",
       "      <th>ganhou</th>\n",
       "    </tr>\n",
       "  </thead>\n",
       "  <tbody>\n",
       "    <tr>\n",
       "      <th>0</th>\n",
       "      <td>2010</td>\n",
       "      <td>Natalie Portman</td>\n",
       "      <td>Nina Sayers</td>\n",
       "      <td>Black Swan</td>\n",
       "      <td>True</td>\n",
       "    </tr>\n",
       "    <tr>\n",
       "      <th>0</th>\n",
       "      <td>2010</td>\n",
       "      <td>Annette Bening</td>\n",
       "      <td>Dr. Nicole \"Nic\" Allgood</td>\n",
       "      <td>The Kids Are All Right</td>\n",
       "      <td>False</td>\n",
       "    </tr>\n",
       "    <tr>\n",
       "      <th>0</th>\n",
       "      <td>2010</td>\n",
       "      <td>Noomi Rapace</td>\n",
       "      <td>Lisbeth Salander</td>\n",
       "      <td>The Girl with the Dragon Tattoo</td>\n",
       "      <td>False</td>\n",
       "    </tr>\n",
       "    <tr>\n",
       "      <th>0</th>\n",
       "      <td>2010</td>\n",
       "      <td>Hailee Steinfeld</td>\n",
       "      <td>Mattie Ross</td>\n",
       "      <td>True Grit</td>\n",
       "      <td>False</td>\n",
       "    </tr>\n",
       "    <tr>\n",
       "      <th>0</th>\n",
       "      <td>2011</td>\n",
       "      <td>Meryl Streep</td>\n",
       "      <td>Margaret Thatcher</td>\n",
       "      <td>The Iron Lady</td>\n",
       "      <td>True</td>\n",
       "    </tr>\n",
       "    <tr>\n",
       "      <th>...</th>\n",
       "      <td>...</td>\n",
       "      <td>...</td>\n",
       "      <td>...</td>\n",
       "      <td>...</td>\n",
       "      <td>...</td>\n",
       "    </tr>\n",
       "    <tr>\n",
       "      <th>0</th>\n",
       "      <td>2024</td>\n",
       "      <td>Cynthia Erivo</td>\n",
       "      <td>Elphaba Thropp</td>\n",
       "      <td>Wicked</td>\n",
       "      <td>False</td>\n",
       "    </tr>\n",
       "    <tr>\n",
       "      <th>0</th>\n",
       "      <td>2024</td>\n",
       "      <td>Karla Sofía Gascón</td>\n",
       "      <td>Juan \"Manitas\" Del Monte / Emilia Pérez</td>\n",
       "      <td>Emilia Pérez</td>\n",
       "      <td>False</td>\n",
       "    </tr>\n",
       "    <tr>\n",
       "      <th>0</th>\n",
       "      <td>2024</td>\n",
       "      <td>Marianne Jean-Baptiste</td>\n",
       "      <td>Pansy Deacon</td>\n",
       "      <td>Hard Truths</td>\n",
       "      <td>False</td>\n",
       "    </tr>\n",
       "    <tr>\n",
       "      <th>0</th>\n",
       "      <td>2024</td>\n",
       "      <td>Demi Moore</td>\n",
       "      <td>Elisabeth Sparkle</td>\n",
       "      <td>The Substance</td>\n",
       "      <td>False</td>\n",
       "    </tr>\n",
       "    <tr>\n",
       "      <th>0</th>\n",
       "      <td>2024</td>\n",
       "      <td>Saoirse Ronan</td>\n",
       "      <td>Rona</td>\n",
       "      <td>The Outrun</td>\n",
       "      <td>False</td>\n",
       "    </tr>\n",
       "  </tbody>\n",
       "</table>\n",
       "<p>79 rows × 5 columns</p>\n",
       "</div>"
      ],
      "text/plain": [
       "     ano                    nome                               personagem  \\\n",
       "0   2010         Natalie Portman                              Nina Sayers   \n",
       "0   2010          Annette Bening                 Dr. Nicole \"Nic\" Allgood   \n",
       "0   2010            Noomi Rapace                         Lisbeth Salander   \n",
       "0   2010        Hailee Steinfeld                              Mattie Ross   \n",
       "0   2011            Meryl Streep                        Margaret Thatcher   \n",
       "..   ...                     ...                                      ...   \n",
       "0   2024           Cynthia Erivo                           Elphaba Thropp   \n",
       "0   2024      Karla Sofía Gascón  Juan \"Manitas\" Del Monte / Emilia Pérez   \n",
       "0   2024  Marianne Jean-Baptiste                             Pansy Deacon   \n",
       "0   2024              Demi Moore                        Elisabeth Sparkle   \n",
       "0   2024           Saoirse Ronan                                     Rona   \n",
       "\n",
       "                              filme ganhou  \n",
       "0                        Black Swan   True  \n",
       "0            The Kids Are All Right  False  \n",
       "0   The Girl with the Dragon Tattoo  False  \n",
       "0                         True Grit  False  \n",
       "0                     The Iron Lady   True  \n",
       "..                              ...    ...  \n",
       "0                            Wicked  False  \n",
       "0                      Emilia Pérez  False  \n",
       "0                       Hard Truths  False  \n",
       "0                     The Substance  False  \n",
       "0                        The Outrun  False  \n",
       "\n",
       "[79 rows x 5 columns]"
      ]
     },
     "execution_count": 46,
     "metadata": {},
     "output_type": "execute_result"
    }
   ],
   "source": [
    "df"
   ]
  },
  {
   "cell_type": "code",
   "execution_count": 41,
   "metadata": {},
   "outputs": [
    {
     "name": "stdout",
     "output_type": "stream",
     "text": [
      "done\n"
     ]
    }
   ],
   "source": [
    "df.to_csv('data/original/bafta.csv', index=False)\n",
    "print('done')"
   ]
  },
  {
   "cell_type": "code",
   "execution_count": null,
   "metadata": {},
   "outputs": [],
   "source": []
  }
 ],
 "metadata": {
  "kernelspec": {
   "display_name": "base",
   "language": "python",
   "name": "python3"
  },
  "language_info": {
   "codemirror_mode": {
    "name": "ipython",
    "version": 3
   },
   "file_extension": ".py",
   "mimetype": "text/x-python",
   "name": "python",
   "nbconvert_exporter": "python",
   "pygments_lexer": "ipython3",
   "version": "3.11.5"
  }
 },
 "nbformat": 4,
 "nbformat_minor": 2
}
