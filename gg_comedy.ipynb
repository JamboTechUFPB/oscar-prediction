{
 "cells": [
  {
   "cell_type": "code",
   "execution_count": null,
   "metadata": {},
   "outputs": [],
   "source": [
    "GG_MC_URL = \"https://en.wikipedia.org/wiki/Golden_Globe_Award_for_Best_Actress_in_a_Motion_Picture_%E2%80%93_Musical_or_Comedy\""
   ]
  },
  {
   "cell_type": "code",
   "execution_count": null,
   "metadata": {},
   "outputs": [],
   "source": [
    "import requests\n",
    "import pandas as pd\n",
    "from bs4 import BeautifulSoup\n",
    "\n",
    "soup = BeautifulSoup(requests.get(GG_MC_URL).text, 'html.parser')\n"
   ]
  },
  {
   "cell_type": "code",
   "execution_count": 4,
   "metadata": {},
   "outputs": [],
   "source": [
    "tables = soup.find_all('table', class_='wikitable sortable')"
   ]
  },
  {
   "cell_type": "code",
   "execution_count": 5,
   "metadata": {},
   "outputs": [],
   "source": [
    "def isWinner(row):\n",
    "    return bool(row.find('td',{'style': 'background:#B0C4DE;'})) "
   ]
  },
  {
   "cell_type": "code",
   "execution_count": 6,
   "metadata": {},
   "outputs": [],
   "source": [
    "df = pd.DataFrame(columns=['ano','nome','personagem','filme','ganhou'])\n",
    "\n",
    "\n",
    "for table in tables:\n",
    "    rows = table.find_all('tr')\n",
    "    current_year = None  \n",
    "    current_filme = None\n",
    "    \n",
    "    for row in rows[1:]:\n",
    "        ano_th = row.find('th', {'style': 'text-align:center;'}) \n",
    "        if not ano_th:\n",
    "             ano_th = row.find('th')\n",
    "        \n",
    "        # Se encontrou um th com o estilo, atualiza o ano atual\n",
    "        if ano_th is not None and ano_th.find('a'):\n",
    "            current_year = ano_th.find('a').text \n",
    "        \n",
    "        ano_atual = current_year\n",
    "        #print(f\"Ano para esta linha: {ano_atual}\")\n",
    "        \n",
    "        tds = row.find_all('td')\n",
    "        nome = tds[0].find('a').text if tds[0].find('a') else None\n",
    "        if nome is None:\n",
    "            nome = tds[0].text.strip()\n",
    "        personagem = tds[1].find('a').text if tds[1].find('a') else None\n",
    "        if personagem is None:\n",
    "             personagem = tds[1].text.strip()\n",
    "        if len(tds) > 2:\n",
    "                filme = tds[2].find('a').text if tds[2].find('a') else None\n",
    "                # Atualiza o filme atual para uso em linhas futuras\n",
    "                if filme:\n",
    "                    current_filme = filme\n",
    "                else:\n",
    "                    # Usa o filme armazenado anteriormente\n",
    "                    filme = current_filme\n",
    "    \n",
    "        ganhou = isWinner(row)\n",
    "    \n",
    "        df = pd.concat(\n",
    "            [\n",
    "                df,\n",
    "                pd.DataFrame(\n",
    "                    {\n",
    "                        'ano': [ano_atual],\n",
    "                        'nome': [nome],\n",
    "                        'personagem': [personagem],\n",
    "                        'filme': [filme],\n",
    "                        'ganhou': [ganhou]\n",
    "                    }\n",
    "                )\n",
    "            ]\n",
    "    )"
   ]
  },
  {
   "cell_type": "code",
   "execution_count": 7,
   "metadata": {},
   "outputs": [
    {
     "data": {
      "application/vnd.microsoft.datawrangler.viewer.v0+json": {
       "columns": [
        {
         "name": "index",
         "rawType": "int64",
         "type": "integer"
        },
        {
         "name": "ano",
         "rawType": "object",
         "type": "string"
        },
        {
         "name": "nome",
         "rawType": "object",
         "type": "string"
        },
        {
         "name": "personagem",
         "rawType": "object",
         "type": "string"
        },
        {
         "name": "filme",
         "rawType": "object",
         "type": "string"
        },
        {
         "name": "ganhou",
         "rawType": "object",
         "type": "unknown"
        }
       ],
       "conversionMethod": "pd.DataFrame",
       "ref": "7dae6ad1-74c7-46a3-b71e-b1d5396163ca",
       "rows": [
        [
         "0",
         "1950",
         "Judy Holliday",
         "Emma \"Billie\" Dawn",
         "Born Yesterday",
         "True"
        ],
        [
         "0",
         "1950",
         "Spring Byington",
         "Louisa Norton",
         "Louisa",
         "False"
        ],
        [
         "0",
         "1950",
         "Betty Hutton",
         "Annie Oakley",
         "Annie Get Your Gun",
         "False"
        ],
        [
         "0",
         "1951",
         "June Allyson",
         "Cynthia Potter",
         "Too Young to Kiss",
         "True"
        ],
        [
         "0",
         "1952",
         "Susan Hayward",
         "Jane Froman",
         "With a Song in My Heart",
         "True"
        ],
        [
         "0",
         "1952",
         "Katharine Hepburn",
         "Pat Pemberton",
         "Pat and Mike",
         "False"
        ],
        [
         "0",
         "1952",
         "Ginger Rogers",
         "Edwina Fulton",
         "Monkey Business",
         "False"
        ],
        [
         "0",
         "1953",
         "Ethel Merman",
         "Sally Adams",
         "Call Me Madam",
         "True"
        ],
        [
         "0",
         "1954",
         "Judy Garland",
         "Esther Blodgett / Vicki Lester",
         "A Star Is Born",
         "True"
        ],
        [
         "0",
         "1955",
         "Jean Simmons",
         "Sarah Brown",
         "Guys and Dolls",
         "True"
        ],
        [
         "0",
         "1956",
         "Deborah Kerr",
         "Anna Leonowens",
         "The King and I",
         "True"
        ],
        [
         "0",
         "1956",
         "Judy Holliday",
         "Laura Partridge",
         "The Solid Gold Cadillac",
         "False"
        ],
        [
         "0",
         "1956",
         "Machiko Kyō",
         "Lotus Blossom",
         "The Teahouse of the August Moon",
         "False"
        ],
        [
         "0",
         "1956",
         "Marilyn Monroe",
         "Chérie",
         "Bus Stop",
         "False"
        ],
        [
         "0",
         "1956",
         "Debbie Reynolds",
         "Polly Parish",
         "Bundle of Joy",
         "False"
        ],
        [
         "0",
         "1957",
         "Taina Elg",
         "Angele Ducros",
         "Les Girls",
         "True"
        ],
        [
         "0",
         "1957",
         "Kay Kendall",
         "Sybil Wren",
         "Les Girls",
         "True"
        ],
        [
         "0",
         "1957",
         "Cyd Charisse",
         "Nina \"Ninotchka\" Yoschenko",
         "Silk Stockings",
         "False"
        ],
        [
         "0",
         "1957",
         "Audrey Hepburn",
         "Ariane Chavasse",
         "Love in the Afternoon",
         "False"
        ],
        [
         "0",
         "1957",
         "Jean Simmons",
         "Anne Leeds",
         "This Could Be the Night",
         "False"
        ],
        [
         "0",
         "1958",
         "Rosalind Russell",
         "Mame Dennis",
         "Auntie Mame",
         "True"
        ],
        [
         "0",
         "1958",
         "Ingrid Bergman",
         "Anna Kalman",
         "Indiscreet",
         "False"
        ],
        [
         "0",
         "1958",
         "Leslie Caron",
         "Gigi",
         "Gigi",
         "False"
        ],
        [
         "0",
         "1958",
         "Doris Day",
         "Isolde Poole",
         "The Tunnel of Love",
         "False"
        ],
        [
         "0",
         "1958",
         "Mitzi Gaynor",
         "Nellie Forbush",
         "South Pacific",
         "False"
        ],
        [
         "0",
         "1959",
         "Marilyn Monroe",
         "Sugar \"Kane\" Kowalczyk",
         "Some Like It Hot",
         "True"
        ],
        [
         "0",
         "1959",
         "Dorothy Dandridge",
         "Bess",
         "Porgy and Bess",
         "False"
        ],
        [
         "0",
         "1959",
         "Doris Day",
         "Jan Morrow",
         "Pillow Talk",
         "False"
        ],
        [
         "0",
         "1959",
         "Shirley MacLaine",
         "Meg Wheeler",
         "Ask Any Girl",
         "False"
        ],
        [
         "0",
         "1959",
         "Lilli Palmer",
         "Kathryn Ward",
         "But Not for Me",
         "False"
        ],
        [
         "0",
         "1960",
         "Shirley MacLaine",
         "Fran Kubelik",
         "The Apartment",
         "True"
        ],
        [
         "0",
         "1960",
         "Lucille Ball",
         "Kitty Weaver",
         "The Facts of Life",
         "False"
        ],
        [
         "0",
         "1960",
         "Capucine",
         "Princess",
         "Song Without End",
         "False"
        ],
        [
         "0",
         "1960",
         "Judy Holliday",
         "Ella Peterson",
         "Bells Are Ringing",
         "False"
        ],
        [
         "0",
         "1960",
         "Sophia Loren",
         "Lucia Curcio",
         "It Started in Naples",
         "False"
        ],
        [
         "0",
         "1961",
         "Rosalind Russell",
         "Bertha Jacoby",
         "A Majority of One",
         "True"
        ],
        [
         "0",
         "1961",
         "Bette Davis",
         "Apple Annie",
         "Pocketful of Miracles",
         "False"
        ],
        [
         "0",
         "1961",
         "Audrey Hepburn",
         "Holly Golightly",
         "Breakfast at Tiffany's",
         "False"
        ],
        [
         "0",
         "1961",
         "Hayley Mills",
         "Susan Evers / Sharon McKendrick",
         "The Parent Trap",
         "False"
        ],
        [
         "0",
         "1961",
         "Miyoshi Umeki",
         "Mei Li",
         "Flower Drum Song",
         "False"
        ],
        [
         "0",
         "1962",
         "Rosalind Russell",
         "Rose Hovick",
         "Gypsy",
         "True"
        ],
        [
         "0",
         "1962",
         "Doris Day",
         "Kitty Wonder",
         "Billy Rose's Jumbo",
         "False"
        ],
        [
         "0",
         "1962",
         "Jane Fonda",
         "Isabel Haverstick",
         "Period of Adjustment",
         "False"
        ],
        [
         "0",
         "1962",
         "Shirley Jones",
         "Marian Paroo",
         "The Music Man",
         "False"
        ],
        [
         "0",
         "1962",
         "Natalie Wood",
         "Louise Hovick / Gypsy Rose Lee",
         "Gypsy",
         "False"
        ],
        [
         "0",
         "1963",
         "Shirley MacLaine",
         "Irma la Douce",
         "Irma la Douce",
         "True"
        ],
        [
         "0",
         "1963",
         "Molly Picon",
         "Sophie Baker",
         "Come Blow Your Horn",
         "False"
        ],
        [
         "0",
         "1963",
         "Jill St. John",
         "Peggy John",
         "Come Blow Your Horn",
         "False"
        ],
        [
         "0",
         "1963",
         "Ann-Margret",
         "Kim MacAffee",
         "Bye Bye Birdie",
         "False"
        ],
        [
         "0",
         "1963",
         "Doris Day",
         "Ellen Wagstaff Arden",
         "Move Over, Darling",
         "False"
        ]
       ],
       "shape": {
        "columns": 5,
        "rows": 365
       }
      },
      "text/html": [
       "<div>\n",
       "<style scoped>\n",
       "    .dataframe tbody tr th:only-of-type {\n",
       "        vertical-align: middle;\n",
       "    }\n",
       "\n",
       "    .dataframe tbody tr th {\n",
       "        vertical-align: top;\n",
       "    }\n",
       "\n",
       "    .dataframe thead th {\n",
       "        text-align: right;\n",
       "    }\n",
       "</style>\n",
       "<table border=\"1\" class=\"dataframe\">\n",
       "  <thead>\n",
       "    <tr style=\"text-align: right;\">\n",
       "      <th></th>\n",
       "      <th>ano</th>\n",
       "      <th>nome</th>\n",
       "      <th>personagem</th>\n",
       "      <th>filme</th>\n",
       "      <th>ganhou</th>\n",
       "    </tr>\n",
       "  </thead>\n",
       "  <tbody>\n",
       "    <tr>\n",
       "      <th>0</th>\n",
       "      <td>1950</td>\n",
       "      <td>Judy Holliday</td>\n",
       "      <td>Emma \"Billie\" Dawn</td>\n",
       "      <td>Born Yesterday</td>\n",
       "      <td>True</td>\n",
       "    </tr>\n",
       "    <tr>\n",
       "      <th>0</th>\n",
       "      <td>1950</td>\n",
       "      <td>Spring Byington</td>\n",
       "      <td>Louisa Norton</td>\n",
       "      <td>Louisa</td>\n",
       "      <td>False</td>\n",
       "    </tr>\n",
       "    <tr>\n",
       "      <th>0</th>\n",
       "      <td>1950</td>\n",
       "      <td>Betty Hutton</td>\n",
       "      <td>Annie Oakley</td>\n",
       "      <td>Annie Get Your Gun</td>\n",
       "      <td>False</td>\n",
       "    </tr>\n",
       "    <tr>\n",
       "      <th>0</th>\n",
       "      <td>1951</td>\n",
       "      <td>June Allyson</td>\n",
       "      <td>Cynthia Potter</td>\n",
       "      <td>Too Young to Kiss</td>\n",
       "      <td>True</td>\n",
       "    </tr>\n",
       "    <tr>\n",
       "      <th>0</th>\n",
       "      <td>1952</td>\n",
       "      <td>Susan Hayward</td>\n",
       "      <td>Jane Froman</td>\n",
       "      <td>With a Song in My Heart</td>\n",
       "      <td>True</td>\n",
       "    </tr>\n",
       "    <tr>\n",
       "      <th>...</th>\n",
       "      <td>...</td>\n",
       "      <td>...</td>\n",
       "      <td>...</td>\n",
       "      <td>...</td>\n",
       "      <td>...</td>\n",
       "    </tr>\n",
       "    <tr>\n",
       "      <th>0</th>\n",
       "      <td>2024</td>\n",
       "      <td>Amy Adams</td>\n",
       "      <td>Mother</td>\n",
       "      <td>Nightbitch</td>\n",
       "      <td>False</td>\n",
       "    </tr>\n",
       "    <tr>\n",
       "      <th>0</th>\n",
       "      <td>2024</td>\n",
       "      <td>Cynthia Erivo</td>\n",
       "      <td>Elphaba Thropp</td>\n",
       "      <td>Wicked</td>\n",
       "      <td>False</td>\n",
       "    </tr>\n",
       "    <tr>\n",
       "      <th>0</th>\n",
       "      <td>2024</td>\n",
       "      <td>Karla Sofía Gascón</td>\n",
       "      <td>Emilia Pérez / Juan \"Manitas\" Del Monte</td>\n",
       "      <td>Emilia Pérez</td>\n",
       "      <td>False</td>\n",
       "    </tr>\n",
       "    <tr>\n",
       "      <th>0</th>\n",
       "      <td>2024</td>\n",
       "      <td>Mikey Madison</td>\n",
       "      <td>Anora \"Ani\" Mikheeva</td>\n",
       "      <td>Anora</td>\n",
       "      <td>False</td>\n",
       "    </tr>\n",
       "    <tr>\n",
       "      <th>0</th>\n",
       "      <td>2024</td>\n",
       "      <td>Zendaya</td>\n",
       "      <td>Tashi Duncan</td>\n",
       "      <td>Challengers</td>\n",
       "      <td>False</td>\n",
       "    </tr>\n",
       "  </tbody>\n",
       "</table>\n",
       "<p>365 rows × 5 columns</p>\n",
       "</div>"
      ],
      "text/plain": [
       "     ano                nome                               personagem  \\\n",
       "0   1950       Judy Holliday                       Emma \"Billie\" Dawn   \n",
       "0   1950     Spring Byington                            Louisa Norton   \n",
       "0   1950        Betty Hutton                             Annie Oakley   \n",
       "0   1951        June Allyson                           Cynthia Potter   \n",
       "0   1952       Susan Hayward                              Jane Froman   \n",
       "..   ...                 ...                                      ...   \n",
       "0   2024           Amy Adams                                   Mother   \n",
       "0   2024       Cynthia Erivo                           Elphaba Thropp   \n",
       "0   2024  Karla Sofía Gascón  Emilia Pérez / Juan \"Manitas\" Del Monte   \n",
       "0   2024       Mikey Madison                     Anora \"Ani\" Mikheeva   \n",
       "0   2024             Zendaya                             Tashi Duncan   \n",
       "\n",
       "                      filme ganhou  \n",
       "0            Born Yesterday   True  \n",
       "0                    Louisa  False  \n",
       "0        Annie Get Your Gun  False  \n",
       "0         Too Young to Kiss   True  \n",
       "0   With a Song in My Heart   True  \n",
       "..                      ...    ...  \n",
       "0                Nightbitch  False  \n",
       "0                    Wicked  False  \n",
       "0              Emilia Pérez  False  \n",
       "0                     Anora  False  \n",
       "0               Challengers  False  \n",
       "\n",
       "[365 rows x 5 columns]"
      ]
     },
     "execution_count": 7,
     "metadata": {},
     "output_type": "execute_result"
    }
   ],
   "source": [
    "df"
   ]
  },
  {
   "cell_type": "code",
   "execution_count": null,
   "metadata": {},
   "outputs": [],
   "source": [
    "df.to_csv('data/original/gg_mc.csv', index=False)"
   ]
  },
  {
   "cell_type": "code",
   "execution_count": null,
   "metadata": {},
   "outputs": [],
   "source": []
  }
 ],
 "metadata": {
  "kernelspec": {
   "display_name": "base",
   "language": "python",
   "name": "python3"
  },
  "language_info": {
   "codemirror_mode": {
    "name": "ipython",
    "version": 3
   },
   "file_extension": ".py",
   "mimetype": "text/x-python",
   "name": "python",
   "nbconvert_exporter": "python",
   "pygments_lexer": "ipython3",
   "version": "3.11.5"
  }
 },
 "nbformat": 4,
 "nbformat_minor": 2
}
