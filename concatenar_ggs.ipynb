{
 "cells": [
  {
   "cell_type": "markdown",
   "metadata": {},
   "source": [
    "Notebook para fazer merge dos dados de indicações de drama e de musical/comedy"
   ]
  },
  {
   "cell_type": "code",
   "execution_count": 9,
   "metadata": {},
   "outputs": [],
   "source": [
    "DATA_ORIGINAL_DIR = \"data/original/\"\n",
    "GG_DRAMA = DATA_ORIGINAL_DIR + \"gg_drama.csv\"\n",
    "GG_MC = DATA_ORIGINAL_DIR + \"gg_mc.csv\""
   ]
  },
  {
   "cell_type": "code",
   "execution_count": 10,
   "metadata": {},
   "outputs": [],
   "source": [
    "import pandas as pd\n",
    "\n",
    "df_drama = pd.read_csv(GG_DRAMA)\n",
    "df_mc = pd.read_csv(GG_MC)"
   ]
  },
  {
   "cell_type": "code",
   "execution_count": 13,
   "metadata": {},
   "outputs": [],
   "source": [
    "df_gg_concatenado = pd.concat([df_drama, df_mc], ignore_index=True)"
   ]
  },
  {
   "cell_type": "code",
   "execution_count": null,
   "metadata": {},
   "outputs": [
    {
     "data": {
      "application/vnd.microsoft.datawrangler.viewer.v0+json": {
       "columns": [
        {
         "name": "index",
         "rawType": "int64",
         "type": "integer"
        },
        {
         "name": "ano",
         "rawType": "int64",
         "type": "integer"
        },
        {
         "name": "nome",
         "rawType": "object",
         "type": "string"
        },
        {
         "name": "personagem",
         "rawType": "object",
         "type": "string"
        },
        {
         "name": "filme",
         "rawType": "object",
         "type": "string"
        },
        {
         "name": "ganhou",
         "rawType": "bool",
         "type": "boolean"
        }
       ],
       "conversionMethod": "pd.DataFrame",
       "ref": "b8460a19-17ff-4faf-8107-1a785949cf83",
       "rows": [
        [
         "0",
         "1943",
         "Jennifer Jones",
         "Bernadette Soubirous",
         "The Song of Bernadette",
         "True"
        ],
        [
         "1",
         "1944",
         "Ingrid Bergman",
         "Paula Alquist Anton",
         "Gaslight",
         "True"
        ],
        [
         "2",
         "1945",
         "Sister Mary Benedict",
         "The Bells of St. Mary's",
         "[3]",
         "True"
        ],
        [
         "3",
         "1946",
         "Rosalind Russell",
         "Sister Elizabeth Kenny",
         "Sister Kenny",
         "True"
        ],
        [
         "4",
         "1947",
         "Rosalind Russell",
         "Lavinia Mannon",
         "Mourning Becomes Electra",
         "True"
        ],
        [
         "5",
         "1948",
         "Jane Wyman",
         "Belinda MacDonald",
         "Johnny Belinda",
         "True"
        ],
        [
         "6",
         "1949",
         "Olivia de Havilland",
         "Catherine Sloper",
         "The Heiress",
         "True"
        ],
        [
         "7",
         "1949",
         "Deborah Kerr",
         "Evelyn Boult",
         "Edward, My Son",
         "False"
        ],
        [
         "8",
         "1950",
         "Bette Davis",
         "Margo Channing",
         "All About Eve",
         "False"
        ],
        [
         "9",
         "1950",
         "Judy Holliday",
         "Billie Dawn",
         "Born Yesterday",
         "False"
        ],
        [
         "10",
         "1950",
         "Gloria Swanson",
         "Norma Desmond",
         "Sunset Boulevard",
         "True"
        ],
        [
         "11",
         "1950",
         "Judy Holliday",
         "Emma \"Billie\" Dawn",
         "Born Yesterday",
         "True"
        ],
        [
         "12",
         "1950",
         "Spring Byington",
         "Louisa Norton",
         "Louisa",
         "False"
        ],
        [
         "13",
         "1950",
         "Betty Hutton",
         "Annie Oakley",
         "Annie Get Your Gun",
         "False"
        ],
        [
         "14",
         "1951",
         "June Allyson",
         "Cynthia Potter",
         "Too Young to Kiss",
         "True"
        ],
        [
         "15",
         "1951",
         "Vivien Leigh",
         "Blanche DuBois",
         "A Streetcar Named Desire",
         "False"
        ],
        [
         "16",
         "1951",
         "Shelley Winters",
         "Alice Tripp",
         "A Place in the Sun",
         "False"
        ],
        [
         "17",
         "1951",
         "Jane Wyman",
         "LouLou Mason",
         "The Blue Veil",
         "True"
        ],
        [
         "18",
         "1952",
         "Shirley Booth",
         "Lola Delaney",
         "Come Back, Little Sheba",
         "True"
        ],
        [
         "19",
         "1952",
         "Olivia de Havilland",
         "Rachel Sangalletti Ashley",
         "My Cousin Rachel",
         "False"
        ],
        [
         "20",
         "1952",
         "Joan Crawford",
         "Myra Hudson",
         "Sudden Fear",
         "False"
        ],
        [
         "21",
         "1952",
         "Susan Hayward",
         "Jane Froman",
         "With a Song in My Heart",
         "True"
        ],
        [
         "22",
         "1952",
         "Ginger Rogers",
         "Edwina Fulton",
         "Monkey Business",
         "False"
        ],
        [
         "23",
         "1952",
         "Katharine Hepburn",
         "Pat Pemberton",
         "Pat and Mike",
         "False"
        ],
        [
         "24",
         "1953",
         "Ethel Merman",
         "Sally Adams",
         "Call Me Madam",
         "True"
        ],
        [
         "25",
         "1953",
         "Audrey Hepburn",
         "Princess Ann (\"Anya Smith\")",
         "Roman Holiday",
         "True"
        ],
        [
         "26",
         "1954",
         "Grace Kelly",
         "Georgie Elgin",
         "The Country Girl",
         "True"
        ],
        [
         "27",
         "1954",
         "Judy Garland",
         "Esther Blodgett / Vicki Lester",
         "A Star Is Born",
         "True"
        ],
        [
         "28",
         "1955",
         "Jean Simmons",
         "Sarah Brown",
         "Guys and Dolls",
         "True"
        ],
        [
         "29",
         "1955",
         "Anna Magnani",
         "Serafina Delle Rose",
         "The Rose Tattoo",
         "True"
        ],
        [
         "30",
         "1956",
         "Judy Holliday",
         "Laura Partridge",
         "The Solid Gold Cadillac",
         "False"
        ],
        [
         "31",
         "1956",
         "Deborah Kerr",
         "Anna Leonowens",
         "The King and I",
         "True"
        ],
        [
         "32",
         "1956",
         "Machiko Kyō",
         "Lotus Blossom",
         "The Teahouse of the August Moon",
         "False"
        ],
        [
         "33",
         "1956",
         "Helen Hayes",
         "Dowager Empress Maria Feodorovona",
         "Anastasia",
         "False"
        ],
        [
         "34",
         "1956",
         "Audrey Hepburn",
         "Natasha Rostova",
         "War and Peace",
         "False"
        ],
        [
         "35",
         "1956",
         "Marilyn Monroe",
         "Chérie",
         "Bus Stop",
         "False"
        ],
        [
         "36",
         "1956",
         "Debbie Reynolds",
         "Polly Parish",
         "Bundle of Joy",
         "False"
        ],
        [
         "37",
         "1956",
         "Ingrid Bergman",
         "Anna Koreff (\"Anastasia\")",
         "Anastasia",
         "True"
        ],
        [
         "38",
         "1956",
         "Carroll Baker",
         "Baby Doll Meighan",
         "Baby Doll",
         "False"
        ],
        [
         "39",
         "1956",
         "Katharine Hepburn",
         "Lizzie Curry",
         "The Rainmaker",
         "False"
        ],
        [
         "40",
         "1957",
         "Eva Marie Saint",
         "Celia Pope",
         "A Hatful of Rain",
         "False"
        ],
        [
         "41",
         "1957",
         "Marlene Dietrich",
         "Christine Vole / Helm",
         "Witness for the Prosecution",
         "False"
        ],
        [
         "42",
         "1957",
         "Deborah Kerr",
         "Sister Angela",
         "Heaven Knows, Mr. Allison",
         "False"
        ],
        [
         "43",
         "1957",
         "Anna Magnani",
         "Gioia",
         "Wild Is the Wind",
         "False"
        ],
        [
         "44",
         "1957",
         "Joanne Woodward",
         "Eve White / Eve Black / Jane",
         "The Three Faces of Eve",
         "True"
        ],
        [
         "45",
         "1957",
         "Jean Simmons",
         "Anne Leeds",
         "This Could Be the Night",
         "False"
        ],
        [
         "46",
         "1957",
         "Taina Elg",
         "Angele Ducros",
         "Les Girls",
         "True"
        ],
        [
         "47",
         "1957",
         "Audrey Hepburn",
         "Ariane Chavasse",
         "Love in the Afternoon",
         "False"
        ],
        [
         "48",
         "1957",
         "Kay Kendall",
         "Sybil Wren",
         "Les Girls",
         "True"
        ],
        [
         "49",
         "1957",
         "Cyd Charisse",
         "Nina \"Ninotchka\" Yoschenko",
         "Silk Stockings",
         "False"
        ]
       ],
       "shape": {
        "columns": 5,
        "rows": 742
       }
      },
      "text/html": [
       "<div>\n",
       "<style scoped>\n",
       "    .dataframe tbody tr th:only-of-type {\n",
       "        vertical-align: middle;\n",
       "    }\n",
       "\n",
       "    .dataframe tbody tr th {\n",
       "        vertical-align: top;\n",
       "    }\n",
       "\n",
       "    .dataframe thead th {\n",
       "        text-align: right;\n",
       "    }\n",
       "</style>\n",
       "<table border=\"1\" class=\"dataframe\">\n",
       "  <thead>\n",
       "    <tr style=\"text-align: right;\">\n",
       "      <th></th>\n",
       "      <th>ano</th>\n",
       "      <th>nome</th>\n",
       "      <th>personagem</th>\n",
       "      <th>filme</th>\n",
       "      <th>ganhou</th>\n",
       "    </tr>\n",
       "  </thead>\n",
       "  <tbody>\n",
       "    <tr>\n",
       "      <th>0</th>\n",
       "      <td>1943</td>\n",
       "      <td>Jennifer Jones</td>\n",
       "      <td>Bernadette Soubirous</td>\n",
       "      <td>The Song of Bernadette</td>\n",
       "      <td>True</td>\n",
       "    </tr>\n",
       "    <tr>\n",
       "      <th>1</th>\n",
       "      <td>1944</td>\n",
       "      <td>Ingrid Bergman</td>\n",
       "      <td>Paula Alquist Anton</td>\n",
       "      <td>Gaslight</td>\n",
       "      <td>True</td>\n",
       "    </tr>\n",
       "    <tr>\n",
       "      <th>2</th>\n",
       "      <td>1945</td>\n",
       "      <td>Sister Mary Benedict</td>\n",
       "      <td>The Bells of St. Mary's</td>\n",
       "      <td>[3]</td>\n",
       "      <td>True</td>\n",
       "    </tr>\n",
       "    <tr>\n",
       "      <th>3</th>\n",
       "      <td>1946</td>\n",
       "      <td>Rosalind Russell</td>\n",
       "      <td>Sister Elizabeth Kenny</td>\n",
       "      <td>Sister Kenny</td>\n",
       "      <td>True</td>\n",
       "    </tr>\n",
       "    <tr>\n",
       "      <th>4</th>\n",
       "      <td>1947</td>\n",
       "      <td>Rosalind Russell</td>\n",
       "      <td>Lavinia Mannon</td>\n",
       "      <td>Mourning Becomes Electra</td>\n",
       "      <td>True</td>\n",
       "    </tr>\n",
       "    <tr>\n",
       "      <th>...</th>\n",
       "      <td>...</td>\n",
       "      <td>...</td>\n",
       "      <td>...</td>\n",
       "      <td>...</td>\n",
       "      <td>...</td>\n",
       "    </tr>\n",
       "    <tr>\n",
       "      <th>737</th>\n",
       "      <td>2024</td>\n",
       "      <td>Pamela Anderson</td>\n",
       "      <td>Shelly Gardner</td>\n",
       "      <td>The Last Showgirl</td>\n",
       "      <td>False</td>\n",
       "    </tr>\n",
       "    <tr>\n",
       "      <th>738</th>\n",
       "      <td>2024</td>\n",
       "      <td>Fernanda Torres</td>\n",
       "      <td>Eunice Paiva</td>\n",
       "      <td>I'm Still Here</td>\n",
       "      <td>True</td>\n",
       "    </tr>\n",
       "    <tr>\n",
       "      <th>739</th>\n",
       "      <td>2024</td>\n",
       "      <td>Kate Winslet</td>\n",
       "      <td>Lee Miller</td>\n",
       "      <td>Lee</td>\n",
       "      <td>False</td>\n",
       "    </tr>\n",
       "    <tr>\n",
       "      <th>740</th>\n",
       "      <td>2024</td>\n",
       "      <td>Nicole Kidman</td>\n",
       "      <td>Romy Mathis</td>\n",
       "      <td>Babygirl</td>\n",
       "      <td>False</td>\n",
       "    </tr>\n",
       "    <tr>\n",
       "      <th>741</th>\n",
       "      <td>2024</td>\n",
       "      <td>Tilda Swinton</td>\n",
       "      <td>Martha Hunt</td>\n",
       "      <td>The Room Next Door</td>\n",
       "      <td>False</td>\n",
       "    </tr>\n",
       "  </tbody>\n",
       "</table>\n",
       "<p>742 rows × 5 columns</p>\n",
       "</div>"
      ],
      "text/plain": [
       "      ano                  nome               personagem  \\\n",
       "0    1943        Jennifer Jones     Bernadette Soubirous   \n",
       "1    1944        Ingrid Bergman      Paula Alquist Anton   \n",
       "2    1945  Sister Mary Benedict  The Bells of St. Mary's   \n",
       "3    1946      Rosalind Russell   Sister Elizabeth Kenny   \n",
       "4    1947      Rosalind Russell           Lavinia Mannon   \n",
       "..    ...                   ...                      ...   \n",
       "737  2024       Pamela Anderson           Shelly Gardner   \n",
       "738  2024       Fernanda Torres             Eunice Paiva   \n",
       "739  2024          Kate Winslet               Lee Miller   \n",
       "740  2024         Nicole Kidman              Romy Mathis   \n",
       "741  2024         Tilda Swinton              Martha Hunt   \n",
       "\n",
       "                        filme  ganhou  \n",
       "0      The Song of Bernadette    True  \n",
       "1                    Gaslight    True  \n",
       "2                         [3]    True  \n",
       "3                Sister Kenny    True  \n",
       "4    Mourning Becomes Electra    True  \n",
       "..                        ...     ...  \n",
       "737         The Last Showgirl   False  \n",
       "738            I'm Still Here    True  \n",
       "739                       Lee   False  \n",
       "740                  Babygirl   False  \n",
       "741        The Room Next Door   False  \n",
       "\n",
       "[742 rows x 5 columns]"
      ]
     },
     "execution_count": 15,
     "metadata": {},
     "output_type": "execute_result"
    }
   ],
   "source": [
    "df_gg_concatenado.sort_values(by='ano', inplace=True)\n",
    "df_gg_concatenado.reset_index(drop=True, inplace=True)\n"
   ]
  },
  {
   "cell_type": "code",
   "execution_count": 17,
   "metadata": {},
   "outputs": [
    {
     "name": "stdout",
     "output_type": "stream",
     "text": [
      "Arquivo data/gg_concatenado.csv gerado com sucesso.\n"
     ]
    }
   ],
   "source": [
    "df_gg_concatenado.to_csv(\"data/original/gg_concatenado.csv\", index=False)\n",
    "print(\"Arquivo data/gg_concatenado.csv gerado com sucesso.\")"
   ]
  }
 ],
 "metadata": {
  "kernelspec": {
   "display_name": "base",
   "language": "python",
   "name": "python3"
  },
  "language_info": {
   "codemirror_mode": {
    "name": "ipython",
    "version": 3
   },
   "file_extension": ".py",
   "mimetype": "text/x-python",
   "name": "python",
   "nbconvert_exporter": "python",
   "pygments_lexer": "ipython3",
   "version": "3.11.5"
  }
 },
 "nbformat": 4,
 "nbformat_minor": 2
}
