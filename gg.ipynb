{
 "cells": [
  {
   "cell_type": "markdown",
   "metadata": {},
   "source": [
    "# Golden Globes Best Actress Analysis"
   ]
  },
  {
   "cell_type": "markdown",
   "metadata": {},
   "source": [
    "According to Google AI overview The Golden Globes, SAG Awards, BAFTAs, and Critics' Choice Awards are some of the awards that influence the Oscars. Therefore, I selected only these four awards for my analysis.\n",
    "\n",
    "I will base my analysis in a range of 10 years (2014-2023)\n",
    "\n",
    "I will probably use logistic regression\n"
   ]
  },
  {
   "cell_type": "code",
   "execution_count": 2,
   "metadata": {},
   "outputs": [],
   "source": [
    "GOLDEN_GLOBES_url = \"https://en.wikipedia.org/wiki/Golden_Globe_Award_for_Best_Actress_in_a_Motion_Picture_%E2%80%93_Drama\""
   ]
  },
  {
   "cell_type": "code",
   "execution_count": 3,
   "metadata": {},
   "outputs": [],
   "source": [
    "import requests\n",
    "import pandas as pd\n",
    "from bs4 import BeautifulSoup\n",
    "\n",
    "soup = BeautifulSoup(requests.get(GOLDEN_GLOBES_url).text, 'html.parser')\n"
   ]
  },
  {
   "cell_type": "code",
   "execution_count": 4,
   "metadata": {},
   "outputs": [],
   "source": [
    "tables = soup.find_all('table', class_='wikitable sortable')\n",
    "\n",
    "golden_globes_2020s = tables[-1]\n",
    "golden_globes_2010s = tables[-2]"
   ]
  },
  {
   "cell_type": "code",
   "execution_count": 5,
   "metadata": {},
   "outputs": [],
   "source": [
    "def isWinner(row):\n",
    "    return bool(row.find('td',{'style': 'background:#B0C4DE;'})) "
   ]
  },
  {
   "cell_type": "code",
   "execution_count": 6,
   "metadata": {},
   "outputs": [],
   "source": [
    "df = pd.DataFrame(columns=['ano','nome','personagem','filme','ganhou'])\n",
    "\n",
    "\n",
    "for table in tables:\n",
    "    rows = table.find_all('tr')\n",
    "    current_year = None  # Variável para armazenar o ano atual\n",
    "    current_filme = None\n",
    "    \n",
    "    for row in rows[1:]:\n",
    "        ano_th = row.find('th', {'style': 'text-align:center;'}) \n",
    "        if not ano_th:\n",
    "             ano_th = row.find('th')\n",
    "        \n",
    "        # Se encontrou um th com o estilo, atualiza o ano atual\n",
    "        if ano_th is not None and ano_th.find('a'):\n",
    "            current_year = ano_th.find('a').text \n",
    "        \n",
    "        # Usa o ano atual para esta linha\n",
    "        ano_atual = current_year\n",
    "        #print(f\"Ano para esta linha: {ano_atual}\")\n",
    "        \n",
    "        # Processa os tds\n",
    "        tds = row.find_all('td')\n",
    "        nome = tds[0].find('a').text if tds[0].find('a') else None\n",
    "        if nome is None:\n",
    "            nome = tds[0].text.strip()\n",
    "        personagem = tds[1].find('a').text if tds[1].find('a') else None\n",
    "        if personagem is None:\n",
    "             personagem = tds[1].text.strip()\n",
    "        if len(tds) > 2:\n",
    "                filme = tds[2].find('a').text if tds[2].find('a') else None\n",
    "                # Atualiza o filme atual para uso em linhas futuras\n",
    "                if filme:\n",
    "                    current_filme = filme\n",
    "                else:\n",
    "                    # Usa o filme armazenado anteriormente\n",
    "                    filme = current_filme\n",
    "    \n",
    "        ganhou = isWinner(row)\n",
    "    \n",
    "        df = pd.concat(\n",
    "            [\n",
    "                df,\n",
    "                pd.DataFrame(\n",
    "                    {\n",
    "                        'ano': [ano_atual],\n",
    "                        'nome': [nome],\n",
    "                        'personagem': [personagem],\n",
    "                        'filme': [filme],\n",
    "                        'ganhou': [ganhou]\n",
    "                    }\n",
    "                )\n",
    "            ]\n",
    "    )"
   ]
  },
  {
   "cell_type": "code",
   "execution_count": 7,
   "metadata": {},
   "outputs": [
    {
     "data": {
      "application/vnd.microsoft.datawrangler.viewer.v0+json": {
       "columns": [
        {
         "name": "index",
         "rawType": "int64",
         "type": "integer"
        },
        {
         "name": "ano",
         "rawType": "object",
         "type": "string"
        },
        {
         "name": "nome",
         "rawType": "object",
         "type": "string"
        },
        {
         "name": "personagem",
         "rawType": "object",
         "type": "string"
        },
        {
         "name": "filme",
         "rawType": "object",
         "type": "string"
        },
        {
         "name": "ganhou",
         "rawType": "object",
         "type": "unknown"
        }
       ],
       "conversionMethod": "pd.DataFrame",
       "ref": "1900bc87-f8aa-40ed-98a6-6a592e71cc8b",
       "rows": [
        [
         "0",
         "1943",
         "Jennifer Jones",
         "Bernadette Soubirous",
         "The Song of Bernadette",
         "True"
        ],
        [
         "0",
         "1944",
         "Ingrid Bergman",
         "Paula Alquist Anton",
         "Gaslight",
         "True"
        ],
        [
         "0",
         "1945",
         "Sister Mary Benedict",
         "The Bells of St. Mary's",
         "[3]",
         "True"
        ],
        [
         "0",
         "1946",
         "Rosalind Russell",
         "Sister Elizabeth Kenny",
         "Sister Kenny",
         "True"
        ],
        [
         "0",
         "1947",
         "Rosalind Russell",
         "Lavinia Mannon",
         "Mourning Becomes Electra",
         "True"
        ],
        [
         "0",
         "1948",
         "Jane Wyman",
         "Belinda MacDonald",
         "Johnny Belinda",
         "True"
        ],
        [
         "0",
         "1949",
         "Olivia de Havilland",
         "Catherine Sloper",
         "The Heiress",
         "True"
        ],
        [
         "0",
         "1949",
         "Deborah Kerr",
         "Evelyn Boult",
         "Edward, My Son",
         "False"
        ],
        [
         "0",
         "1950",
         "Gloria Swanson",
         "Norma Desmond",
         "Sunset Boulevard",
         "True"
        ],
        [
         "0",
         "1950",
         "Bette Davis",
         "Margo Channing",
         "All About Eve",
         "False"
        ],
        [
         "0",
         "1950",
         "Judy Holliday",
         "Billie Dawn",
         "Born Yesterday",
         "False"
        ],
        [
         "0",
         "1951",
         "Jane Wyman",
         "LouLou Mason",
         "The Blue Veil",
         "True"
        ],
        [
         "0",
         "1951",
         "Vivien Leigh",
         "Blanche DuBois",
         "A Streetcar Named Desire",
         "False"
        ],
        [
         "0",
         "1951",
         "Shelley Winters",
         "Alice Tripp",
         "A Place in the Sun",
         "False"
        ],
        [
         "0",
         "1952",
         "Shirley Booth",
         "Lola Delaney",
         "Come Back, Little Sheba",
         "True"
        ],
        [
         "0",
         "1952",
         "Joan Crawford",
         "Myra Hudson",
         "Sudden Fear",
         "False"
        ],
        [
         "0",
         "1952",
         "Olivia de Havilland",
         "Rachel Sangalletti Ashley",
         "My Cousin Rachel",
         "False"
        ],
        [
         "0",
         "1953",
         "Audrey Hepburn",
         "Princess Ann (\"Anya Smith\")",
         "Roman Holiday",
         "True"
        ],
        [
         "0",
         "1954",
         "Grace Kelly",
         "Georgie Elgin",
         "The Country Girl",
         "True"
        ],
        [
         "0",
         "1955",
         "Anna Magnani",
         "Serafina Delle Rose",
         "The Rose Tattoo",
         "True"
        ],
        [
         "0",
         "1956",
         "Ingrid Bergman",
         "Anna Koreff (\"Anastasia\")",
         "Anastasia",
         "True"
        ],
        [
         "0",
         "1956",
         "Carroll Baker",
         "Baby Doll Meighan",
         "Baby Doll",
         "False"
        ],
        [
         "0",
         "1956",
         "Helen Hayes",
         "Dowager Empress Maria Feodorovona",
         "Anastasia",
         "False"
        ],
        [
         "0",
         "1956",
         "Audrey Hepburn",
         "Natasha Rostova",
         "War and Peace",
         "False"
        ],
        [
         "0",
         "1956",
         "Katharine Hepburn",
         "Lizzie Curry",
         "The Rainmaker",
         "False"
        ],
        [
         "0",
         "1957",
         "Joanne Woodward",
         "Eve White / Eve Black / Jane",
         "The Three Faces of Eve",
         "True"
        ],
        [
         "0",
         "1957",
         "Marlene Dietrich",
         "Christine Vole / Helm",
         "Witness for the Prosecution",
         "False"
        ],
        [
         "0",
         "1957",
         "Deborah Kerr",
         "Sister Angela",
         "Heaven Knows, Mr. Allison",
         "False"
        ],
        [
         "0",
         "1957",
         "Anna Magnani",
         "Gioia",
         "Wild Is the Wind",
         "False"
        ],
        [
         "0",
         "1957",
         "Eva Marie Saint",
         "Celia Pope",
         "A Hatful of Rain",
         "False"
        ],
        [
         "0",
         "1958",
         "Susan Hayward",
         "Barbara Graham",
         "I Want to Live!",
         "True"
        ],
        [
         "0",
         "1958",
         "Ingrid Bergman",
         "Gladys Aylward",
         "The Inn of the Sixth Happiness",
         "False"
        ],
        [
         "0",
         "1958",
         "Deborah Kerr",
         "Sibyl Railton-Bell",
         "Separate Tables",
         "False"
        ],
        [
         "0",
         "1958",
         "Shirley MacLaine",
         "Ginny Moorehead",
         "Some Came Running",
         "False"
        ],
        [
         "0",
         "1958",
         "Jean Simmons",
         "Charlotte Bronn",
         "Home Before Dark",
         "False"
        ],
        [
         "0",
         "1959",
         "Elizabeth Taylor",
         "Catherine Holly",
         "Suddenly, Last Summer",
         "True"
        ],
        [
         "0",
         "1959",
         "Audrey Hepburn",
         "Sister Luke",
         "The Nun's Story",
         "False"
        ],
        [
         "0",
         "1959",
         "Katharine Hepburn",
         "Violet Venable",
         "Suddenly, Last Summer",
         "False"
        ],
        [
         "0",
         "1959",
         "Lee Remick",
         "Laura Manion",
         "Anatomy of a Murder",
         "False"
        ],
        [
         "0",
         "1959",
         "Simone Signoret",
         "Alice Aisgill",
         "Room at the Top",
         "False"
        ],
        [
         "0",
         "1960",
         "Greer Garson",
         "Eleanor Roosevelt",
         "Sunrise at Campobello",
         "True"
        ],
        [
         "0",
         "1960",
         "Doris Day",
         "Kit Preston",
         "Midnight Lace",
         "False"
        ],
        [
         "0",
         "1960",
         "Nancy Kwan",
         "Suzie Wong",
         "The World of Suzie Wong",
         "False"
        ],
        [
         "0",
         "1960",
         "Jean Simmons",
         "Sharon Falconer",
         "Elmer Gantry",
         "False"
        ],
        [
         "0",
         "1960",
         "Elizabeth Taylor",
         "Gloria Wandrous",
         "BUtterfield 8",
         "False"
        ],
        [
         "0",
         "1961",
         "Geraldine Page",
         "Alma Winemiller",
         "Summer and Smoke",
         "True"
        ],
        [
         "0",
         "1961",
         "Leslie Caron",
         "Fanny",
         "Fanny",
         "False"
        ],
        [
         "0",
         "1961",
         "Shirley MacLaine",
         "Martha Dobie",
         "The Children's Hour",
         "False"
        ],
        [
         "0",
         "1961",
         "Claudia McNeil",
         "Lena Younger",
         "A Raisin in the Sun",
         "False"
        ],
        [
         "0",
         "1961",
         "Natalie Wood",
         "Deanie Loomis",
         "Splendor in the Grass",
         "False"
        ]
       ],
       "shape": {
        "columns": 5,
        "rows": 377
       }
      },
      "text/html": [
       "<div>\n",
       "<style scoped>\n",
       "    .dataframe tbody tr th:only-of-type {\n",
       "        vertical-align: middle;\n",
       "    }\n",
       "\n",
       "    .dataframe tbody tr th {\n",
       "        vertical-align: top;\n",
       "    }\n",
       "\n",
       "    .dataframe thead th {\n",
       "        text-align: right;\n",
       "    }\n",
       "</style>\n",
       "<table border=\"1\" class=\"dataframe\">\n",
       "  <thead>\n",
       "    <tr style=\"text-align: right;\">\n",
       "      <th></th>\n",
       "      <th>ano</th>\n",
       "      <th>nome</th>\n",
       "      <th>personagem</th>\n",
       "      <th>filme</th>\n",
       "      <th>ganhou</th>\n",
       "    </tr>\n",
       "  </thead>\n",
       "  <tbody>\n",
       "    <tr>\n",
       "      <th>0</th>\n",
       "      <td>1943</td>\n",
       "      <td>Jennifer Jones</td>\n",
       "      <td>Bernadette Soubirous</td>\n",
       "      <td>The Song of Bernadette</td>\n",
       "      <td>True</td>\n",
       "    </tr>\n",
       "    <tr>\n",
       "      <th>0</th>\n",
       "      <td>1944</td>\n",
       "      <td>Ingrid Bergman</td>\n",
       "      <td>Paula Alquist Anton</td>\n",
       "      <td>Gaslight</td>\n",
       "      <td>True</td>\n",
       "    </tr>\n",
       "    <tr>\n",
       "      <th>0</th>\n",
       "      <td>1945</td>\n",
       "      <td>Sister Mary Benedict</td>\n",
       "      <td>The Bells of St. Mary's</td>\n",
       "      <td>[3]</td>\n",
       "      <td>True</td>\n",
       "    </tr>\n",
       "    <tr>\n",
       "      <th>0</th>\n",
       "      <td>1946</td>\n",
       "      <td>Rosalind Russell</td>\n",
       "      <td>Sister Elizabeth Kenny</td>\n",
       "      <td>Sister Kenny</td>\n",
       "      <td>True</td>\n",
       "    </tr>\n",
       "    <tr>\n",
       "      <th>0</th>\n",
       "      <td>1947</td>\n",
       "      <td>Rosalind Russell</td>\n",
       "      <td>Lavinia Mannon</td>\n",
       "      <td>Mourning Becomes Electra</td>\n",
       "      <td>True</td>\n",
       "    </tr>\n",
       "    <tr>\n",
       "      <th>...</th>\n",
       "      <td>...</td>\n",
       "      <td>...</td>\n",
       "      <td>...</td>\n",
       "      <td>...</td>\n",
       "      <td>...</td>\n",
       "    </tr>\n",
       "    <tr>\n",
       "      <th>0</th>\n",
       "      <td>2024</td>\n",
       "      <td>Pamela Anderson</td>\n",
       "      <td>Shelly Gardner</td>\n",
       "      <td>The Last Showgirl</td>\n",
       "      <td>False</td>\n",
       "    </tr>\n",
       "    <tr>\n",
       "      <th>0</th>\n",
       "      <td>2024</td>\n",
       "      <td>Angelina Jolie</td>\n",
       "      <td>Maria Callas</td>\n",
       "      <td>Maria</td>\n",
       "      <td>False</td>\n",
       "    </tr>\n",
       "    <tr>\n",
       "      <th>0</th>\n",
       "      <td>2024</td>\n",
       "      <td>Nicole Kidman</td>\n",
       "      <td>Romy Mathis</td>\n",
       "      <td>Babygirl</td>\n",
       "      <td>False</td>\n",
       "    </tr>\n",
       "    <tr>\n",
       "      <th>0</th>\n",
       "      <td>2024</td>\n",
       "      <td>Tilda Swinton</td>\n",
       "      <td>Martha Hunt</td>\n",
       "      <td>The Room Next Door</td>\n",
       "      <td>False</td>\n",
       "    </tr>\n",
       "    <tr>\n",
       "      <th>0</th>\n",
       "      <td>2024</td>\n",
       "      <td>Kate Winslet</td>\n",
       "      <td>Lee Miller</td>\n",
       "      <td>Lee</td>\n",
       "      <td>False</td>\n",
       "    </tr>\n",
       "  </tbody>\n",
       "</table>\n",
       "<p>377 rows × 5 columns</p>\n",
       "</div>"
      ],
      "text/plain": [
       "     ano                  nome               personagem  \\\n",
       "0   1943        Jennifer Jones     Bernadette Soubirous   \n",
       "0   1944        Ingrid Bergman      Paula Alquist Anton   \n",
       "0   1945  Sister Mary Benedict  The Bells of St. Mary's   \n",
       "0   1946      Rosalind Russell   Sister Elizabeth Kenny   \n",
       "0   1947      Rosalind Russell           Lavinia Mannon   \n",
       "..   ...                   ...                      ...   \n",
       "0   2024       Pamela Anderson           Shelly Gardner   \n",
       "0   2024        Angelina Jolie             Maria Callas   \n",
       "0   2024         Nicole Kidman              Romy Mathis   \n",
       "0   2024         Tilda Swinton              Martha Hunt   \n",
       "0   2024          Kate Winslet               Lee Miller   \n",
       "\n",
       "                       filme ganhou  \n",
       "0     The Song of Bernadette   True  \n",
       "0                   Gaslight   True  \n",
       "0                        [3]   True  \n",
       "0               Sister Kenny   True  \n",
       "0   Mourning Becomes Electra   True  \n",
       "..                       ...    ...  \n",
       "0          The Last Showgirl  False  \n",
       "0                      Maria  False  \n",
       "0                   Babygirl  False  \n",
       "0         The Room Next Door  False  \n",
       "0                        Lee  False  \n",
       "\n",
       "[377 rows x 5 columns]"
      ]
     },
     "execution_count": 7,
     "metadata": {},
     "output_type": "execute_result"
    }
   ],
   "source": [
    "df"
   ]
  },
  {
   "cell_type": "code",
   "execution_count": 8,
   "metadata": {},
   "outputs": [
    {
     "name": "stdout",
     "output_type": "stream",
     "text": [
      "    ano           nome    personagem              filme ganhou\n",
      "0  2020  Vanessa Kirby  Martha Weiss  Pieces of a Woman  False\n"
     ]
    }
   ],
   "source": [
    "print(df[df['nome'] == 'Vanessa Kirby'])"
   ]
  },
  {
   "cell_type": "code",
   "execution_count": 9,
   "metadata": {},
   "outputs": [
    {
     "name": "stdout",
     "output_type": "stream",
     "text": [
      "done\n"
     ]
    }
   ],
   "source": [
    "df.to_csv('data/original/golden_globes.csv', index=False)\n",
    "print('done')"
   ]
  },
  {
   "cell_type": "code",
   "execution_count": null,
   "metadata": {},
   "outputs": [],
   "source": []
  }
 ],
 "metadata": {
  "kernelspec": {
   "display_name": "base",
   "language": "python",
   "name": "python3"
  },
  "language_info": {
   "codemirror_mode": {
    "name": "ipython",
    "version": 3
   },
   "file_extension": ".py",
   "mimetype": "text/x-python",
   "name": "python",
   "nbconvert_exporter": "python",
   "pygments_lexer": "ipython3",
   "version": "3.11.5"
  }
 },
 "nbformat": 4,
 "nbformat_minor": 2
}
